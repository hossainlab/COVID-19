{
 "cells": [
  {
   "cell_type": "code",
   "execution_count": 21,
   "metadata": {},
   "outputs": [],
   "source": [
    "# For Analysis \n",
    "import numpy as np \n",
    "import pandas as pd \n",
    "import geopandas as gpd \n",
    "\n",
    "# DateTime Format \n",
    "from datetime import datetime, timedelta, timezone\n",
    "\n",
    "# Colors \n",
    "import calmap\n",
    "\n",
    "# Grammar of graphics \n",
    "from plotnine import *\n",
    "\n",
    "# 2D Plot \n",
    "import matplotlib.pyplot as plt \n",
    "import matplotlib.dates as mdates\n",
    "import seaborn as sns \n",
    "\n",
    "# Interactive Visualizations \n",
    "import plotly.graph_objects as go\n",
    "from plotly.subplots import make_subplots\n",
    "import plotly.graph_objects as go\n",
    "from plotly.subplots import make_subplots\n",
    "import plotly.express as px \n",
    "import plotly.offline as pyo\n",
    "import plotly.figure_factory as ff "
   ]
  },
  {
   "cell_type": "code",
   "execution_count": 2,
   "metadata": {},
   "outputs": [
    {
     "data": {
      "text/html": [
       "<style type=\"text/css\">\n",
       "table.dataframe td, table.dataframe th {\n",
       "    border: 1px  black solid !important;\n",
       "  color: black !important;\n",
       "}\n",
       "</style>\n"
      ],
      "text/plain": [
       "<IPython.core.display.HTML object>"
      ]
     },
     "metadata": {},
     "output_type": "display_data"
    }
   ],
   "source": [
    "%%HTML\n",
    "<style type=\"text/css\">\n",
    "table.dataframe td, table.dataframe th {\n",
    "    border: 1px  black solid !important;\n",
    "  color: black !important;\n",
    "}\n",
    "</style>"
   ]
  },
  {
   "cell_type": "markdown",
   "metadata": {},
   "source": [
    "## Data Import"
   ]
  },
  {
   "cell_type": "code",
   "execution_count": 3,
   "metadata": {},
   "outputs": [],
   "source": [
    "# Import xlsx file and store each sheet in to a df list\n",
    "xl_file = pd.ExcelFile(\"./data/data.xls\",)\n",
    "dfs = {sheet_name: xl_file.parse(sheet_name) for sheet_name in xl_file.sheet_names}"
   ]
  },
  {
   "cell_type": "code",
   "execution_count": 4,
   "metadata": {},
   "outputs": [],
   "source": [
    "# Data from each sheet can be accessed via key\n",
    "keylist = list(dfs.keys())"
   ]
  },
  {
   "cell_type": "code",
   "execution_count": 5,
   "metadata": {},
   "outputs": [
    {
     "data": {
      "text/plain": [
       "['2020-03-10-06-00',\n",
       " '2020-03-10-04-00',\n",
       " '2020-03-10-02-00',\n",
       " '2020-03-10-00-30',\n",
       " '2020-03-10-00-00',\n",
       " '2020-03-09-22-30',\n",
       " '2020-03-09-21-00',\n",
       " '2020-03-09-19-00',\n",
       " '2020-03-09-18-00']"
      ]
     },
     "execution_count": 5,
     "metadata": {},
     "output_type": "execute_result"
    }
   ],
   "source": [
    "# Examine the sheet name \n",
    "keylist[1:10]"
   ]
  },
  {
   "cell_type": "markdown",
   "metadata": {},
   "source": [
    "## Data Exploring"
   ]
  },
  {
   "cell_type": "code",
   "execution_count": 6,
   "metadata": {},
   "outputs": [
    {
     "data": {
      "text/html": [
       "<div>\n",
       "<style scoped>\n",
       "    .dataframe tbody tr th:only-of-type {\n",
       "        vertical-align: middle;\n",
       "    }\n",
       "\n",
       "    .dataframe tbody tr th {\n",
       "        vertical-align: top;\n",
       "    }\n",
       "\n",
       "    .dataframe thead th {\n",
       "        text-align: right;\n",
       "    }\n",
       "</style>\n",
       "<table border=\"1\" class=\"dataframe\">\n",
       "  <thead>\n",
       "    <tr style=\"text-align: right;\">\n",
       "      <th></th>\n",
       "      <th>Province/State</th>\n",
       "      <th>Country/Region</th>\n",
       "      <th>Last Update</th>\n",
       "      <th>Confirmed</th>\n",
       "      <th>Deaths</th>\n",
       "      <th>Recovered</th>\n",
       "    </tr>\n",
       "  </thead>\n",
       "  <tbody>\n",
       "    <tr>\n",
       "      <td>0</td>\n",
       "      <td>Hubei</td>\n",
       "      <td>Mainland China</td>\n",
       "      <td>3/10/2020 14:30</td>\n",
       "      <td>67760</td>\n",
       "      <td>3024</td>\n",
       "      <td>47741</td>\n",
       "    </tr>\n",
       "    <tr>\n",
       "      <td>1</td>\n",
       "      <td>Guangdong</td>\n",
       "      <td>Mainland China</td>\n",
       "      <td>3/10/2020 14:30</td>\n",
       "      <td>1353</td>\n",
       "      <td>8</td>\n",
       "      <td>1274</td>\n",
       "    </tr>\n",
       "    <tr>\n",
       "      <td>2</td>\n",
       "      <td>Zhejiang</td>\n",
       "      <td>Mainland China</td>\n",
       "      <td>3/10/2020 14:30</td>\n",
       "      <td>1215</td>\n",
       "      <td>1</td>\n",
       "      <td>1191</td>\n",
       "    </tr>\n",
       "    <tr>\n",
       "      <td>3</td>\n",
       "      <td>Shandong</td>\n",
       "      <td>Mainland China</td>\n",
       "      <td>3/10/2020 14:30</td>\n",
       "      <td>758</td>\n",
       "      <td>6</td>\n",
       "      <td>719</td>\n",
       "    </tr>\n",
       "    <tr>\n",
       "      <td>4</td>\n",
       "      <td>Henan</td>\n",
       "      <td>Mainland China</td>\n",
       "      <td>3/10/2020 14:30</td>\n",
       "      <td>1272</td>\n",
       "      <td>22</td>\n",
       "      <td>1247</td>\n",
       "    </tr>\n",
       "    <tr>\n",
       "      <td>5</td>\n",
       "      <td>Anhui</td>\n",
       "      <td>Mainland China</td>\n",
       "      <td>3/10/2020 14:30</td>\n",
       "      <td>990</td>\n",
       "      <td>6</td>\n",
       "      <td>984</td>\n",
       "    </tr>\n",
       "    <tr>\n",
       "      <td>6</td>\n",
       "      <td>Jiangxi</td>\n",
       "      <td>Mainland China</td>\n",
       "      <td>3/10/2020 14:30</td>\n",
       "      <td>935</td>\n",
       "      <td>1</td>\n",
       "      <td>927</td>\n",
       "    </tr>\n",
       "    <tr>\n",
       "      <td>7</td>\n",
       "      <td>Hunan</td>\n",
       "      <td>Mainland China</td>\n",
       "      <td>3/10/2020 14:30</td>\n",
       "      <td>1018</td>\n",
       "      <td>4</td>\n",
       "      <td>990</td>\n",
       "    </tr>\n",
       "    <tr>\n",
       "      <td>8</td>\n",
       "      <td>Heilongjiang</td>\n",
       "      <td>Mainland China</td>\n",
       "      <td>3/10/2020 14:30</td>\n",
       "      <td>481</td>\n",
       "      <td>13</td>\n",
       "      <td>434</td>\n",
       "    </tr>\n",
       "    <tr>\n",
       "      <td>9</td>\n",
       "      <td>Sichuan</td>\n",
       "      <td>Mainland China</td>\n",
       "      <td>3/10/2020 14:30</td>\n",
       "      <td>539</td>\n",
       "      <td>3</td>\n",
       "      <td>478</td>\n",
       "    </tr>\n",
       "    <tr>\n",
       "      <td>10</td>\n",
       "      <td>Chongqing</td>\n",
       "      <td>Mainland China</td>\n",
       "      <td>3/10/2020 14:30</td>\n",
       "      <td>576</td>\n",
       "      <td>6</td>\n",
       "      <td>542</td>\n",
       "    </tr>\n",
       "    <tr>\n",
       "      <td>11</td>\n",
       "      <td>Jiangsu</td>\n",
       "      <td>Mainland China</td>\n",
       "      <td>3/10/2020 14:30</td>\n",
       "      <td>631</td>\n",
       "      <td>0</td>\n",
       "      <td>627</td>\n",
       "    </tr>\n",
       "    <tr>\n",
       "      <td>12</td>\n",
       "      <td>Beijing</td>\n",
       "      <td>Mainland China</td>\n",
       "      <td>3/10/2020 14:30</td>\n",
       "      <td>429</td>\n",
       "      <td>8</td>\n",
       "      <td>320</td>\n",
       "    </tr>\n",
       "    <tr>\n",
       "      <td>13</td>\n",
       "      <td>Guangxi</td>\n",
       "      <td>Mainland China</td>\n",
       "      <td>3/10/2020 14:30</td>\n",
       "      <td>252</td>\n",
       "      <td>2</td>\n",
       "      <td>234</td>\n",
       "    </tr>\n",
       "    <tr>\n",
       "      <td>14</td>\n",
       "      <td>Fujian</td>\n",
       "      <td>Mainland China</td>\n",
       "      <td>3/10/2020 14:30</td>\n",
       "      <td>296</td>\n",
       "      <td>1</td>\n",
       "      <td>295</td>\n",
       "    </tr>\n",
       "    <tr>\n",
       "      <td>15</td>\n",
       "      <td>Shanghai</td>\n",
       "      <td>Mainland China</td>\n",
       "      <td>3/10/2020 14:30</td>\n",
       "      <td>342</td>\n",
       "      <td>3</td>\n",
       "      <td>319</td>\n",
       "    </tr>\n",
       "    <tr>\n",
       "      <td>16</td>\n",
       "      <td>Hebei</td>\n",
       "      <td>Mainland China</td>\n",
       "      <td>3/10/2020 14:30</td>\n",
       "      <td>318</td>\n",
       "      <td>6</td>\n",
       "      <td>307</td>\n",
       "    </tr>\n",
       "    <tr>\n",
       "      <td>17</td>\n",
       "      <td>Shaanxi</td>\n",
       "      <td>Mainland China</td>\n",
       "      <td>3/10/2020 14:30</td>\n",
       "      <td>245</td>\n",
       "      <td>1</td>\n",
       "      <td>227</td>\n",
       "    </tr>\n",
       "    <tr>\n",
       "      <td>18</td>\n",
       "      <td>Yunnan</td>\n",
       "      <td>Mainland China</td>\n",
       "      <td>3/10/2020 14:30</td>\n",
       "      <td>174</td>\n",
       "      <td>2</td>\n",
       "      <td>170</td>\n",
       "    </tr>\n",
       "    <tr>\n",
       "      <td>19</td>\n",
       "      <td>Tianjin</td>\n",
       "      <td>Mainland China</td>\n",
       "      <td>3/10/2020 14:30</td>\n",
       "      <td>136</td>\n",
       "      <td>3</td>\n",
       "      <td>131</td>\n",
       "    </tr>\n",
       "  </tbody>\n",
       "</table>\n",
       "</div>"
      ],
      "text/plain": [
       "   Province/State  Country/Region      Last Update  Confirmed  Deaths  \\\n",
       "0           Hubei  Mainland China  3/10/2020 14:30      67760    3024   \n",
       "1       Guangdong  Mainland China  3/10/2020 14:30       1353       8   \n",
       "2        Zhejiang  Mainland China  3/10/2020 14:30       1215       1   \n",
       "3        Shandong  Mainland China  3/10/2020 14:30        758       6   \n",
       "4           Henan  Mainland China  3/10/2020 14:30       1272      22   \n",
       "5           Anhui  Mainland China  3/10/2020 14:30        990       6   \n",
       "6         Jiangxi  Mainland China  3/10/2020 14:30        935       1   \n",
       "7           Hunan  Mainland China  3/10/2020 14:30       1018       4   \n",
       "8    Heilongjiang  Mainland China  3/10/2020 14:30        481      13   \n",
       "9         Sichuan  Mainland China  3/10/2020 14:30        539       3   \n",
       "10      Chongqing  Mainland China  3/10/2020 14:30        576       6   \n",
       "11        Jiangsu  Mainland China  3/10/2020 14:30        631       0   \n",
       "12        Beijing  Mainland China  3/10/2020 14:30        429       8   \n",
       "13        Guangxi  Mainland China  3/10/2020 14:30        252       2   \n",
       "14         Fujian  Mainland China  3/10/2020 14:30        296       1   \n",
       "15       Shanghai  Mainland China  3/10/2020 14:30        342       3   \n",
       "16          Hebei  Mainland China  3/10/2020 14:30        318       6   \n",
       "17        Shaanxi  Mainland China  3/10/2020 14:30        245       1   \n",
       "18         Yunnan  Mainland China  3/10/2020 14:30        174       2   \n",
       "19        Tianjin  Mainland China  3/10/2020 14:30        136       3   \n",
       "\n",
       "    Recovered  \n",
       "0       47741  \n",
       "1        1274  \n",
       "2        1191  \n",
       "3         719  \n",
       "4        1247  \n",
       "5         984  \n",
       "6         927  \n",
       "7         990  \n",
       "8         434  \n",
       "9         478  \n",
       "10        542  \n",
       "11        627  \n",
       "12        320  \n",
       "13        234  \n",
       "14        295  \n",
       "15        319  \n",
       "16        307  \n",
       "17        227  \n",
       "18        170  \n",
       "19        131  "
      ]
     },
     "execution_count": 6,
     "metadata": {},
     "output_type": "execute_result"
    }
   ],
   "source": [
    "# Examine first few rows \n",
    "dfs[keylist[0]].head(20)"
   ]
  },
  {
   "cell_type": "code",
   "execution_count": 7,
   "metadata": {},
   "outputs": [
    {
     "data": {
      "text/plain": [
       "(191, 6)"
      ]
     },
     "execution_count": 7,
     "metadata": {},
     "output_type": "execute_result"
    }
   ],
   "source": [
    "# Check datamatrix \n",
    "dfs[keylist[0]].shape"
   ]
  },
  {
   "cell_type": "code",
   "execution_count": 8,
   "metadata": {},
   "outputs": [
    {
     "name": "stdout",
     "output_type": "stream",
     "text": [
      "<class 'pandas.core.frame.DataFrame'>\n",
      "RangeIndex: 191 entries, 0 to 190\n",
      "Data columns (total 6 columns):\n",
      "Province/State    85 non-null object\n",
      "Country/Region    191 non-null object\n",
      "Last Update       191 non-null object\n",
      "Confirmed         191 non-null int64\n",
      "Deaths            191 non-null int64\n",
      "Recovered         191 non-null int64\n",
      "dtypes: int64(3), object(3)\n",
      "memory usage: 9.1+ KB\n"
     ]
    }
   ],
   "source": [
    "# Basic info about dataset \n",
    "dfs[keylist[0]].info()"
   ]
  },
  {
   "cell_type": "code",
   "execution_count": 9,
   "metadata": {},
   "outputs": [
    {
     "data": {
      "text/html": [
       "<div>\n",
       "<style scoped>\n",
       "    .dataframe tbody tr th:only-of-type {\n",
       "        vertical-align: middle;\n",
       "    }\n",
       "\n",
       "    .dataframe tbody tr th {\n",
       "        vertical-align: top;\n",
       "    }\n",
       "\n",
       "    .dataframe thead th {\n",
       "        text-align: right;\n",
       "    }\n",
       "</style>\n",
       "<table border=\"1\" class=\"dataframe\">\n",
       "  <thead>\n",
       "    <tr style=\"text-align: right;\">\n",
       "      <th></th>\n",
       "      <th>Confirmed</th>\n",
       "      <th>Deaths</th>\n",
       "      <th>Recovered</th>\n",
       "    </tr>\n",
       "  </thead>\n",
       "  <tbody>\n",
       "    <tr>\n",
       "      <td>count</td>\n",
       "      <td>191.000000</td>\n",
       "      <td>191.000000</td>\n",
       "      <td>191.000000</td>\n",
       "    </tr>\n",
       "    <tr>\n",
       "      <td>mean</td>\n",
       "      <td>620.099476</td>\n",
       "      <td>22.329843</td>\n",
       "      <td>340.722513</td>\n",
       "    </tr>\n",
       "    <tr>\n",
       "      <td>std</td>\n",
       "      <td>5006.670536</td>\n",
       "      <td>224.073252</td>\n",
       "      <td>3460.555515</td>\n",
       "    </tr>\n",
       "    <tr>\n",
       "      <td>min</td>\n",
       "      <td>1.000000</td>\n",
       "      <td>0.000000</td>\n",
       "      <td>0.000000</td>\n",
       "    </tr>\n",
       "    <tr>\n",
       "      <td>25%</td>\n",
       "      <td>4.000000</td>\n",
       "      <td>0.000000</td>\n",
       "      <td>0.000000</td>\n",
       "    </tr>\n",
       "    <tr>\n",
       "      <td>50%</td>\n",
       "      <td>16.000000</td>\n",
       "      <td>0.000000</td>\n",
       "      <td>0.000000</td>\n",
       "    </tr>\n",
       "    <tr>\n",
       "      <td>75%</td>\n",
       "      <td>101.500000</td>\n",
       "      <td>1.000000</td>\n",
       "      <td>11.000000</td>\n",
       "    </tr>\n",
       "    <tr>\n",
       "      <td>max</td>\n",
       "      <td>67760.000000</td>\n",
       "      <td>3024.000000</td>\n",
       "      <td>47741.000000</td>\n",
       "    </tr>\n",
       "  </tbody>\n",
       "</table>\n",
       "</div>"
      ],
      "text/plain": [
       "          Confirmed       Deaths     Recovered\n",
       "count    191.000000   191.000000    191.000000\n",
       "mean     620.099476    22.329843    340.722513\n",
       "std     5006.670536   224.073252   3460.555515\n",
       "min        1.000000     0.000000      0.000000\n",
       "25%        4.000000     0.000000      0.000000\n",
       "50%       16.000000     0.000000      0.000000\n",
       "75%      101.500000     1.000000     11.000000\n",
       "max    67760.000000  3024.000000  47741.000000"
      ]
     },
     "execution_count": 9,
     "metadata": {},
     "output_type": "execute_result"
    }
   ],
   "source": [
    "# Numerical summary of dataset\n",
    "dfs[keylist[0]].describe()"
   ]
  },
  {
   "cell_type": "markdown",
   "metadata": {},
   "source": [
    "## Data Cleaning"
   ]
  },
  {
   "cell_type": "code",
   "execution_count": 10,
   "metadata": {},
   "outputs": [],
   "source": [
    "# Data Cleaning \n",
    "for key, df in dfs.items():\n",
    "    dfs[key].loc[:, 'Confirmed'].fillna(value=0, inplace=True)\n",
    "    dfs[key].loc[:, 'Deaths'].fillna(value=0, inplace=True)\n",
    "    dfs[key].loc[:, 'Recovered'].fillna(value=0, inplace=True)\n",
    "   \n",
    "    # Convert cases into integer\n",
    "    dfs[key] = dfs[key].astype({'Confirmed':'int64', 'Deaths':'int64', 'Recovered':'int64'})\n",
    "    \n",
    "    # Replace \n",
    "    dfs[key] = dfs[key].replace({'Country/Region': 'Mainland China'}, 'China')\n",
    "    dfs[key] = dfs[key].replace({'Country/Region': 'Queensland'}, 'Brisbane')\n",
    "    dfs[key] = dfs[key].replace({'Country/Region': 'New South Wales'}, 'Sydney')\n",
    "    dfs[key] = dfs[key].replace({'Country/Region': 'Victoria'}, 'Melbourne')\n",
    "    dfs[key]=dfs[key].replace({'Province/State':'South Australia'}, 'Adelaide')\n",
    "\n",
    "    # DateTime Format \n",
    "    dfs[key]['Last Update'] = '0' + dfs[key]['Last Update']\n",
    "    dfs[key]['Date_last_updated'] = [datetime.strptime(d, '%m/%d/%Y %H:%M') for d in dfs[key]['Last Update']]"
   ]
  },
  {
   "cell_type": "code",
   "execution_count": 11,
   "metadata": {},
   "outputs": [
    {
     "data": {
      "text/html": [
       "<div>\n",
       "<style scoped>\n",
       "    .dataframe tbody tr th:only-of-type {\n",
       "        vertical-align: middle;\n",
       "    }\n",
       "\n",
       "    .dataframe tbody tr th {\n",
       "        vertical-align: top;\n",
       "    }\n",
       "\n",
       "    .dataframe thead th {\n",
       "        text-align: right;\n",
       "    }\n",
       "</style>\n",
       "<table border=\"1\" class=\"dataframe\">\n",
       "  <thead>\n",
       "    <tr style=\"text-align: right;\">\n",
       "      <th></th>\n",
       "      <th>Province/State</th>\n",
       "      <th>Country/Region</th>\n",
       "      <th>Last Update</th>\n",
       "      <th>Confirmed</th>\n",
       "      <th>Deaths</th>\n",
       "      <th>Recovered</th>\n",
       "      <th>Date_last_updated</th>\n",
       "    </tr>\n",
       "  </thead>\n",
       "  <tbody>\n",
       "    <tr>\n",
       "      <td>0</td>\n",
       "      <td>Hubei</td>\n",
       "      <td>China</td>\n",
       "      <td>03/10/2020 14:30</td>\n",
       "      <td>67760</td>\n",
       "      <td>3024</td>\n",
       "      <td>47741</td>\n",
       "      <td>2020-03-10 14:30:00</td>\n",
       "    </tr>\n",
       "    <tr>\n",
       "      <td>1</td>\n",
       "      <td>Guangdong</td>\n",
       "      <td>China</td>\n",
       "      <td>03/10/2020 14:30</td>\n",
       "      <td>1353</td>\n",
       "      <td>8</td>\n",
       "      <td>1274</td>\n",
       "      <td>2020-03-10 14:30:00</td>\n",
       "    </tr>\n",
       "    <tr>\n",
       "      <td>2</td>\n",
       "      <td>Zhejiang</td>\n",
       "      <td>China</td>\n",
       "      <td>03/10/2020 14:30</td>\n",
       "      <td>1215</td>\n",
       "      <td>1</td>\n",
       "      <td>1191</td>\n",
       "      <td>2020-03-10 14:30:00</td>\n",
       "    </tr>\n",
       "    <tr>\n",
       "      <td>3</td>\n",
       "      <td>Shandong</td>\n",
       "      <td>China</td>\n",
       "      <td>03/10/2020 14:30</td>\n",
       "      <td>758</td>\n",
       "      <td>6</td>\n",
       "      <td>719</td>\n",
       "      <td>2020-03-10 14:30:00</td>\n",
       "    </tr>\n",
       "    <tr>\n",
       "      <td>4</td>\n",
       "      <td>Henan</td>\n",
       "      <td>China</td>\n",
       "      <td>03/10/2020 14:30</td>\n",
       "      <td>1272</td>\n",
       "      <td>22</td>\n",
       "      <td>1247</td>\n",
       "      <td>2020-03-10 14:30:00</td>\n",
       "    </tr>\n",
       "  </tbody>\n",
       "</table>\n",
       "</div>"
      ],
      "text/plain": [
       "  Province/State Country/Region       Last Update  Confirmed  Deaths  \\\n",
       "0          Hubei          China  03/10/2020 14:30      67760    3024   \n",
       "1      Guangdong          China  03/10/2020 14:30       1353       8   \n",
       "2       Zhejiang          China  03/10/2020 14:30       1215       1   \n",
       "3       Shandong          China  03/10/2020 14:30        758       6   \n",
       "4          Henan          China  03/10/2020 14:30       1272      22   \n",
       "\n",
       "   Recovered   Date_last_updated  \n",
       "0      47741 2020-03-10 14:30:00  \n",
       "1       1274 2020-03-10 14:30:00  \n",
       "2       1191 2020-03-10 14:30:00  \n",
       "3        719 2020-03-10 14:30:00  \n",
       "4       1247 2020-03-10 14:30:00  "
      ]
     },
     "execution_count": 11,
     "metadata": {},
     "output_type": "execute_result"
    }
   ],
   "source": [
    "# Take a look at cleaned data \n",
    "dfs[keylist[0]].head()"
   ]
  },
  {
   "cell_type": "markdown",
   "metadata": {},
   "source": [
    "## Creating DataFrame for Cases"
   ]
  },
  {
   "cell_type": "code",
   "execution_count": 12,
   "metadata": {},
   "outputs": [],
   "source": [
    "# Total No. of cases \n",
    "confirmed_cases = dfs[keylist[0]]['Confirmed'].sum()\n",
    "deaths_cases = dfs[keylist[0]]['Deaths'].sum()\n",
    "recovered_cases = dfs[keylist[0]]['Recovered'].sum()"
   ]
  },
  {
   "cell_type": "code",
   "execution_count": 13,
   "metadata": {},
   "outputs": [
    {
     "name": "stdout",
     "output_type": "stream",
     "text": [
      "No. of Confirmed Cases =  118439\n",
      "No. of Death Cases =  4265\n",
      "No. of Recovered Cases =  65078\n"
     ]
    }
   ],
   "source": [
    "# Print the Total no. of cases in first dataset\n",
    "print(\"No. of Confirmed Cases = \", confirmed_cases)\n",
    "print(\"No. of Death Cases = \", deaths_cases)\n",
    "print(\"No. of Recovered Cases = \", recovered_cases)"
   ]
  },
  {
   "cell_type": "markdown",
   "metadata": {},
   "source": [
    "## Confirmed Cases"
   ]
  },
  {
   "cell_type": "code",
   "execution_count": 14,
   "metadata": {},
   "outputs": [],
   "source": [
    "# Construct new dataframe called df_confirmed for line plot \n",
    "DateList = []\n",
    "ChinaList =[]\n",
    "OtherList = []\n",
    "\n",
    "for key, df in dfs.items():\n",
    "    # Group by Country/Region and Sum\n",
    "    dfTemp = df.groupby(['Country/Region'])['Confirmed'].agg(np.sum)\n",
    "    # Make a df with dfTemp index and values and store in dfTemp\n",
    "    dfTemp = pd.DataFrame({'Code':dfTemp.index, 'Confirmed':dfTemp.values})\n",
    "    # Sorting values by Confirmed \n",
    "    dfTemp = dfTemp.sort_values(by='Confirmed', ascending=False).reset_index(drop=True)\n",
    "    # Append dfTemp to DateList in df[0]\n",
    "    DateList.append(df['Date_last_updated'][0])\n",
    "    # Append dfTemp to ChinaList df[0]\n",
    "    ChinaList.append(dfTemp['Confirmed'][0])\n",
    "    # Append dfTemp to Otherlist df[1:]\n",
    "    OtherList.append(dfTemp['Confirmed'][1:].sum())\n",
    "\n",
    "# Make Confirmed dataframe with DateList, ChinaList, OtherList \n",
    "# Column name Date, Mainland China, Other Locations \n",
    "df_confirmed = pd.DataFrame({'Date':DateList,\n",
    "                             'Mainland China':ChinaList,\n",
    "                             'Other locations':OtherList})  \n",
    "\n",
    "\n",
    "# Sorting and index reset \n",
    "df_confirmed['date_day']=[d.date() for d in df_confirmed['Date']]\n",
    "df_confirmed=df_confirmed.groupby(by=df_confirmed['date_day'], sort=False).transform(max).drop_duplicates(['Date'])\n",
    "df_confirmed['Total']=df_confirmed['Mainland China']+df_confirmed['Other locations']\n",
    "df_confirmed=df_confirmed.reset_index(drop=True)"
   ]
  },
  {
   "cell_type": "code",
   "execution_count": 15,
   "metadata": {},
   "outputs": [
    {
     "data": {
      "text/html": [
       "<div>\n",
       "<style scoped>\n",
       "    .dataframe tbody tr th:only-of-type {\n",
       "        vertical-align: middle;\n",
       "    }\n",
       "\n",
       "    .dataframe tbody tr th {\n",
       "        vertical-align: top;\n",
       "    }\n",
       "\n",
       "    .dataframe thead th {\n",
       "        text-align: right;\n",
       "    }\n",
       "</style>\n",
       "<table border=\"1\" class=\"dataframe\">\n",
       "  <thead>\n",
       "    <tr style=\"text-align: right;\">\n",
       "      <th></th>\n",
       "      <th>Date</th>\n",
       "      <th>Mainland China</th>\n",
       "      <th>Other locations</th>\n",
       "      <th>Total</th>\n",
       "    </tr>\n",
       "  </thead>\n",
       "  <tbody>\n",
       "    <tr>\n",
       "      <td>0</td>\n",
       "      <td>2020-03-10 14:30:00</td>\n",
       "      <td>80754</td>\n",
       "      <td>37685</td>\n",
       "      <td>118439</td>\n",
       "    </tr>\n",
       "    <tr>\n",
       "      <td>1</td>\n",
       "      <td>2020-03-09 22:30:00</td>\n",
       "      <td>80754</td>\n",
       "      <td>33717</td>\n",
       "      <td>114471</td>\n",
       "    </tr>\n",
       "    <tr>\n",
       "      <td>2</td>\n",
       "      <td>2020-03-08 22:00:00</td>\n",
       "      <td>80735</td>\n",
       "      <td>29361</td>\n",
       "      <td>110096</td>\n",
       "    </tr>\n",
       "    <tr>\n",
       "      <td>3</td>\n",
       "      <td>2020-03-07 22:00:00</td>\n",
       "      <td>80695</td>\n",
       "      <td>25501</td>\n",
       "      <td>106196</td>\n",
       "    </tr>\n",
       "    <tr>\n",
       "      <td>4</td>\n",
       "      <td>2020-03-06 20:30:00</td>\n",
       "      <td>80651</td>\n",
       "      <td>21391</td>\n",
       "      <td>102042</td>\n",
       "    </tr>\n",
       "  </tbody>\n",
       "</table>\n",
       "</div>"
      ],
      "text/plain": [
       "                 Date  Mainland China  Other locations   Total\n",
       "0 2020-03-10 14:30:00           80754            37685  118439\n",
       "1 2020-03-09 22:30:00           80754            33717  114471\n",
       "2 2020-03-08 22:00:00           80735            29361  110096\n",
       "3 2020-03-07 22:00:00           80695            25501  106196\n",
       "4 2020-03-06 20:30:00           80651            21391  102042"
      ]
     },
     "execution_count": 15,
     "metadata": {},
     "output_type": "execute_result"
    }
   ],
   "source": [
    "# Examine confirmed dataset\n",
    "df_confirmed.head()"
   ]
  },
  {
   "cell_type": "markdown",
   "metadata": {},
   "source": [
    "## Recovered Cases"
   ]
  },
  {
   "cell_type": "code",
   "execution_count": 16,
   "metadata": {},
   "outputs": [],
   "source": [
    "# Construct new dataframe called df_recovered for line plot \n",
    "DateList = []\n",
    "ChinaList =[]\n",
    "OtherList = []\n",
    "\n",
    "for key, df in dfs.items():\n",
    "    # Group by Country/Region and Sum\n",
    "    dfTemp = df.groupby(['Country/Region'])['Recovered'].agg(np.sum)\n",
    "    # Make a df with dfTemp index and values and store in dfTemp\n",
    "    dfTemp = pd.DataFrame({'Code':dfTemp.index, 'Recovered':dfTemp.values})\n",
    "    # Sorting values by Confirmed \n",
    "    dfTemp = dfTemp.sort_values(by='Recovered', ascending=False).reset_index(drop=True)\n",
    "    # Append dfTemp to DateList in df[0]\n",
    "    DateList.append(df['Date_last_updated'][0])\n",
    "    # Append dfTemp to ChinaList df[0]\n",
    "    ChinaList.append(dfTemp['Recovered'][0])\n",
    "    # Append dfTemp to Otherlist df[1:]\n",
    "    OtherList.append(dfTemp['Recovered'][1:].sum())\n",
    "\n",
    "# Make Confirmed dataframe with DateList, ChinaList, OtherList \n",
    "# Column name Date, Mainland China, Other Locations \n",
    "df_recovered = pd.DataFrame({'Date':DateList,\n",
    "                             'Mainland China':ChinaList,\n",
    "                             'Other locations':OtherList})  \n",
    "\n",
    "\n",
    "# Sorting and index reset \n",
    "df_recovered['date_day']=[d.date() for d in df_recovered['Date']]\n",
    "df_recovered=df_recovered.groupby(by=df_recovered['date_day'], sort=False).transform(max).drop_duplicates(['Date'])\n",
    "df_recovered['Total']=df_recovered['Mainland China']+df_recovered['Other locations']\n",
    "df_recovered=df_recovered.reset_index(drop=True)"
   ]
  },
  {
   "cell_type": "code",
   "execution_count": 17,
   "metadata": {},
   "outputs": [
    {
     "data": {
      "text/html": [
       "<div>\n",
       "<style scoped>\n",
       "    .dataframe tbody tr th:only-of-type {\n",
       "        vertical-align: middle;\n",
       "    }\n",
       "\n",
       "    .dataframe tbody tr th {\n",
       "        vertical-align: top;\n",
       "    }\n",
       "\n",
       "    .dataframe thead th {\n",
       "        text-align: right;\n",
       "    }\n",
       "</style>\n",
       "<table border=\"1\" class=\"dataframe\">\n",
       "  <thead>\n",
       "    <tr style=\"text-align: right;\">\n",
       "      <th></th>\n",
       "      <th>Date</th>\n",
       "      <th>Mainland China</th>\n",
       "      <th>Other locations</th>\n",
       "      <th>Total</th>\n",
       "    </tr>\n",
       "  </thead>\n",
       "  <tbody>\n",
       "    <tr>\n",
       "      <td>0</td>\n",
       "      <td>2020-03-10 14:30:00</td>\n",
       "      <td>60096</td>\n",
       "      <td>4982</td>\n",
       "      <td>65078</td>\n",
       "    </tr>\n",
       "    <tr>\n",
       "      <td>1</td>\n",
       "      <td>2020-03-09 22:30:00</td>\n",
       "      <td>59884</td>\n",
       "      <td>4168</td>\n",
       "      <td>64052</td>\n",
       "    </tr>\n",
       "    <tr>\n",
       "      <td>2</td>\n",
       "      <td>2020-03-08 22:00:00</td>\n",
       "      <td>58587</td>\n",
       "      <td>3669</td>\n",
       "      <td>62256</td>\n",
       "    </tr>\n",
       "    <tr>\n",
       "      <td>3</td>\n",
       "      <td>2020-03-07 22:00:00</td>\n",
       "      <td>57053</td>\n",
       "      <td>3068</td>\n",
       "      <td>60121</td>\n",
       "    </tr>\n",
       "    <tr>\n",
       "      <td>4</td>\n",
       "      <td>2020-03-06 20:30:00</td>\n",
       "      <td>55392</td>\n",
       "      <td>2184</td>\n",
       "      <td>57576</td>\n",
       "    </tr>\n",
       "  </tbody>\n",
       "</table>\n",
       "</div>"
      ],
      "text/plain": [
       "                 Date  Mainland China  Other locations  Total\n",
       "0 2020-03-10 14:30:00           60096             4982  65078\n",
       "1 2020-03-09 22:30:00           59884             4168  64052\n",
       "2 2020-03-08 22:00:00           58587             3669  62256\n",
       "3 2020-03-07 22:00:00           57053             3068  60121\n",
       "4 2020-03-06 20:30:00           55392             2184  57576"
      ]
     },
     "execution_count": 17,
     "metadata": {},
     "output_type": "execute_result"
    }
   ],
   "source": [
    "df_recovered.head()"
   ]
  },
  {
   "cell_type": "markdown",
   "metadata": {},
   "source": [
    "## Deaths Cases"
   ]
  },
  {
   "cell_type": "code",
   "execution_count": 18,
   "metadata": {},
   "outputs": [],
   "source": [
    "# Construct new dataframe called df_deaths for line plot \n",
    "DateList = []\n",
    "ChinaList =[]\n",
    "OtherList = []\n",
    "\n",
    "for key, df in dfs.items():\n",
    "    # Group by Country/Region and Sum\n",
    "    dfTemp = df.groupby(['Country/Region'])['Deaths'].agg(np.sum)\n",
    "    # Make a df with dfTemp index and values and store in dfTemp\n",
    "    dfTemp = pd.DataFrame({'Code':dfTemp.index, 'Deaths':dfTemp.values})\n",
    "    # Sorting values by Confirmed \n",
    "    dfTemp = dfTemp.sort_values(by='Deaths', ascending=False).reset_index(drop=True)\n",
    "    # Append dfTemp to DateList in df[0]\n",
    "    DateList.append(df['Date_last_updated'][0])\n",
    "    # Append dfTemp to ChinaList df[0]\n",
    "    ChinaList.append(dfTemp['Deaths'][0])\n",
    "    # Append dfTemp to Otherlist df[1:]\n",
    "    OtherList.append(dfTemp['Deaths'][1:].sum())\n",
    "\n",
    "# Make Confirmed dataframe with DateList, ChinaList, OtherList \n",
    "# Column name Date, Mainland China, Other Locations \n",
    "df_deaths = pd.DataFrame({'Date':DateList,\n",
    "                             'Mainland China':ChinaList,\n",
    "                             'Other locations':OtherList})  \n",
    "\n",
    "\n",
    "# Sorting and index reset \n",
    "df_deaths['date_day']=[d.date() for d in df_deaths['Date']]\n",
    "df_deaths=df_deaths.groupby(by=df_deaths['date_day'], sort=False).transform(max).drop_duplicates(['Date'])\n",
    "df_deaths['Total']=df_deaths['Mainland China']+df_deaths['Other locations']\n",
    "df_deaths=df_deaths.reset_index(drop=True)"
   ]
  },
  {
   "cell_type": "code",
   "execution_count": 19,
   "metadata": {},
   "outputs": [
    {
     "data": {
      "text/html": [
       "<div>\n",
       "<style scoped>\n",
       "    .dataframe tbody tr th:only-of-type {\n",
       "        vertical-align: middle;\n",
       "    }\n",
       "\n",
       "    .dataframe tbody tr th {\n",
       "        vertical-align: top;\n",
       "    }\n",
       "\n",
       "    .dataframe thead th {\n",
       "        text-align: right;\n",
       "    }\n",
       "</style>\n",
       "<table border=\"1\" class=\"dataframe\">\n",
       "  <thead>\n",
       "    <tr style=\"text-align: right;\">\n",
       "      <th></th>\n",
       "      <th>Date</th>\n",
       "      <th>Mainland China</th>\n",
       "      <th>Other locations</th>\n",
       "      <th>Total</th>\n",
       "    </tr>\n",
       "  </thead>\n",
       "  <tbody>\n",
       "    <tr>\n",
       "      <td>0</td>\n",
       "      <td>2020-03-10 14:30:00</td>\n",
       "      <td>3136</td>\n",
       "      <td>1129</td>\n",
       "      <td>4265</td>\n",
       "    </tr>\n",
       "    <tr>\n",
       "      <td>1</td>\n",
       "      <td>2020-03-09 22:30:00</td>\n",
       "      <td>3136</td>\n",
       "      <td>890</td>\n",
       "      <td>4026</td>\n",
       "    </tr>\n",
       "    <tr>\n",
       "      <td>2</td>\n",
       "      <td>2020-03-08 22:00:00</td>\n",
       "      <td>3119</td>\n",
       "      <td>711</td>\n",
       "      <td>3830</td>\n",
       "    </tr>\n",
       "    <tr>\n",
       "      <td>3</td>\n",
       "      <td>2020-03-07 22:00:00</td>\n",
       "      <td>3097</td>\n",
       "      <td>502</td>\n",
       "      <td>3599</td>\n",
       "    </tr>\n",
       "    <tr>\n",
       "      <td>4</td>\n",
       "      <td>2020-03-06 20:30:00</td>\n",
       "      <td>3070</td>\n",
       "      <td>419</td>\n",
       "      <td>3489</td>\n",
       "    </tr>\n",
       "  </tbody>\n",
       "</table>\n",
       "</div>"
      ],
      "text/plain": [
       "                 Date  Mainland China  Other locations  Total\n",
       "0 2020-03-10 14:30:00            3136             1129   4265\n",
       "1 2020-03-09 22:30:00            3136              890   4026\n",
       "2 2020-03-08 22:00:00            3119              711   3830\n",
       "3 2020-03-07 22:00:00            3097              502   3599\n",
       "4 2020-03-06 20:30:00            3070              419   3489"
      ]
     },
     "execution_count": 19,
     "metadata": {},
     "output_type": "execute_result"
    }
   ],
   "source": [
    "df_deaths.head()"
   ]
  },
  {
   "cell_type": "markdown",
   "metadata": {},
   "source": [
    "## Linear & Logarithmic Line Plot for Total Cases, Deaths, Recovered(Worl Wide)"
   ]
  },
  {
   "cell_type": "code",
   "execution_count": 54,
   "metadata": {},
   "outputs": [
    {
     "data": {
      "application/vnd.plotly.v1+json": {
       "config": {
        "plotlyServerURL": "https://plot.ly"
       },
       "data": [
        {
         "hovertemplate": "<b>%{text}</b><br></br>%{hovertext}<extra></extra>",
         "hovertext": [
          "Mainland China confirmed<br>80,754 cases<br>",
          "Mainland China confirmed<br>80,754 cases<br>",
          "Mainland China confirmed<br>80,735 cases<br>",
          "Mainland China confirmed<br>80,695 cases<br>",
          "Mainland China confirmed<br>80,651 cases<br>",
          "Mainland China confirmed<br>80,551 cases<br>",
          "Mainland China confirmed<br>80,408 cases<br>",
          "Mainland China confirmed<br>80,266 cases<br>",
          "Mainland China confirmed<br>80,144 cases<br>",
          "Mainland China confirmed<br>80,026 cases<br>",
          "Mainland China confirmed<br>79,823 cases<br>",
          "Mainland China confirmed<br>79,251 cases<br>",
          "Mainland China confirmed<br>78,824 cases<br>",
          "Mainland China confirmed<br>78,496 cases<br>",
          "Mainland China confirmed<br>78,064 cases<br>",
          "Mainland China confirmed<br>77,658 cases<br>",
          "Mainland China confirmed<br>77,150 cases<br>",
          "Mainland China confirmed<br>76,936 cases<br>",
          "Mainland China confirmed<br>76,290 cases<br>",
          "Mainland China confirmed<br>75,244 cases<br>",
          "Mainland China confirmed<br>74,576 cases<br>",
          "Mainland China confirmed<br>74,183 cases<br>",
          "Mainland China confirmed<br>72,438 cases<br>",
          "Mainland China confirmed<br>70,550 cases<br>",
          "Mainland China confirmed<br>68,500 cases<br>",
          "Mainland China confirmed<br>66,484 cases<br>",
          "Mainland China confirmed<br>63,844 cases<br>",
          "Mainland China confirmed<br>59,804 cases<br>",
          "Mainland China confirmed<br>44,665 cases<br>",
          "Mainland China confirmed<br>42,644 cases<br>",
          "Mainland China confirmed<br>40,160 cases<br>",
          "Mainland China confirmed<br>37,174 cases<br>",
          "Mainland China confirmed<br>34,569 cases<br>",
          "Mainland China confirmed<br>31,130 cases<br>",
          "Mainland China confirmed<br>28,017 cases<br>",
          "Mainland China confirmed<br>23,858 cases<br>",
          "Mainland China confirmed<br>20,014 cases<br>",
          "Mainland China confirmed<br>17,190 cases<br>",
          "Mainland China confirmed<br>14,375 cases<br>",
          "Mainland China confirmed<br>11,221 cases<br>",
          "Mainland China confirmed<br>9,658 cases<br>",
          "Mainland China confirmed<br>7,678 cases<br>",
          "Mainland China confirmed<br>5,970 cases<br>",
          "Mainland China confirmed<br>4,409 cases<br>",
          "Mainland China confirmed<br>2,737 cases<br>",
          "Mainland China confirmed<br>1,979 cases<br>",
          "Mainland China confirmed<br>916 cases<br>",
          "Mainland China confirmed<br>639 cases<br>",
          "Mainland China confirmed<br>549 cases<br>",
          "Mainland China confirmed<br>327 cases<br>"
         ],
         "line": {
          "color": "#921113",
          "width": 3
         },
         "marker": {
          "color": "#f4f4f2",
          "line": {
           "color": "#921113",
           "width": 1
          },
          "size": 8
         },
         "mode": "lines+markers",
         "name": "Mainland China",
         "text": [
          "Mar 10 2020 AEDT",
          "Mar 09 2020 AEDT",
          "Mar 08 2020 AEDT",
          "Mar 07 2020 AEDT",
          "Mar 06 2020 AEDT",
          "Mar 05 2020 AEDT",
          "Mar 04 2020 AEDT",
          "Mar 03 2020 AEDT",
          "Mar 02 2020 AEDT",
          "Mar 01 2020 AEDT",
          "Feb 29 2020 AEDT",
          "Feb 28 2020 AEDT",
          "Feb 27 2020 AEDT",
          "Feb 26 2020 AEDT",
          "Feb 25 2020 AEDT",
          "Feb 24 2020 AEDT",
          "Feb 23 2020 AEDT",
          "Feb 22 2020 AEDT",
          "Feb 21 2020 AEDT",
          "Feb 20 2020 AEDT",
          "Feb 19 2020 AEDT",
          "Feb 18 2020 AEDT",
          "Feb 17 2020 AEDT",
          "Feb 16 2020 AEDT",
          "Feb 15 2020 AEDT",
          "Feb 14 2020 AEDT",
          "Feb 13 2020 AEDT",
          "Feb 12 2020 AEDT",
          "Feb 11 2020 AEDT",
          "Feb 10 2020 AEDT",
          "Feb 09 2020 AEDT",
          "Feb 08 2020 AEDT",
          "Feb 07 2020 AEDT",
          "Feb 06 2020 AEDT",
          "Feb 05 2020 AEDT",
          "Feb 04 2020 AEDT",
          "Feb 03 2020 AEDT",
          "Feb 02 2020 AEDT",
          "Feb 01 2020 AEDT",
          "Jan 31 2020 AEDT",
          "Jan 30 2020 AEDT",
          "Jan 29 2020 AEDT",
          "Jan 28 2020 AEDT",
          "Jan 27 2020 AEDT",
          "Jan 26 2020 AEDT",
          "Jan 25 2020 AEDT",
          "Jan 24 2020 AEDT",
          "Jan 23 2020 AEDT",
          "Jan 22 2020 AEDT",
          "Jan 21 2020 AEDT"
         ],
         "type": "scatter",
         "x": [
          "2020-03-10T14:30:00",
          "2020-03-09T22:30:00",
          "2020-03-08T22:00:00",
          "2020-03-07T22:00:00",
          "2020-03-06T20:30:00",
          "2020-03-05T20:30:00",
          "2020-03-04T22:00:00",
          "2020-03-03T23:30:00",
          "2020-03-02T22:00:00",
          "2020-03-01T23:00:00",
          "2020-02-29T23:00:00",
          "2020-02-28T23:00:00",
          "2020-02-27T22:00:00",
          "2020-02-26T23:30:00",
          "2020-02-25T22:00:00",
          "2020-02-24T23:00:00",
          "2020-02-23T22:00:00",
          "2020-02-22T23:00:00",
          "2020-02-21T23:00:00",
          "2020-02-20T22:00:00",
          "2020-02-19T23:00:00",
          "2020-02-18T23:00:00",
          "2020-02-17T23:00:00",
          "2020-02-16T22:30:00",
          "2020-02-15T23:00:00",
          "2020-02-14T23:00:00",
          "2020-02-13T22:00:00",
          "2020-02-12T21:30:00",
          "2020-02-11T23:00:00",
          "2020-02-10T22:30:00",
          "2020-02-09T23:00:00",
          "2020-02-08T22:00:00",
          "2020-02-07T23:00:00",
          "2020-02-06T21:30:00",
          "2020-02-05T23:00:00",
          "2020-02-04T20:00:00",
          "2020-02-03T20:00:00",
          "2020-02-02T22:00:00",
          "2020-02-01T23:00:00",
          "2020-01-31T19:00:00",
          "2020-01-30T21:30:00",
          "2020-01-29T21:00:00",
          "2020-01-28T23:00:00",
          "2020-01-27T20:30:00",
          "2020-01-26T23:00:00",
          "2020-01-25T22:00:00",
          "2020-01-24T12:00:00",
          "2020-01-23T00:00:00",
          "2020-01-22T00:00:00",
          "2020-01-21T00:00:00"
         ],
         "y": [
          80754,
          80754,
          80735,
          80695,
          80651,
          80551,
          80408,
          80266,
          80144,
          80026,
          79823,
          79251,
          78824,
          78496,
          78064,
          77658,
          77150,
          76936,
          76290,
          75244,
          74576,
          74183,
          72438,
          70550,
          68500,
          66484,
          63844,
          59804,
          44665,
          42644,
          40160,
          37174,
          34569,
          31130,
          28017,
          23858,
          20014,
          17190,
          14375,
          11221,
          9658,
          7678,
          5970,
          4409,
          2737,
          1979,
          916,
          639,
          549,
          327
         ]
        },
        {
         "hovertemplate": "<b>%{text}</b><br></br>%{hovertext}<extra></extra>",
         "hovertext": [
          "Other locations confirmed<br>37,685 cases<br>",
          "Other locations confirmed<br>33,717 cases<br>",
          "Other locations confirmed<br>29,361 cases<br>",
          "Other locations confirmed<br>25,501 cases<br>",
          "Other locations confirmed<br>21,391 cases<br>",
          "Other locations confirmed<br>17,876 cases<br>",
          "Other locations confirmed<br>15,044 cases<br>",
          "Other locations confirmed<br>12,886 cases<br>",
          "Other locations confirmed<br>10,772 cases<br>",
          "Other locations confirmed<br>9,038 cases<br>",
          "Other locations confirmed<br>7,157 cases<br>",
          "Other locations confirmed<br>5,946 cases<br>",
          "Other locations confirmed<br>4,539 cases<br>",
          "Other locations confirmed<br>3,677 cases<br>",
          "Other locations confirmed<br>2,933 cases<br>",
          "Other locations confirmed<br>2,491 cases<br>",
          "Other locations confirmed<br>2,216 cases<br>",
          "Other locations confirmed<br>1,837 cases<br>",
          "Other locations confirmed<br>1,524 cases<br>",
          "Other locations confirmed<br>1,258 cases<br>",
          "Other locations confirmed<br>1,150 cases<br>",
          "Other locations confirmed<br>1,016 cases<br>",
          "Other locations confirmed<br>897 cases<br>",
          "Other locations confirmed<br>785 cases<br>",
          "Other locations confirmed<br>768 cases<br>",
          "Other locations confirmed<br>608 cases<br>",
          "Other locations confirmed<br>587 cases<br>",
          "Other locations confirmed<br>524 cases<br>",
          "Other locations confirmed<br>517 cases<br>",
          "Other locations confirmed<br>463 cases<br>",
          "Other locations confirmed<br>382 cases<br>",
          "Other locations confirmed<br>355 cases<br>",
          "Other locations confirmed<br>332 cases<br>",
          "Other locations confirmed<br>320 cases<br>",
          "Other locations confirmed<br>258 cases<br>",
          "Other locations confirmed<br>214 cases<br>",
          "Other locations confirmed<br>186 cases<br>",
          "Other locations confirmed<br>181 cases<br>",
          "Other locations confirmed<br>174 cases<br>",
          "Other locations confirmed<br>153 cases<br>",
          "Other locations confirmed<br>117 cases<br>",
          "Other locations confirmed<br>105 cases<br>",
          "Other locations confirmed<br>87 cases<br>",
          "Other locations confirmed<br>64 cases<br>",
          "Other locations confirmed<br>57 cases<br>",
          "Other locations confirmed<br>40 cases<br>",
          "Other locations confirmed<br>25 cases<br>",
          "Other locations confirmed<br>16 cases<br>",
          "Other locations confirmed<br>6 cases<br>",
          "Other locations confirmed<br>5 cases<br>"
         ],
         "line": {
          "color": "#eb5254",
          "width": 3
         },
         "marker": {
          "color": "#f4f4f2",
          "line": {
           "color": "#eb5254",
           "width": 1
          },
          "size": 8
         },
         "mode": "lines+markers",
         "name": "Other Region",
         "text": [
          "Mar 10 2020 AEDT",
          "Mar 09 2020 AEDT",
          "Mar 08 2020 AEDT",
          "Mar 07 2020 AEDT",
          "Mar 06 2020 AEDT",
          "Mar 05 2020 AEDT",
          "Mar 04 2020 AEDT",
          "Mar 03 2020 AEDT",
          "Mar 02 2020 AEDT",
          "Mar 01 2020 AEDT",
          "Feb 29 2020 AEDT",
          "Feb 28 2020 AEDT",
          "Feb 27 2020 AEDT",
          "Feb 26 2020 AEDT",
          "Feb 25 2020 AEDT",
          "Feb 24 2020 AEDT",
          "Feb 23 2020 AEDT",
          "Feb 22 2020 AEDT",
          "Feb 21 2020 AEDT",
          "Feb 20 2020 AEDT",
          "Feb 19 2020 AEDT",
          "Feb 18 2020 AEDT",
          "Feb 17 2020 AEDT",
          "Feb 16 2020 AEDT",
          "Feb 15 2020 AEDT",
          "Feb 14 2020 AEDT",
          "Feb 13 2020 AEDT",
          "Feb 12 2020 AEDT",
          "Feb 11 2020 AEDT",
          "Feb 10 2020 AEDT",
          "Feb 09 2020 AEDT",
          "Feb 08 2020 AEDT",
          "Feb 07 2020 AEDT",
          "Feb 06 2020 AEDT",
          "Feb 05 2020 AEDT",
          "Feb 04 2020 AEDT",
          "Feb 03 2020 AEDT",
          "Feb 02 2020 AEDT",
          "Feb 01 2020 AEDT",
          "Jan 31 2020 AEDT",
          "Jan 30 2020 AEDT",
          "Jan 29 2020 AEDT",
          "Jan 28 2020 AEDT",
          "Jan 27 2020 AEDT",
          "Jan 26 2020 AEDT",
          "Jan 25 2020 AEDT",
          "Jan 24 2020 AEDT",
          "Jan 23 2020 AEDT",
          "Jan 22 2020 AEDT",
          "Jan 21 2020 AEDT"
         ],
         "type": "scatter",
         "x": [
          "2020-03-10T14:30:00",
          "2020-03-09T22:30:00",
          "2020-03-08T22:00:00",
          "2020-03-07T22:00:00",
          "2020-03-06T20:30:00",
          "2020-03-05T20:30:00",
          "2020-03-04T22:00:00",
          "2020-03-03T23:30:00",
          "2020-03-02T22:00:00",
          "2020-03-01T23:00:00",
          "2020-02-29T23:00:00",
          "2020-02-28T23:00:00",
          "2020-02-27T22:00:00",
          "2020-02-26T23:30:00",
          "2020-02-25T22:00:00",
          "2020-02-24T23:00:00",
          "2020-02-23T22:00:00",
          "2020-02-22T23:00:00",
          "2020-02-21T23:00:00",
          "2020-02-20T22:00:00",
          "2020-02-19T23:00:00",
          "2020-02-18T23:00:00",
          "2020-02-17T23:00:00",
          "2020-02-16T22:30:00",
          "2020-02-15T23:00:00",
          "2020-02-14T23:00:00",
          "2020-02-13T22:00:00",
          "2020-02-12T21:30:00",
          "2020-02-11T23:00:00",
          "2020-02-10T22:30:00",
          "2020-02-09T23:00:00",
          "2020-02-08T22:00:00",
          "2020-02-07T23:00:00",
          "2020-02-06T21:30:00",
          "2020-02-05T23:00:00",
          "2020-02-04T20:00:00",
          "2020-02-03T20:00:00",
          "2020-02-02T22:00:00",
          "2020-02-01T23:00:00",
          "2020-01-31T19:00:00",
          "2020-01-30T21:30:00",
          "2020-01-29T21:00:00",
          "2020-01-28T23:00:00",
          "2020-01-27T20:30:00",
          "2020-01-26T23:00:00",
          "2020-01-25T22:00:00",
          "2020-01-24T12:00:00",
          "2020-01-23T00:00:00",
          "2020-01-22T00:00:00",
          "2020-01-21T00:00:00"
         ],
         "y": [
          37685,
          33717,
          29361,
          25501,
          21391,
          17876,
          15044,
          12886,
          10772,
          9038,
          7157,
          5946,
          4539,
          3677,
          2933,
          2491,
          2216,
          1837,
          1524,
          1258,
          1150,
          1016,
          897,
          785,
          768,
          608,
          587,
          524,
          517,
          463,
          382,
          355,
          332,
          320,
          258,
          214,
          186,
          181,
          174,
          153,
          117,
          105,
          87,
          64,
          57,
          40,
          25,
          16,
          6,
          5
         ]
        }
       ],
       "layout": {
        "font": {
         "color": "#292929"
        },
        "hovermode": "x",
        "legend": {
         "orientation": "h"
        },
        "margin": {
         "b": 10,
         "l": 10,
         "pad": 0,
         "r": 10,
         "t": 5
        },
        "paper_bgcolor": "#cbd2d3",
        "plot_bgcolor": "#f4f4f2",
        "template": {
         "data": {
          "bar": [
           {
            "error_x": {
             "color": "#2a3f5f"
            },
            "error_y": {
             "color": "#2a3f5f"
            },
            "marker": {
             "line": {
              "color": "#E5ECF6",
              "width": 0.5
             }
            },
            "type": "bar"
           }
          ],
          "barpolar": [
           {
            "marker": {
             "line": {
              "color": "#E5ECF6",
              "width": 0.5
             }
            },
            "type": "barpolar"
           }
          ],
          "carpet": [
           {
            "aaxis": {
             "endlinecolor": "#2a3f5f",
             "gridcolor": "white",
             "linecolor": "white",
             "minorgridcolor": "white",
             "startlinecolor": "#2a3f5f"
            },
            "baxis": {
             "endlinecolor": "#2a3f5f",
             "gridcolor": "white",
             "linecolor": "white",
             "minorgridcolor": "white",
             "startlinecolor": "#2a3f5f"
            },
            "type": "carpet"
           }
          ],
          "choropleth": [
           {
            "colorbar": {
             "outlinewidth": 0,
             "ticks": ""
            },
            "type": "choropleth"
           }
          ],
          "contour": [
           {
            "colorbar": {
             "outlinewidth": 0,
             "ticks": ""
            },
            "colorscale": [
             [
              0,
              "#0d0887"
             ],
             [
              0.1111111111111111,
              "#46039f"
             ],
             [
              0.2222222222222222,
              "#7201a8"
             ],
             [
              0.3333333333333333,
              "#9c179e"
             ],
             [
              0.4444444444444444,
              "#bd3786"
             ],
             [
              0.5555555555555556,
              "#d8576b"
             ],
             [
              0.6666666666666666,
              "#ed7953"
             ],
             [
              0.7777777777777778,
              "#fb9f3a"
             ],
             [
              0.8888888888888888,
              "#fdca26"
             ],
             [
              1,
              "#f0f921"
             ]
            ],
            "type": "contour"
           }
          ],
          "contourcarpet": [
           {
            "colorbar": {
             "outlinewidth": 0,
             "ticks": ""
            },
            "type": "contourcarpet"
           }
          ],
          "heatmap": [
           {
            "colorbar": {
             "outlinewidth": 0,
             "ticks": ""
            },
            "colorscale": [
             [
              0,
              "#0d0887"
             ],
             [
              0.1111111111111111,
              "#46039f"
             ],
             [
              0.2222222222222222,
              "#7201a8"
             ],
             [
              0.3333333333333333,
              "#9c179e"
             ],
             [
              0.4444444444444444,
              "#bd3786"
             ],
             [
              0.5555555555555556,
              "#d8576b"
             ],
             [
              0.6666666666666666,
              "#ed7953"
             ],
             [
              0.7777777777777778,
              "#fb9f3a"
             ],
             [
              0.8888888888888888,
              "#fdca26"
             ],
             [
              1,
              "#f0f921"
             ]
            ],
            "type": "heatmap"
           }
          ],
          "heatmapgl": [
           {
            "colorbar": {
             "outlinewidth": 0,
             "ticks": ""
            },
            "colorscale": [
             [
              0,
              "#0d0887"
             ],
             [
              0.1111111111111111,
              "#46039f"
             ],
             [
              0.2222222222222222,
              "#7201a8"
             ],
             [
              0.3333333333333333,
              "#9c179e"
             ],
             [
              0.4444444444444444,
              "#bd3786"
             ],
             [
              0.5555555555555556,
              "#d8576b"
             ],
             [
              0.6666666666666666,
              "#ed7953"
             ],
             [
              0.7777777777777778,
              "#fb9f3a"
             ],
             [
              0.8888888888888888,
              "#fdca26"
             ],
             [
              1,
              "#f0f921"
             ]
            ],
            "type": "heatmapgl"
           }
          ],
          "histogram": [
           {
            "marker": {
             "colorbar": {
              "outlinewidth": 0,
              "ticks": ""
             }
            },
            "type": "histogram"
           }
          ],
          "histogram2d": [
           {
            "colorbar": {
             "outlinewidth": 0,
             "ticks": ""
            },
            "colorscale": [
             [
              0,
              "#0d0887"
             ],
             [
              0.1111111111111111,
              "#46039f"
             ],
             [
              0.2222222222222222,
              "#7201a8"
             ],
             [
              0.3333333333333333,
              "#9c179e"
             ],
             [
              0.4444444444444444,
              "#bd3786"
             ],
             [
              0.5555555555555556,
              "#d8576b"
             ],
             [
              0.6666666666666666,
              "#ed7953"
             ],
             [
              0.7777777777777778,
              "#fb9f3a"
             ],
             [
              0.8888888888888888,
              "#fdca26"
             ],
             [
              1,
              "#f0f921"
             ]
            ],
            "type": "histogram2d"
           }
          ],
          "histogram2dcontour": [
           {
            "colorbar": {
             "outlinewidth": 0,
             "ticks": ""
            },
            "colorscale": [
             [
              0,
              "#0d0887"
             ],
             [
              0.1111111111111111,
              "#46039f"
             ],
             [
              0.2222222222222222,
              "#7201a8"
             ],
             [
              0.3333333333333333,
              "#9c179e"
             ],
             [
              0.4444444444444444,
              "#bd3786"
             ],
             [
              0.5555555555555556,
              "#d8576b"
             ],
             [
              0.6666666666666666,
              "#ed7953"
             ],
             [
              0.7777777777777778,
              "#fb9f3a"
             ],
             [
              0.8888888888888888,
              "#fdca26"
             ],
             [
              1,
              "#f0f921"
             ]
            ],
            "type": "histogram2dcontour"
           }
          ],
          "mesh3d": [
           {
            "colorbar": {
             "outlinewidth": 0,
             "ticks": ""
            },
            "type": "mesh3d"
           }
          ],
          "parcoords": [
           {
            "line": {
             "colorbar": {
              "outlinewidth": 0,
              "ticks": ""
             }
            },
            "type": "parcoords"
           }
          ],
          "pie": [
           {
            "automargin": true,
            "type": "pie"
           }
          ],
          "scatter": [
           {
            "marker": {
             "colorbar": {
              "outlinewidth": 0,
              "ticks": ""
             }
            },
            "type": "scatter"
           }
          ],
          "scatter3d": [
           {
            "line": {
             "colorbar": {
              "outlinewidth": 0,
              "ticks": ""
             }
            },
            "marker": {
             "colorbar": {
              "outlinewidth": 0,
              "ticks": ""
             }
            },
            "type": "scatter3d"
           }
          ],
          "scattercarpet": [
           {
            "marker": {
             "colorbar": {
              "outlinewidth": 0,
              "ticks": ""
             }
            },
            "type": "scattercarpet"
           }
          ],
          "scattergeo": [
           {
            "marker": {
             "colorbar": {
              "outlinewidth": 0,
              "ticks": ""
             }
            },
            "type": "scattergeo"
           }
          ],
          "scattergl": [
           {
            "marker": {
             "colorbar": {
              "outlinewidth": 0,
              "ticks": ""
             }
            },
            "type": "scattergl"
           }
          ],
          "scattermapbox": [
           {
            "marker": {
             "colorbar": {
              "outlinewidth": 0,
              "ticks": ""
             }
            },
            "type": "scattermapbox"
           }
          ],
          "scatterpolar": [
           {
            "marker": {
             "colorbar": {
              "outlinewidth": 0,
              "ticks": ""
             }
            },
            "type": "scatterpolar"
           }
          ],
          "scatterpolargl": [
           {
            "marker": {
             "colorbar": {
              "outlinewidth": 0,
              "ticks": ""
             }
            },
            "type": "scatterpolargl"
           }
          ],
          "scatterternary": [
           {
            "marker": {
             "colorbar": {
              "outlinewidth": 0,
              "ticks": ""
             }
            },
            "type": "scatterternary"
           }
          ],
          "surface": [
           {
            "colorbar": {
             "outlinewidth": 0,
             "ticks": ""
            },
            "colorscale": [
             [
              0,
              "#0d0887"
             ],
             [
              0.1111111111111111,
              "#46039f"
             ],
             [
              0.2222222222222222,
              "#7201a8"
             ],
             [
              0.3333333333333333,
              "#9c179e"
             ],
             [
              0.4444444444444444,
              "#bd3786"
             ],
             [
              0.5555555555555556,
              "#d8576b"
             ],
             [
              0.6666666666666666,
              "#ed7953"
             ],
             [
              0.7777777777777778,
              "#fb9f3a"
             ],
             [
              0.8888888888888888,
              "#fdca26"
             ],
             [
              1,
              "#f0f921"
             ]
            ],
            "type": "surface"
           }
          ],
          "table": [
           {
            "cells": {
             "fill": {
              "color": "#EBF0F8"
             },
             "line": {
              "color": "white"
             }
            },
            "header": {
             "fill": {
              "color": "#C8D4E3"
             },
             "line": {
              "color": "white"
             }
            },
            "type": "table"
           }
          ]
         },
         "layout": {
          "annotationdefaults": {
           "arrowcolor": "#2a3f5f",
           "arrowhead": 0,
           "arrowwidth": 1
          },
          "coloraxis": {
           "colorbar": {
            "outlinewidth": 0,
            "ticks": ""
           }
          },
          "colorscale": {
           "diverging": [
            [
             0,
             "#8e0152"
            ],
            [
             0.1,
             "#c51b7d"
            ],
            [
             0.2,
             "#de77ae"
            ],
            [
             0.3,
             "#f1b6da"
            ],
            [
             0.4,
             "#fde0ef"
            ],
            [
             0.5,
             "#f7f7f7"
            ],
            [
             0.6,
             "#e6f5d0"
            ],
            [
             0.7,
             "#b8e186"
            ],
            [
             0.8,
             "#7fbc41"
            ],
            [
             0.9,
             "#4d9221"
            ],
            [
             1,
             "#276419"
            ]
           ],
           "sequential": [
            [
             0,
             "#0d0887"
            ],
            [
             0.1111111111111111,
             "#46039f"
            ],
            [
             0.2222222222222222,
             "#7201a8"
            ],
            [
             0.3333333333333333,
             "#9c179e"
            ],
            [
             0.4444444444444444,
             "#bd3786"
            ],
            [
             0.5555555555555556,
             "#d8576b"
            ],
            [
             0.6666666666666666,
             "#ed7953"
            ],
            [
             0.7777777777777778,
             "#fb9f3a"
            ],
            [
             0.8888888888888888,
             "#fdca26"
            ],
            [
             1,
             "#f0f921"
            ]
           ],
           "sequentialminus": [
            [
             0,
             "#0d0887"
            ],
            [
             0.1111111111111111,
             "#46039f"
            ],
            [
             0.2222222222222222,
             "#7201a8"
            ],
            [
             0.3333333333333333,
             "#9c179e"
            ],
            [
             0.4444444444444444,
             "#bd3786"
            ],
            [
             0.5555555555555556,
             "#d8576b"
            ],
            [
             0.6666666666666666,
             "#ed7953"
            ],
            [
             0.7777777777777778,
             "#fb9f3a"
            ],
            [
             0.8888888888888888,
             "#fdca26"
            ],
            [
             1,
             "#f0f921"
            ]
           ]
          },
          "colorway": [
           "#636efa",
           "#EF553B",
           "#00cc96",
           "#ab63fa",
           "#FFA15A",
           "#19d3f3",
           "#FF6692",
           "#B6E880",
           "#FF97FF",
           "#FECB52"
          ],
          "font": {
           "color": "#2a3f5f"
          },
          "geo": {
           "bgcolor": "white",
           "lakecolor": "white",
           "landcolor": "#E5ECF6",
           "showlakes": true,
           "showland": true,
           "subunitcolor": "white"
          },
          "hoverlabel": {
           "align": "left"
          },
          "hovermode": "closest",
          "mapbox": {
           "style": "light"
          },
          "paper_bgcolor": "white",
          "plot_bgcolor": "#E5ECF6",
          "polar": {
           "angularaxis": {
            "gridcolor": "white",
            "linecolor": "white",
            "ticks": ""
           },
           "bgcolor": "#E5ECF6",
           "radialaxis": {
            "gridcolor": "white",
            "linecolor": "white",
            "ticks": ""
           }
          },
          "scene": {
           "xaxis": {
            "backgroundcolor": "#E5ECF6",
            "gridcolor": "white",
            "gridwidth": 2,
            "linecolor": "white",
            "showbackground": true,
            "ticks": "",
            "zerolinecolor": "white"
           },
           "yaxis": {
            "backgroundcolor": "#E5ECF6",
            "gridcolor": "white",
            "gridwidth": 2,
            "linecolor": "white",
            "showbackground": true,
            "ticks": "",
            "zerolinecolor": "white"
           },
           "zaxis": {
            "backgroundcolor": "#E5ECF6",
            "gridcolor": "white",
            "gridwidth": 2,
            "linecolor": "white",
            "showbackground": true,
            "ticks": "",
            "zerolinecolor": "white"
           }
          },
          "shapedefaults": {
           "line": {
            "color": "#2a3f5f"
           }
          },
          "ternary": {
           "aaxis": {
            "gridcolor": "white",
            "linecolor": "white",
            "ticks": ""
           },
           "baxis": {
            "gridcolor": "white",
            "linecolor": "white",
            "ticks": ""
           },
           "bgcolor": "#E5ECF6",
           "caxis": {
            "gridcolor": "white",
            "linecolor": "white",
            "ticks": ""
           }
          },
          "title": {
           "x": 0.05
          },
          "xaxis": {
           "automargin": true,
           "gridcolor": "white",
           "linecolor": "white",
           "ticks": "",
           "title": {
            "standoff": 15
           },
           "zerolinecolor": "white",
           "zerolinewidth": 2
          },
          "yaxis": {
           "automargin": true,
           "gridcolor": "white",
           "linecolor": "white",
           "ticks": "",
           "title": {
            "standoff": 15
           },
           "zerolinecolor": "white",
           "zerolinewidth": 2
          }
         }
        },
        "title": {
         "font": {
          "color": "#292929",
          "family": "Playfair Display",
          "size": 20
         },
         "text": "<b>Confirmed Cases Mainland China and Other Region<b>",
         "x": 0.5,
         "xanchor": "center",
         "y": 0.96,
         "yanchor": "top"
        },
        "xaxis": {
         "gridcolor": "#cbd2d3",
         "gridwidth": 0.1,
         "linecolor": "#272e3e",
         "showline": true,
         "tickformat": "%b %d",
         "zeroline": false
        },
        "yaxis": {
         "gridcolor": "#cbd2d3",
         "gridwidth": 0.1,
         "linecolor": "#272e3e",
         "showline": true,
         "tickmode": "array",
         "ticktext": [
          "0k",
          "2k",
          "4k",
          "6k",
          "8k",
          "10k",
          "12k",
          "14k",
          "16k",
          "18k",
          "20k",
          "22k",
          "24k",
          "26k",
          "28k",
          "30k",
          "32k",
          "34k",
          "36k",
          "38k",
          "40k",
          "42k",
          "44k",
          "46k",
          "48k",
          "50k",
          "52k",
          "54k",
          "56k",
          "58k",
          "60k",
          "62k",
          "64k",
          "66k",
          "68k",
          "70k",
          "72k",
          "74k",
          "76k",
          "78k",
          "80k"
         ],
         "tickvals": [
          0,
          2000,
          4000,
          6000,
          8000,
          10000,
          12000,
          14000,
          16000,
          18000,
          20000,
          22000,
          24000,
          26000,
          28000,
          30000,
          32000,
          34000,
          36000,
          38000,
          40000,
          42000,
          44000,
          46000,
          48000,
          50000,
          52000,
          54000,
          56000,
          58000,
          60000,
          62000,
          64000,
          66000,
          68000,
          70000,
          72000,
          74000,
          76000,
          78000,
          80000
         ],
         "zeroline": false
        }
       }
      },
      "text/html": [
       "<div>\n",
       "        \n",
       "        \n",
       "            <div id=\"f8f8e514-0a0f-41a0-b4ae-9f0059b68e51\" class=\"plotly-graph-div\" style=\"height:525px; width:100%;\"></div>\n",
       "            <script type=\"text/javascript\">\n",
       "                require([\"plotly\"], function(Plotly) {\n",
       "                    window.PLOTLYENV=window.PLOTLYENV || {};\n",
       "                    \n",
       "                if (document.getElementById(\"f8f8e514-0a0f-41a0-b4ae-9f0059b68e51\")) {\n",
       "                    Plotly.newPlot(\n",
       "                        'f8f8e514-0a0f-41a0-b4ae-9f0059b68e51',\n",
       "                        [{\"hovertemplate\": \"<b>%{text}</b><br></br>%{hovertext}<extra></extra>\", \"hovertext\": [\"Mainland China confirmed<br>80,754 cases<br>\", \"Mainland China confirmed<br>80,754 cases<br>\", \"Mainland China confirmed<br>80,735 cases<br>\", \"Mainland China confirmed<br>80,695 cases<br>\", \"Mainland China confirmed<br>80,651 cases<br>\", \"Mainland China confirmed<br>80,551 cases<br>\", \"Mainland China confirmed<br>80,408 cases<br>\", \"Mainland China confirmed<br>80,266 cases<br>\", \"Mainland China confirmed<br>80,144 cases<br>\", \"Mainland China confirmed<br>80,026 cases<br>\", \"Mainland China confirmed<br>79,823 cases<br>\", \"Mainland China confirmed<br>79,251 cases<br>\", \"Mainland China confirmed<br>78,824 cases<br>\", \"Mainland China confirmed<br>78,496 cases<br>\", \"Mainland China confirmed<br>78,064 cases<br>\", \"Mainland China confirmed<br>77,658 cases<br>\", \"Mainland China confirmed<br>77,150 cases<br>\", \"Mainland China confirmed<br>76,936 cases<br>\", \"Mainland China confirmed<br>76,290 cases<br>\", \"Mainland China confirmed<br>75,244 cases<br>\", \"Mainland China confirmed<br>74,576 cases<br>\", \"Mainland China confirmed<br>74,183 cases<br>\", \"Mainland China confirmed<br>72,438 cases<br>\", \"Mainland China confirmed<br>70,550 cases<br>\", \"Mainland China confirmed<br>68,500 cases<br>\", \"Mainland China confirmed<br>66,484 cases<br>\", \"Mainland China confirmed<br>63,844 cases<br>\", \"Mainland China confirmed<br>59,804 cases<br>\", \"Mainland China confirmed<br>44,665 cases<br>\", \"Mainland China confirmed<br>42,644 cases<br>\", \"Mainland China confirmed<br>40,160 cases<br>\", \"Mainland China confirmed<br>37,174 cases<br>\", \"Mainland China confirmed<br>34,569 cases<br>\", \"Mainland China confirmed<br>31,130 cases<br>\", \"Mainland China confirmed<br>28,017 cases<br>\", \"Mainland China confirmed<br>23,858 cases<br>\", \"Mainland China confirmed<br>20,014 cases<br>\", \"Mainland China confirmed<br>17,190 cases<br>\", \"Mainland China confirmed<br>14,375 cases<br>\", \"Mainland China confirmed<br>11,221 cases<br>\", \"Mainland China confirmed<br>9,658 cases<br>\", \"Mainland China confirmed<br>7,678 cases<br>\", \"Mainland China confirmed<br>5,970 cases<br>\", \"Mainland China confirmed<br>4,409 cases<br>\", \"Mainland China confirmed<br>2,737 cases<br>\", \"Mainland China confirmed<br>1,979 cases<br>\", \"Mainland China confirmed<br>916 cases<br>\", \"Mainland China confirmed<br>639 cases<br>\", \"Mainland China confirmed<br>549 cases<br>\", \"Mainland China confirmed<br>327 cases<br>\"], \"line\": {\"color\": \"#921113\", \"width\": 3}, \"marker\": {\"color\": \"#f4f4f2\", \"line\": {\"color\": \"#921113\", \"width\": 1}, \"size\": 8}, \"mode\": \"lines+markers\", \"name\": \"Mainland China\", \"text\": [\"Mar 10 2020 AEDT\", \"Mar 09 2020 AEDT\", \"Mar 08 2020 AEDT\", \"Mar 07 2020 AEDT\", \"Mar 06 2020 AEDT\", \"Mar 05 2020 AEDT\", \"Mar 04 2020 AEDT\", \"Mar 03 2020 AEDT\", \"Mar 02 2020 AEDT\", \"Mar 01 2020 AEDT\", \"Feb 29 2020 AEDT\", \"Feb 28 2020 AEDT\", \"Feb 27 2020 AEDT\", \"Feb 26 2020 AEDT\", \"Feb 25 2020 AEDT\", \"Feb 24 2020 AEDT\", \"Feb 23 2020 AEDT\", \"Feb 22 2020 AEDT\", \"Feb 21 2020 AEDT\", \"Feb 20 2020 AEDT\", \"Feb 19 2020 AEDT\", \"Feb 18 2020 AEDT\", \"Feb 17 2020 AEDT\", \"Feb 16 2020 AEDT\", \"Feb 15 2020 AEDT\", \"Feb 14 2020 AEDT\", \"Feb 13 2020 AEDT\", \"Feb 12 2020 AEDT\", \"Feb 11 2020 AEDT\", \"Feb 10 2020 AEDT\", \"Feb 09 2020 AEDT\", \"Feb 08 2020 AEDT\", \"Feb 07 2020 AEDT\", \"Feb 06 2020 AEDT\", \"Feb 05 2020 AEDT\", \"Feb 04 2020 AEDT\", \"Feb 03 2020 AEDT\", \"Feb 02 2020 AEDT\", \"Feb 01 2020 AEDT\", \"Jan 31 2020 AEDT\", \"Jan 30 2020 AEDT\", \"Jan 29 2020 AEDT\", \"Jan 28 2020 AEDT\", \"Jan 27 2020 AEDT\", \"Jan 26 2020 AEDT\", \"Jan 25 2020 AEDT\", \"Jan 24 2020 AEDT\", \"Jan 23 2020 AEDT\", \"Jan 22 2020 AEDT\", \"Jan 21 2020 AEDT\"], \"type\": \"scatter\", \"x\": [\"2020-03-10T14:30:00\", \"2020-03-09T22:30:00\", \"2020-03-08T22:00:00\", \"2020-03-07T22:00:00\", \"2020-03-06T20:30:00\", \"2020-03-05T20:30:00\", \"2020-03-04T22:00:00\", \"2020-03-03T23:30:00\", \"2020-03-02T22:00:00\", \"2020-03-01T23:00:00\", \"2020-02-29T23:00:00\", \"2020-02-28T23:00:00\", \"2020-02-27T22:00:00\", \"2020-02-26T23:30:00\", \"2020-02-25T22:00:00\", \"2020-02-24T23:00:00\", \"2020-02-23T22:00:00\", \"2020-02-22T23:00:00\", \"2020-02-21T23:00:00\", \"2020-02-20T22:00:00\", \"2020-02-19T23:00:00\", \"2020-02-18T23:00:00\", \"2020-02-17T23:00:00\", \"2020-02-16T22:30:00\", \"2020-02-15T23:00:00\", \"2020-02-14T23:00:00\", \"2020-02-13T22:00:00\", \"2020-02-12T21:30:00\", \"2020-02-11T23:00:00\", \"2020-02-10T22:30:00\", \"2020-02-09T23:00:00\", \"2020-02-08T22:00:00\", \"2020-02-07T23:00:00\", \"2020-02-06T21:30:00\", \"2020-02-05T23:00:00\", \"2020-02-04T20:00:00\", \"2020-02-03T20:00:00\", \"2020-02-02T22:00:00\", \"2020-02-01T23:00:00\", \"2020-01-31T19:00:00\", \"2020-01-30T21:30:00\", \"2020-01-29T21:00:00\", \"2020-01-28T23:00:00\", \"2020-01-27T20:30:00\", \"2020-01-26T23:00:00\", \"2020-01-25T22:00:00\", \"2020-01-24T12:00:00\", \"2020-01-23T00:00:00\", \"2020-01-22T00:00:00\", \"2020-01-21T00:00:00\"], \"y\": [80754, 80754, 80735, 80695, 80651, 80551, 80408, 80266, 80144, 80026, 79823, 79251, 78824, 78496, 78064, 77658, 77150, 76936, 76290, 75244, 74576, 74183, 72438, 70550, 68500, 66484, 63844, 59804, 44665, 42644, 40160, 37174, 34569, 31130, 28017, 23858, 20014, 17190, 14375, 11221, 9658, 7678, 5970, 4409, 2737, 1979, 916, 639, 549, 327]}, {\"hovertemplate\": \"<b>%{text}</b><br></br>%{hovertext}<extra></extra>\", \"hovertext\": [\"Other locations confirmed<br>37,685 cases<br>\", \"Other locations confirmed<br>33,717 cases<br>\", \"Other locations confirmed<br>29,361 cases<br>\", \"Other locations confirmed<br>25,501 cases<br>\", \"Other locations confirmed<br>21,391 cases<br>\", \"Other locations confirmed<br>17,876 cases<br>\", \"Other locations confirmed<br>15,044 cases<br>\", \"Other locations confirmed<br>12,886 cases<br>\", \"Other locations confirmed<br>10,772 cases<br>\", \"Other locations confirmed<br>9,038 cases<br>\", \"Other locations confirmed<br>7,157 cases<br>\", \"Other locations confirmed<br>5,946 cases<br>\", \"Other locations confirmed<br>4,539 cases<br>\", \"Other locations confirmed<br>3,677 cases<br>\", \"Other locations confirmed<br>2,933 cases<br>\", \"Other locations confirmed<br>2,491 cases<br>\", \"Other locations confirmed<br>2,216 cases<br>\", \"Other locations confirmed<br>1,837 cases<br>\", \"Other locations confirmed<br>1,524 cases<br>\", \"Other locations confirmed<br>1,258 cases<br>\", \"Other locations confirmed<br>1,150 cases<br>\", \"Other locations confirmed<br>1,016 cases<br>\", \"Other locations confirmed<br>897 cases<br>\", \"Other locations confirmed<br>785 cases<br>\", \"Other locations confirmed<br>768 cases<br>\", \"Other locations confirmed<br>608 cases<br>\", \"Other locations confirmed<br>587 cases<br>\", \"Other locations confirmed<br>524 cases<br>\", \"Other locations confirmed<br>517 cases<br>\", \"Other locations confirmed<br>463 cases<br>\", \"Other locations confirmed<br>382 cases<br>\", \"Other locations confirmed<br>355 cases<br>\", \"Other locations confirmed<br>332 cases<br>\", \"Other locations confirmed<br>320 cases<br>\", \"Other locations confirmed<br>258 cases<br>\", \"Other locations confirmed<br>214 cases<br>\", \"Other locations confirmed<br>186 cases<br>\", \"Other locations confirmed<br>181 cases<br>\", \"Other locations confirmed<br>174 cases<br>\", \"Other locations confirmed<br>153 cases<br>\", \"Other locations confirmed<br>117 cases<br>\", \"Other locations confirmed<br>105 cases<br>\", \"Other locations confirmed<br>87 cases<br>\", \"Other locations confirmed<br>64 cases<br>\", \"Other locations confirmed<br>57 cases<br>\", \"Other locations confirmed<br>40 cases<br>\", \"Other locations confirmed<br>25 cases<br>\", \"Other locations confirmed<br>16 cases<br>\", \"Other locations confirmed<br>6 cases<br>\", \"Other locations confirmed<br>5 cases<br>\"], \"line\": {\"color\": \"#eb5254\", \"width\": 3}, \"marker\": {\"color\": \"#f4f4f2\", \"line\": {\"color\": \"#eb5254\", \"width\": 1}, \"size\": 8}, \"mode\": \"lines+markers\", \"name\": \"Other Region\", \"text\": [\"Mar 10 2020 AEDT\", \"Mar 09 2020 AEDT\", \"Mar 08 2020 AEDT\", \"Mar 07 2020 AEDT\", \"Mar 06 2020 AEDT\", \"Mar 05 2020 AEDT\", \"Mar 04 2020 AEDT\", \"Mar 03 2020 AEDT\", \"Mar 02 2020 AEDT\", \"Mar 01 2020 AEDT\", \"Feb 29 2020 AEDT\", \"Feb 28 2020 AEDT\", \"Feb 27 2020 AEDT\", \"Feb 26 2020 AEDT\", \"Feb 25 2020 AEDT\", \"Feb 24 2020 AEDT\", \"Feb 23 2020 AEDT\", \"Feb 22 2020 AEDT\", \"Feb 21 2020 AEDT\", \"Feb 20 2020 AEDT\", \"Feb 19 2020 AEDT\", \"Feb 18 2020 AEDT\", \"Feb 17 2020 AEDT\", \"Feb 16 2020 AEDT\", \"Feb 15 2020 AEDT\", \"Feb 14 2020 AEDT\", \"Feb 13 2020 AEDT\", \"Feb 12 2020 AEDT\", \"Feb 11 2020 AEDT\", \"Feb 10 2020 AEDT\", \"Feb 09 2020 AEDT\", \"Feb 08 2020 AEDT\", \"Feb 07 2020 AEDT\", \"Feb 06 2020 AEDT\", \"Feb 05 2020 AEDT\", \"Feb 04 2020 AEDT\", \"Feb 03 2020 AEDT\", \"Feb 02 2020 AEDT\", \"Feb 01 2020 AEDT\", \"Jan 31 2020 AEDT\", \"Jan 30 2020 AEDT\", \"Jan 29 2020 AEDT\", \"Jan 28 2020 AEDT\", \"Jan 27 2020 AEDT\", \"Jan 26 2020 AEDT\", \"Jan 25 2020 AEDT\", \"Jan 24 2020 AEDT\", \"Jan 23 2020 AEDT\", \"Jan 22 2020 AEDT\", \"Jan 21 2020 AEDT\"], \"type\": \"scatter\", \"x\": [\"2020-03-10T14:30:00\", \"2020-03-09T22:30:00\", \"2020-03-08T22:00:00\", \"2020-03-07T22:00:00\", \"2020-03-06T20:30:00\", \"2020-03-05T20:30:00\", \"2020-03-04T22:00:00\", \"2020-03-03T23:30:00\", \"2020-03-02T22:00:00\", \"2020-03-01T23:00:00\", \"2020-02-29T23:00:00\", \"2020-02-28T23:00:00\", \"2020-02-27T22:00:00\", \"2020-02-26T23:30:00\", \"2020-02-25T22:00:00\", \"2020-02-24T23:00:00\", \"2020-02-23T22:00:00\", \"2020-02-22T23:00:00\", \"2020-02-21T23:00:00\", \"2020-02-20T22:00:00\", \"2020-02-19T23:00:00\", \"2020-02-18T23:00:00\", \"2020-02-17T23:00:00\", \"2020-02-16T22:30:00\", \"2020-02-15T23:00:00\", \"2020-02-14T23:00:00\", \"2020-02-13T22:00:00\", \"2020-02-12T21:30:00\", \"2020-02-11T23:00:00\", \"2020-02-10T22:30:00\", \"2020-02-09T23:00:00\", \"2020-02-08T22:00:00\", \"2020-02-07T23:00:00\", \"2020-02-06T21:30:00\", \"2020-02-05T23:00:00\", \"2020-02-04T20:00:00\", \"2020-02-03T20:00:00\", \"2020-02-02T22:00:00\", \"2020-02-01T23:00:00\", \"2020-01-31T19:00:00\", \"2020-01-30T21:30:00\", \"2020-01-29T21:00:00\", \"2020-01-28T23:00:00\", \"2020-01-27T20:30:00\", \"2020-01-26T23:00:00\", \"2020-01-25T22:00:00\", \"2020-01-24T12:00:00\", \"2020-01-23T00:00:00\", \"2020-01-22T00:00:00\", \"2020-01-21T00:00:00\"], \"y\": [37685, 33717, 29361, 25501, 21391, 17876, 15044, 12886, 10772, 9038, 7157, 5946, 4539, 3677, 2933, 2491, 2216, 1837, 1524, 1258, 1150, 1016, 897, 785, 768, 608, 587, 524, 517, 463, 382, 355, 332, 320, 258, 214, 186, 181, 174, 153, 117, 105, 87, 64, 57, 40, 25, 16, 6, 5]}],\n",
       "                        {\"font\": {\"color\": \"#292929\"}, \"hovermode\": \"x\", \"legend\": {\"orientation\": \"h\"}, \"margin\": {\"b\": 10, \"l\": 10, \"pad\": 0, \"r\": 10, \"t\": 5}, \"paper_bgcolor\": \"#cbd2d3\", \"plot_bgcolor\": \"#f4f4f2\", \"template\": {\"data\": {\"bar\": [{\"error_x\": {\"color\": \"#2a3f5f\"}, \"error_y\": {\"color\": \"#2a3f5f\"}, \"marker\": {\"line\": {\"color\": \"#E5ECF6\", \"width\": 0.5}}, \"type\": \"bar\"}], \"barpolar\": [{\"marker\": {\"line\": {\"color\": \"#E5ECF6\", \"width\": 0.5}}, \"type\": \"barpolar\"}], \"carpet\": [{\"aaxis\": {\"endlinecolor\": \"#2a3f5f\", \"gridcolor\": \"white\", \"linecolor\": \"white\", \"minorgridcolor\": \"white\", \"startlinecolor\": \"#2a3f5f\"}, \"baxis\": {\"endlinecolor\": \"#2a3f5f\", \"gridcolor\": \"white\", \"linecolor\": \"white\", \"minorgridcolor\": \"white\", \"startlinecolor\": \"#2a3f5f\"}, \"type\": \"carpet\"}], \"choropleth\": [{\"colorbar\": {\"outlinewidth\": 0, \"ticks\": \"\"}, \"type\": \"choropleth\"}], \"contour\": [{\"colorbar\": {\"outlinewidth\": 0, \"ticks\": \"\"}, \"colorscale\": [[0.0, \"#0d0887\"], [0.1111111111111111, \"#46039f\"], [0.2222222222222222, \"#7201a8\"], [0.3333333333333333, \"#9c179e\"], [0.4444444444444444, \"#bd3786\"], [0.5555555555555556, \"#d8576b\"], [0.6666666666666666, \"#ed7953\"], [0.7777777777777778, \"#fb9f3a\"], [0.8888888888888888, \"#fdca26\"], [1.0, \"#f0f921\"]], \"type\": \"contour\"}], \"contourcarpet\": [{\"colorbar\": {\"outlinewidth\": 0, \"ticks\": \"\"}, \"type\": \"contourcarpet\"}], \"heatmap\": [{\"colorbar\": {\"outlinewidth\": 0, \"ticks\": \"\"}, \"colorscale\": [[0.0, \"#0d0887\"], [0.1111111111111111, \"#46039f\"], [0.2222222222222222, \"#7201a8\"], [0.3333333333333333, \"#9c179e\"], [0.4444444444444444, \"#bd3786\"], [0.5555555555555556, \"#d8576b\"], [0.6666666666666666, \"#ed7953\"], [0.7777777777777778, \"#fb9f3a\"], [0.8888888888888888, \"#fdca26\"], [1.0, \"#f0f921\"]], \"type\": \"heatmap\"}], \"heatmapgl\": [{\"colorbar\": {\"outlinewidth\": 0, \"ticks\": \"\"}, \"colorscale\": [[0.0, \"#0d0887\"], [0.1111111111111111, \"#46039f\"], [0.2222222222222222, \"#7201a8\"], [0.3333333333333333, \"#9c179e\"], [0.4444444444444444, \"#bd3786\"], [0.5555555555555556, \"#d8576b\"], [0.6666666666666666, \"#ed7953\"], [0.7777777777777778, \"#fb9f3a\"], [0.8888888888888888, \"#fdca26\"], [1.0, \"#f0f921\"]], \"type\": \"heatmapgl\"}], \"histogram\": [{\"marker\": {\"colorbar\": {\"outlinewidth\": 0, \"ticks\": \"\"}}, \"type\": \"histogram\"}], \"histogram2d\": [{\"colorbar\": {\"outlinewidth\": 0, \"ticks\": \"\"}, \"colorscale\": [[0.0, \"#0d0887\"], [0.1111111111111111, \"#46039f\"], [0.2222222222222222, \"#7201a8\"], [0.3333333333333333, \"#9c179e\"], [0.4444444444444444, \"#bd3786\"], [0.5555555555555556, \"#d8576b\"], [0.6666666666666666, \"#ed7953\"], [0.7777777777777778, \"#fb9f3a\"], [0.8888888888888888, \"#fdca26\"], [1.0, \"#f0f921\"]], \"type\": \"histogram2d\"}], \"histogram2dcontour\": [{\"colorbar\": {\"outlinewidth\": 0, \"ticks\": \"\"}, \"colorscale\": [[0.0, \"#0d0887\"], [0.1111111111111111, \"#46039f\"], [0.2222222222222222, \"#7201a8\"], [0.3333333333333333, \"#9c179e\"], [0.4444444444444444, \"#bd3786\"], [0.5555555555555556, \"#d8576b\"], [0.6666666666666666, \"#ed7953\"], [0.7777777777777778, \"#fb9f3a\"], [0.8888888888888888, \"#fdca26\"], [1.0, \"#f0f921\"]], \"type\": \"histogram2dcontour\"}], \"mesh3d\": [{\"colorbar\": {\"outlinewidth\": 0, \"ticks\": \"\"}, \"type\": \"mesh3d\"}], \"parcoords\": [{\"line\": {\"colorbar\": {\"outlinewidth\": 0, \"ticks\": \"\"}}, \"type\": \"parcoords\"}], \"pie\": [{\"automargin\": true, \"type\": \"pie\"}], \"scatter\": [{\"marker\": {\"colorbar\": {\"outlinewidth\": 0, \"ticks\": \"\"}}, \"type\": \"scatter\"}], \"scatter3d\": [{\"line\": {\"colorbar\": {\"outlinewidth\": 0, \"ticks\": \"\"}}, \"marker\": {\"colorbar\": {\"outlinewidth\": 0, \"ticks\": \"\"}}, \"type\": \"scatter3d\"}], \"scattercarpet\": [{\"marker\": {\"colorbar\": {\"outlinewidth\": 0, \"ticks\": \"\"}}, \"type\": \"scattercarpet\"}], \"scattergeo\": [{\"marker\": {\"colorbar\": {\"outlinewidth\": 0, \"ticks\": \"\"}}, \"type\": \"scattergeo\"}], \"scattergl\": [{\"marker\": {\"colorbar\": {\"outlinewidth\": 0, \"ticks\": \"\"}}, \"type\": \"scattergl\"}], \"scattermapbox\": [{\"marker\": {\"colorbar\": {\"outlinewidth\": 0, \"ticks\": \"\"}}, \"type\": \"scattermapbox\"}], \"scatterpolar\": [{\"marker\": {\"colorbar\": {\"outlinewidth\": 0, \"ticks\": \"\"}}, \"type\": \"scatterpolar\"}], \"scatterpolargl\": [{\"marker\": {\"colorbar\": {\"outlinewidth\": 0, \"ticks\": \"\"}}, \"type\": \"scatterpolargl\"}], \"scatterternary\": [{\"marker\": {\"colorbar\": {\"outlinewidth\": 0, \"ticks\": \"\"}}, \"type\": \"scatterternary\"}], \"surface\": [{\"colorbar\": {\"outlinewidth\": 0, \"ticks\": \"\"}, \"colorscale\": [[0.0, \"#0d0887\"], [0.1111111111111111, \"#46039f\"], [0.2222222222222222, \"#7201a8\"], [0.3333333333333333, \"#9c179e\"], [0.4444444444444444, \"#bd3786\"], [0.5555555555555556, \"#d8576b\"], [0.6666666666666666, \"#ed7953\"], [0.7777777777777778, \"#fb9f3a\"], [0.8888888888888888, \"#fdca26\"], [1.0, \"#f0f921\"]], \"type\": \"surface\"}], \"table\": [{\"cells\": {\"fill\": {\"color\": \"#EBF0F8\"}, \"line\": {\"color\": \"white\"}}, \"header\": {\"fill\": {\"color\": \"#C8D4E3\"}, \"line\": {\"color\": \"white\"}}, \"type\": \"table\"}]}, \"layout\": {\"annotationdefaults\": {\"arrowcolor\": \"#2a3f5f\", \"arrowhead\": 0, \"arrowwidth\": 1}, \"coloraxis\": {\"colorbar\": {\"outlinewidth\": 0, \"ticks\": \"\"}}, \"colorscale\": {\"diverging\": [[0, \"#8e0152\"], [0.1, \"#c51b7d\"], [0.2, \"#de77ae\"], [0.3, \"#f1b6da\"], [0.4, \"#fde0ef\"], [0.5, \"#f7f7f7\"], [0.6, \"#e6f5d0\"], [0.7, \"#b8e186\"], [0.8, \"#7fbc41\"], [0.9, \"#4d9221\"], [1, \"#276419\"]], \"sequential\": [[0.0, \"#0d0887\"], [0.1111111111111111, \"#46039f\"], [0.2222222222222222, \"#7201a8\"], [0.3333333333333333, \"#9c179e\"], [0.4444444444444444, \"#bd3786\"], [0.5555555555555556, \"#d8576b\"], [0.6666666666666666, \"#ed7953\"], [0.7777777777777778, \"#fb9f3a\"], [0.8888888888888888, \"#fdca26\"], [1.0, \"#f0f921\"]], \"sequentialminus\": [[0.0, \"#0d0887\"], [0.1111111111111111, \"#46039f\"], [0.2222222222222222, \"#7201a8\"], [0.3333333333333333, \"#9c179e\"], [0.4444444444444444, \"#bd3786\"], [0.5555555555555556, \"#d8576b\"], [0.6666666666666666, \"#ed7953\"], [0.7777777777777778, \"#fb9f3a\"], [0.8888888888888888, \"#fdca26\"], [1.0, \"#f0f921\"]]}, \"colorway\": [\"#636efa\", \"#EF553B\", \"#00cc96\", \"#ab63fa\", \"#FFA15A\", \"#19d3f3\", \"#FF6692\", \"#B6E880\", \"#FF97FF\", \"#FECB52\"], \"font\": {\"color\": \"#2a3f5f\"}, \"geo\": {\"bgcolor\": \"white\", \"lakecolor\": \"white\", \"landcolor\": \"#E5ECF6\", \"showlakes\": true, \"showland\": true, \"subunitcolor\": \"white\"}, \"hoverlabel\": {\"align\": \"left\"}, \"hovermode\": \"closest\", \"mapbox\": {\"style\": \"light\"}, \"paper_bgcolor\": \"white\", \"plot_bgcolor\": \"#E5ECF6\", \"polar\": {\"angularaxis\": {\"gridcolor\": \"white\", \"linecolor\": \"white\", \"ticks\": \"\"}, \"bgcolor\": \"#E5ECF6\", \"radialaxis\": {\"gridcolor\": \"white\", \"linecolor\": \"white\", \"ticks\": \"\"}}, \"scene\": {\"xaxis\": {\"backgroundcolor\": \"#E5ECF6\", \"gridcolor\": \"white\", \"gridwidth\": 2, \"linecolor\": \"white\", \"showbackground\": true, \"ticks\": \"\", \"zerolinecolor\": \"white\"}, \"yaxis\": {\"backgroundcolor\": \"#E5ECF6\", \"gridcolor\": \"white\", \"gridwidth\": 2, \"linecolor\": \"white\", \"showbackground\": true, \"ticks\": \"\", \"zerolinecolor\": \"white\"}, \"zaxis\": {\"backgroundcolor\": \"#E5ECF6\", \"gridcolor\": \"white\", \"gridwidth\": 2, \"linecolor\": \"white\", \"showbackground\": true, \"ticks\": \"\", \"zerolinecolor\": \"white\"}}, \"shapedefaults\": {\"line\": {\"color\": \"#2a3f5f\"}}, \"ternary\": {\"aaxis\": {\"gridcolor\": \"white\", \"linecolor\": \"white\", \"ticks\": \"\"}, \"baxis\": {\"gridcolor\": \"white\", \"linecolor\": \"white\", \"ticks\": \"\"}, \"bgcolor\": \"#E5ECF6\", \"caxis\": {\"gridcolor\": \"white\", \"linecolor\": \"white\", \"ticks\": \"\"}}, \"title\": {\"x\": 0.05}, \"xaxis\": {\"automargin\": true, \"gridcolor\": \"white\", \"linecolor\": \"white\", \"ticks\": \"\", \"title\": {\"standoff\": 15}, \"zerolinecolor\": \"white\", \"zerolinewidth\": 2}, \"yaxis\": {\"automargin\": true, \"gridcolor\": \"white\", \"linecolor\": \"white\", \"ticks\": \"\", \"title\": {\"standoff\": 15}, \"zerolinecolor\": \"white\", \"zerolinewidth\": 2}}}, \"title\": {\"font\": {\"color\": \"#292929\", \"family\": \"Playfair Display\", \"size\": 20}, \"text\": \"<b>Confirmed Cases Mainland China and Other Region<b>\", \"x\": 0.5, \"xanchor\": \"center\", \"y\": 0.96, \"yanchor\": \"top\"}, \"xaxis\": {\"gridcolor\": \"#cbd2d3\", \"gridwidth\": 0.1, \"linecolor\": \"#272e3e\", \"showline\": true, \"tickformat\": \"%b %d\", \"zeroline\": false}, \"yaxis\": {\"gridcolor\": \"#cbd2d3\", \"gridwidth\": 0.1, \"linecolor\": \"#272e3e\", \"showline\": true, \"tickmode\": \"array\", \"ticktext\": [\"0k\", \"2k\", \"4k\", \"6k\", \"8k\", \"10k\", \"12k\", \"14k\", \"16k\", \"18k\", \"20k\", \"22k\", \"24k\", \"26k\", \"28k\", \"30k\", \"32k\", \"34k\", \"36k\", \"38k\", \"40k\", \"42k\", \"44k\", \"46k\", \"48k\", \"50k\", \"52k\", \"54k\", \"56k\", \"58k\", \"60k\", \"62k\", \"64k\", \"66k\", \"68k\", \"70k\", \"72k\", \"74k\", \"76k\", \"78k\", \"80k\"], \"tickvals\": [0, 2000, 4000, 6000, 8000, 10000, 12000, 14000, 16000, 18000, 20000, 22000, 24000, 26000, 28000, 30000, 32000, 34000, 36000, 38000, 40000, 42000, 44000, 46000, 48000, 50000, 52000, 54000, 56000, 58000, 60000, 62000, 64000, 66000, 68000, 70000, 72000, 74000, 76000, 78000, 80000], \"zeroline\": false}},\n",
       "                        {\"responsive\": true}\n",
       "                    ).then(function(){\n",
       "                            \n",
       "var gd = document.getElementById('f8f8e514-0a0f-41a0-b4ae-9f0059b68e51');\n",
       "var x = new MutationObserver(function (mutations, observer) {{\n",
       "        var display = window.getComputedStyle(gd).display;\n",
       "        if (!display || display === 'none') {{\n",
       "            console.log([gd, 'removed!']);\n",
       "            Plotly.purge(gd);\n",
       "            observer.disconnect();\n",
       "        }}\n",
       "}});\n",
       "\n",
       "// Listen for the removal of the full notebook cells\n",
       "var notebookContainer = gd.closest('#notebook-container');\n",
       "if (notebookContainer) {{\n",
       "    x.observe(notebookContainer, {childList: true});\n",
       "}}\n",
       "\n",
       "// Listen for the clearing of the current output cell\n",
       "var outputEl = gd.closest('.output');\n",
       "if (outputEl) {{\n",
       "    x.observe(outputEl, {childList: true});\n",
       "}}\n",
       "\n",
       "                        })\n",
       "                };\n",
       "                });\n",
       "            </script>\n",
       "        </div>"
      ]
     },
     "metadata": {},
     "output_type": "display_data"
    },
    {
     "data": {
      "text/plain": [
       "'outputs/confirmed_cases.html'"
      ]
     },
     "execution_count": 54,
     "metadata": {},
     "output_type": "execute_result"
    }
   ],
   "source": [
    "# Line plot for confirmed cases\n",
    "# Set up tick scale based on confirmed case number\n",
    "tickList = list(np.arange(0, df_confirmed['Mainland China'].max()+1000, 2000))\n",
    "\n",
    "# Create empty figure canvas\n",
    "fig_confirmed = go.Figure()\n",
    "# Add trace to the figure\n",
    "fig_confirmed.add_trace(go.Scatter(x=df_confirmed['Date'], y=df_confirmed['Mainland China'],\n",
    "                                   mode='lines+markers',\n",
    "                                   name='Mainland China',\n",
    "                                   line=dict(color='#921113', width=3),\n",
    "                                   marker=dict(size=8, color='#f4f4f2',\n",
    "                                               line=dict(width=1,color='#921113')),\n",
    "                                   text=[datetime.strftime(d, '%b %d %Y AEDT') for d in df_confirmed['Date']],\n",
    "                                   hovertext=['Mainland China confirmed<br>{:,d} cases<br>'.format(i) for i in df_confirmed['Mainland China']],\n",
    "                                   hovertemplate='<b>%{text}</b><br></br>'+\n",
    "                                                 '%{hovertext}'+\n",
    "                                                 '<extra></extra>'))\n",
    "fig_confirmed.add_trace(go.Scatter(x=df_confirmed['Date'], y=df_confirmed['Other locations'],\n",
    "                                   mode='lines+markers',\n",
    "                                   name='Other Region',\n",
    "                                   line=dict(color='#eb5254', width=3),\n",
    "                                   marker=dict(size=8, color='#f4f4f2',\n",
    "                                               line=dict(width=1,color='#eb5254')),\n",
    "                                   text=[datetime.strftime(d, '%b %d %Y AEDT') for d in df_confirmed['Date']],\n",
    "                                   hovertext=['Other locations confirmed<br>{:,d} cases<br>'.format(i) for i in df_confirmed['Other locations']],\n",
    "                                   hovertemplate='<b>%{text}</b><br></br>'+\n",
    "                                                 '%{hovertext}'+\n",
    "                                                 '<extra></extra>'))\n",
    "# Customise layout\n",
    "fig_confirmed.update_layout(\n",
    "    title=dict(\n",
    "       text=\"<b>Confirmed Cases Mainland China and Other Region<b>\",\n",
    "       y=0.96, x=0.5, xanchor='center', yanchor='top',\n",
    "       font=dict(size=20, color=\"#292929\", family=\"Playfair Display\")\n",
    "    ),\n",
    "    \n",
    "    margin=go.layout.Margin(\n",
    "        l=10,\n",
    "        r=10,\n",
    "        b=10,\n",
    "        t=5,\n",
    "        pad=0\n",
    "    ),\n",
    "    yaxis=dict(\n",
    "        showline=True, linecolor='#272e3e',\n",
    "        zeroline=False,\n",
    "        gridcolor='#cbd2d3',\n",
    "        gridwidth = .1,\n",
    "        tickmode='array',\n",
    "        # Set tick range based on the maximum number\n",
    "        tickvals=tickList,\n",
    "        # Set tick label accordingly\n",
    "        ticktext=[\"{:.0f}k\".format(i/1000) for i in tickList]\n",
    "    ),\n",
    "#    yaxis_title=\"Total Confirmed Case Number\",\n",
    "    xaxis=dict(\n",
    "        showline=True, linecolor='#272e3e',\n",
    "        gridcolor='#cbd2d3',\n",
    "        gridwidth = .1,\n",
    "        zeroline=False\n",
    "    ),\n",
    "    xaxis_tickformat='%b %d',\n",
    "    hovermode = 'x',\n",
    "    legend_orientation=\"h\",\n",
    "#    legend=dict(x=.35, y=-.05),\n",
    "    plot_bgcolor='#f4f4f2',\n",
    "    paper_bgcolor='#cbd2d3',\n",
    "    font=dict(color='#292929')\n",
    ")\n",
    "\n",
    "fig_confirmed.show()\n",
    "pyo.plot(fig_confirmed, filename='outputs/confirmed_cases.html')"
   ]
  },
  {
   "cell_type": "code",
   "execution_count": 57,
   "metadata": {},
   "outputs": [
    {
     "data": {
      "application/vnd.plotly.v1+json": {
       "config": {
        "plotlyServerURL": "https://plot.ly"
       },
       "data": [
        {
         "hovertemplate": "<b>%{text}</b><br></br>%{hovertext}<extra></extra>",
         "hovertext": [
          "Mainland China recovered<br>60,096 cases<br>",
          "Mainland China recovered<br>59,884 cases<br>",
          "Mainland China recovered<br>58,587 cases<br>",
          "Mainland China recovered<br>57,053 cases<br>",
          "Mainland China recovered<br>55,392 cases<br>",
          "Mainland China recovered<br>53,714 cases<br>",
          "Mainland China recovered<br>52,034 cases<br>",
          "Mainland China recovered<br>49,853 cases<br>",
          "Mainland China recovered<br>47,192 cases<br>",
          "Mainland China recovered<br>44,463 cases<br>",
          "Mainland China recovered<br>41,633 cases<br>",
          "Mainland China recovered<br>39,000 cases<br>",
          "Mainland China recovered<br>36,116 cases<br>",
          "Mainland China recovered<br>32,537 cases<br>",
          "Mainland China recovered<br>29,746 cases<br>",
          "Mainland China recovered<br>27,417 cases<br>",
          "Mainland China recovered<br>24,735 cases<br>",
          "Mainland China recovered<br>22,929 cases<br>",
          "Mainland China recovered<br>20,660 cases<br>",
          "Mainland China recovered<br>18,265 cases<br>",
          "Mainland China recovered<br>16,178 cases<br>",
          "Mainland China recovered<br>14,377 cases<br>",
          "Mainland China recovered<br>12,615 cases<br>",
          "Mainland China recovered<br>10,854 cases<br>",
          "Mainland China recovered<br>9,516 cases<br>",
          "Mainland China recovered<br>8,168 cases<br>",
          "Mainland China recovered<br>6,728 cases<br>",
          "Mainland China recovered<br>5,918 cases<br>",
          "Mainland China recovered<br>4,768 cases<br>",
          "Mainland China recovered<br>4,014 cases<br>",
          "Mainland China recovered<br>3,328 cases<br>",
          "Mainland China recovered<br>2,673 cases<br>",
          "Mainland China recovered<br>2,062 cases<br>",
          "Mainland China recovered<br>1,537 cases<br>",
          "Mainland China recovered<br>1,189 cases<br>",
          "Mainland China recovered<br>882 cases<br>",
          "Mainland China recovered<br>624 cases<br>",
          "Mainland China recovered<br>477 cases<br>",
          "Mainland China recovered<br>331 cases<br>",
          "Mainland China recovered<br>242 cases<br>",
          "Mainland China recovered<br>179 cases<br>",
          "Mainland China recovered<br>127 cases<br>",
          "Mainland China recovered<br>104 cases<br>",
          "Mainland China recovered<br>60 cases<br>",
          "Mainland China recovered<br>51 cases<br>",
          "Mainland China recovered<br>49 cases<br>",
          "Mainland China recovered<br>36 cases<br>",
          "Mainland China recovered<br>30 cases<br>",
          "Mainland China recovered<br>0 cases<br>",
          "Mainland China recovered<br>0 cases<br>"
         ],
         "line": {
          "color": "#168038",
          "width": 3
         },
         "marker": {
          "color": "#f4f4f2",
          "line": {
           "color": "#168038",
           "width": 1
          },
          "size": 8
         },
         "mode": "lines+markers",
         "name": "Mainland China",
         "text": [
          "Mar 10 2020 AEDT",
          "Mar 09 2020 AEDT",
          "Mar 08 2020 AEDT",
          "Mar 07 2020 AEDT",
          "Mar 06 2020 AEDT",
          "Mar 05 2020 AEDT",
          "Mar 04 2020 AEDT",
          "Mar 03 2020 AEDT",
          "Mar 02 2020 AEDT",
          "Mar 01 2020 AEDT",
          "Feb 29 2020 AEDT",
          "Feb 28 2020 AEDT",
          "Feb 27 2020 AEDT",
          "Feb 26 2020 AEDT",
          "Feb 25 2020 AEDT",
          "Feb 24 2020 AEDT",
          "Feb 23 2020 AEDT",
          "Feb 22 2020 AEDT",
          "Feb 21 2020 AEDT",
          "Feb 20 2020 AEDT",
          "Feb 19 2020 AEDT",
          "Feb 18 2020 AEDT",
          "Feb 17 2020 AEDT",
          "Feb 16 2020 AEDT",
          "Feb 15 2020 AEDT",
          "Feb 14 2020 AEDT",
          "Feb 13 2020 AEDT",
          "Feb 12 2020 AEDT",
          "Feb 11 2020 AEDT",
          "Feb 10 2020 AEDT",
          "Feb 09 2020 AEDT",
          "Feb 08 2020 AEDT",
          "Feb 07 2020 AEDT",
          "Feb 06 2020 AEDT",
          "Feb 05 2020 AEDT",
          "Feb 04 2020 AEDT",
          "Feb 03 2020 AEDT",
          "Feb 02 2020 AEDT",
          "Feb 01 2020 AEDT",
          "Jan 31 2020 AEDT",
          "Jan 30 2020 AEDT",
          "Jan 29 2020 AEDT",
          "Jan 28 2020 AEDT",
          "Jan 27 2020 AEDT",
          "Jan 26 2020 AEDT",
          "Jan 25 2020 AEDT",
          "Jan 24 2020 AEDT",
          "Jan 23 2020 AEDT",
          "Jan 22 2020 AEDT",
          "Jan 21 2020 AEDT"
         ],
         "type": "scatter",
         "x": [
          "2020-03-10T14:30:00",
          "2020-03-09T22:30:00",
          "2020-03-08T22:00:00",
          "2020-03-07T22:00:00",
          "2020-03-06T20:30:00",
          "2020-03-05T20:30:00",
          "2020-03-04T22:00:00",
          "2020-03-03T23:30:00",
          "2020-03-02T22:00:00",
          "2020-03-01T23:00:00",
          "2020-02-29T23:00:00",
          "2020-02-28T23:00:00",
          "2020-02-27T22:00:00",
          "2020-02-26T23:30:00",
          "2020-02-25T22:00:00",
          "2020-02-24T23:00:00",
          "2020-02-23T22:00:00",
          "2020-02-22T23:00:00",
          "2020-02-21T23:00:00",
          "2020-02-20T22:00:00",
          "2020-02-19T23:00:00",
          "2020-02-18T23:00:00",
          "2020-02-17T23:00:00",
          "2020-02-16T22:30:00",
          "2020-02-15T23:00:00",
          "2020-02-14T23:00:00",
          "2020-02-13T22:00:00",
          "2020-02-12T21:30:00",
          "2020-02-11T23:00:00",
          "2020-02-10T22:30:00",
          "2020-02-09T23:00:00",
          "2020-02-08T22:00:00",
          "2020-02-07T23:00:00",
          "2020-02-06T21:30:00",
          "2020-02-05T23:00:00",
          "2020-02-04T20:00:00",
          "2020-02-03T20:00:00",
          "2020-02-02T22:00:00",
          "2020-02-01T23:00:00",
          "2020-01-31T19:00:00",
          "2020-01-30T21:30:00",
          "2020-01-29T21:00:00",
          "2020-01-28T23:00:00",
          "2020-01-27T20:30:00",
          "2020-01-26T23:00:00",
          "2020-01-25T22:00:00",
          "2020-01-24T12:00:00",
          "2020-01-23T00:00:00",
          "2020-01-22T00:00:00",
          "2020-01-21T00:00:00"
         ],
         "y": [
          60096,
          59884,
          58587,
          57053,
          55392,
          53714,
          52034,
          49853,
          47192,
          44463,
          41633,
          39000,
          36116,
          32537,
          29746,
          27417,
          24735,
          22929,
          20660,
          18265,
          16178,
          14377,
          12615,
          10854,
          9516,
          8168,
          6728,
          5918,
          4768,
          4014,
          3328,
          2673,
          2062,
          1537,
          1189,
          882,
          624,
          477,
          331,
          242,
          179,
          127,
          104,
          60,
          51,
          49,
          36,
          30,
          0,
          0
         ]
        },
        {
         "hovertemplate": "<b>%{text}</b><br></br>%{hovertext}<extra></extra>",
         "hovertext": [
          "Other locations recovered<br>4,982 cases<br>",
          "Other locations recovered<br>4,168 cases<br>",
          "Other locations recovered<br>3,669 cases<br>",
          "Other locations recovered<br>3,068 cases<br>",
          "Other locations recovered<br>2,184 cases<br>",
          "Other locations recovered<br>1,880 cases<br>",
          "Other locations recovered<br>1,483 cases<br>",
          "Other locations recovered<br>1,079 cases<br>",
          "Other locations recovered<br>913 cases<br>",
          "Other locations recovered<br>626 cases<br>",
          "Other locations recovered<br>517 cases<br>",
          "Other locations recovered<br>449 cases<br>",
          "Other locations recovered<br>408 cases<br>",
          "Other locations recovered<br>303 cases<br>",
          "Other locations recovered<br>281 cases<br>",
          "Other locations recovered<br>264 cases<br>",
          "Other locations recovered<br>230 cases<br>",
          "Other locations recovered<br>225 cases<br>",
          "Other locations recovered<br>214 cases<br>",
          "Other locations recovered<br>196 cases<br>",
          "Other locations recovered<br>183 cases<br>",
          "Other locations recovered<br>165 cases<br>",
          "Other locations recovered<br>145 cases<br>",
          "Other locations recovered<br>126 cases<br>",
          "Other locations recovered<br>116 cases<br>",
          "Other locations recovered<br>98 cases<br>",
          "Other locations recovered<br>86 cases<br>",
          "Other locations recovered<br>68 cases<br>",
          "Other locations recovered<br>57 cases<br>",
          "Other locations recovered<br>49 cases<br>",
          "Other locations recovered<br>43 cases<br>",
          "Other locations recovered<br>34 cases<br>",
          "Other locations recovered<br>31 cases<br>",
          "Other locations recovered<br>22 cases<br>",
          "Other locations recovered<br>20 cases<br>",
          "Other locations recovered<br>17 cases<br>",
          "Other locations recovered<br>13 cases<br>",
          "Other locations recovered<br>11 cases<br>",
          "Other locations recovered<br>10 cases<br>",
          "Other locations recovered<br>10 cases<br>",
          "Other locations recovered<br>8 cases<br>",
          "Other locations recovered<br>6 cases<br>",
          "Other locations recovered<br>6 cases<br>",
          "Other locations recovered<br>3 cases<br>",
          "Other locations recovered<br>3 cases<br>",
          "Other locations recovered<br>0 cases<br>",
          "Other locations recovered<br>0 cases<br>",
          "Other locations recovered<br>0 cases<br>",
          "Other locations recovered<br>0 cases<br>",
          "Other locations recovered<br>0 cases<br>"
         ],
         "line": {
          "color": "#25d75d",
          "width": 3
         },
         "marker": {
          "color": "#f4f4f2",
          "line": {
           "color": "#25d75d",
           "width": 1
          },
          "size": 8
         },
         "mode": "lines+markers",
         "name": "Other Region",
         "text": [
          "Mar 10 2020 AEDT",
          "Mar 09 2020 AEDT",
          "Mar 08 2020 AEDT",
          "Mar 07 2020 AEDT",
          "Mar 06 2020 AEDT",
          "Mar 05 2020 AEDT",
          "Mar 04 2020 AEDT",
          "Mar 03 2020 AEDT",
          "Mar 02 2020 AEDT",
          "Mar 01 2020 AEDT",
          "Feb 29 2020 AEDT",
          "Feb 28 2020 AEDT",
          "Feb 27 2020 AEDT",
          "Feb 26 2020 AEDT",
          "Feb 25 2020 AEDT",
          "Feb 24 2020 AEDT",
          "Feb 23 2020 AEDT",
          "Feb 22 2020 AEDT",
          "Feb 21 2020 AEDT",
          "Feb 20 2020 AEDT",
          "Feb 19 2020 AEDT",
          "Feb 18 2020 AEDT",
          "Feb 17 2020 AEDT",
          "Feb 16 2020 AEDT",
          "Feb 15 2020 AEDT",
          "Feb 14 2020 AEDT",
          "Feb 13 2020 AEDT",
          "Feb 12 2020 AEDT",
          "Feb 11 2020 AEDT",
          "Feb 10 2020 AEDT",
          "Feb 09 2020 AEDT",
          "Feb 08 2020 AEDT",
          "Feb 07 2020 AEDT",
          "Feb 06 2020 AEDT",
          "Feb 05 2020 AEDT",
          "Feb 04 2020 AEDT",
          "Feb 03 2020 AEDT",
          "Feb 02 2020 AEDT",
          "Feb 01 2020 AEDT",
          "Jan 31 2020 AEDT",
          "Jan 30 2020 AEDT",
          "Jan 29 2020 AEDT",
          "Jan 28 2020 AEDT",
          "Jan 27 2020 AEDT",
          "Jan 26 2020 AEDT",
          "Jan 25 2020 AEDT",
          "Jan 24 2020 AEDT",
          "Jan 23 2020 AEDT",
          "Jan 22 2020 AEDT",
          "Jan 21 2020 AEDT"
         ],
         "type": "scatter",
         "x": [
          "2020-03-10T14:30:00",
          "2020-03-09T22:30:00",
          "2020-03-08T22:00:00",
          "2020-03-07T22:00:00",
          "2020-03-06T20:30:00",
          "2020-03-05T20:30:00",
          "2020-03-04T22:00:00",
          "2020-03-03T23:30:00",
          "2020-03-02T22:00:00",
          "2020-03-01T23:00:00",
          "2020-02-29T23:00:00",
          "2020-02-28T23:00:00",
          "2020-02-27T22:00:00",
          "2020-02-26T23:30:00",
          "2020-02-25T22:00:00",
          "2020-02-24T23:00:00",
          "2020-02-23T22:00:00",
          "2020-02-22T23:00:00",
          "2020-02-21T23:00:00",
          "2020-02-20T22:00:00",
          "2020-02-19T23:00:00",
          "2020-02-18T23:00:00",
          "2020-02-17T23:00:00",
          "2020-02-16T22:30:00",
          "2020-02-15T23:00:00",
          "2020-02-14T23:00:00",
          "2020-02-13T22:00:00",
          "2020-02-12T21:30:00",
          "2020-02-11T23:00:00",
          "2020-02-10T22:30:00",
          "2020-02-09T23:00:00",
          "2020-02-08T22:00:00",
          "2020-02-07T23:00:00",
          "2020-02-06T21:30:00",
          "2020-02-05T23:00:00",
          "2020-02-04T20:00:00",
          "2020-02-03T20:00:00",
          "2020-02-02T22:00:00",
          "2020-02-01T23:00:00",
          "2020-01-31T19:00:00",
          "2020-01-30T21:30:00",
          "2020-01-29T21:00:00",
          "2020-01-28T23:00:00",
          "2020-01-27T20:30:00",
          "2020-01-26T23:00:00",
          "2020-01-25T22:00:00",
          "2020-01-24T12:00:00",
          "2020-01-23T00:00:00",
          "2020-01-22T00:00:00",
          "2020-01-21T00:00:00"
         ],
         "y": [
          4982,
          4168,
          3669,
          3068,
          2184,
          1880,
          1483,
          1079,
          913,
          626,
          517,
          449,
          408,
          303,
          281,
          264,
          230,
          225,
          214,
          196,
          183,
          165,
          145,
          126,
          116,
          98,
          86,
          68,
          57,
          49,
          43,
          34,
          31,
          22,
          20,
          17,
          13,
          11,
          10,
          10,
          8,
          6,
          6,
          3,
          3,
          0,
          0,
          0,
          0,
          0
         ]
        }
       ],
       "layout": {
        "font": {
         "color": "#292929"
        },
        "hovermode": "x",
        "legend": {
         "orientation": "h"
        },
        "margin": {
         "b": 10,
         "l": 10,
         "pad": 0,
         "r": 10,
         "t": 5
        },
        "paper_bgcolor": "#cbd2d3",
        "plot_bgcolor": "#f4f4f2",
        "template": {
         "data": {
          "bar": [
           {
            "error_x": {
             "color": "#2a3f5f"
            },
            "error_y": {
             "color": "#2a3f5f"
            },
            "marker": {
             "line": {
              "color": "#E5ECF6",
              "width": 0.5
             }
            },
            "type": "bar"
           }
          ],
          "barpolar": [
           {
            "marker": {
             "line": {
              "color": "#E5ECF6",
              "width": 0.5
             }
            },
            "type": "barpolar"
           }
          ],
          "carpet": [
           {
            "aaxis": {
             "endlinecolor": "#2a3f5f",
             "gridcolor": "white",
             "linecolor": "white",
             "minorgridcolor": "white",
             "startlinecolor": "#2a3f5f"
            },
            "baxis": {
             "endlinecolor": "#2a3f5f",
             "gridcolor": "white",
             "linecolor": "white",
             "minorgridcolor": "white",
             "startlinecolor": "#2a3f5f"
            },
            "type": "carpet"
           }
          ],
          "choropleth": [
           {
            "colorbar": {
             "outlinewidth": 0,
             "ticks": ""
            },
            "type": "choropleth"
           }
          ],
          "contour": [
           {
            "colorbar": {
             "outlinewidth": 0,
             "ticks": ""
            },
            "colorscale": [
             [
              0,
              "#0d0887"
             ],
             [
              0.1111111111111111,
              "#46039f"
             ],
             [
              0.2222222222222222,
              "#7201a8"
             ],
             [
              0.3333333333333333,
              "#9c179e"
             ],
             [
              0.4444444444444444,
              "#bd3786"
             ],
             [
              0.5555555555555556,
              "#d8576b"
             ],
             [
              0.6666666666666666,
              "#ed7953"
             ],
             [
              0.7777777777777778,
              "#fb9f3a"
             ],
             [
              0.8888888888888888,
              "#fdca26"
             ],
             [
              1,
              "#f0f921"
             ]
            ],
            "type": "contour"
           }
          ],
          "contourcarpet": [
           {
            "colorbar": {
             "outlinewidth": 0,
             "ticks": ""
            },
            "type": "contourcarpet"
           }
          ],
          "heatmap": [
           {
            "colorbar": {
             "outlinewidth": 0,
             "ticks": ""
            },
            "colorscale": [
             [
              0,
              "#0d0887"
             ],
             [
              0.1111111111111111,
              "#46039f"
             ],
             [
              0.2222222222222222,
              "#7201a8"
             ],
             [
              0.3333333333333333,
              "#9c179e"
             ],
             [
              0.4444444444444444,
              "#bd3786"
             ],
             [
              0.5555555555555556,
              "#d8576b"
             ],
             [
              0.6666666666666666,
              "#ed7953"
             ],
             [
              0.7777777777777778,
              "#fb9f3a"
             ],
             [
              0.8888888888888888,
              "#fdca26"
             ],
             [
              1,
              "#f0f921"
             ]
            ],
            "type": "heatmap"
           }
          ],
          "heatmapgl": [
           {
            "colorbar": {
             "outlinewidth": 0,
             "ticks": ""
            },
            "colorscale": [
             [
              0,
              "#0d0887"
             ],
             [
              0.1111111111111111,
              "#46039f"
             ],
             [
              0.2222222222222222,
              "#7201a8"
             ],
             [
              0.3333333333333333,
              "#9c179e"
             ],
             [
              0.4444444444444444,
              "#bd3786"
             ],
             [
              0.5555555555555556,
              "#d8576b"
             ],
             [
              0.6666666666666666,
              "#ed7953"
             ],
             [
              0.7777777777777778,
              "#fb9f3a"
             ],
             [
              0.8888888888888888,
              "#fdca26"
             ],
             [
              1,
              "#f0f921"
             ]
            ],
            "type": "heatmapgl"
           }
          ],
          "histogram": [
           {
            "marker": {
             "colorbar": {
              "outlinewidth": 0,
              "ticks": ""
             }
            },
            "type": "histogram"
           }
          ],
          "histogram2d": [
           {
            "colorbar": {
             "outlinewidth": 0,
             "ticks": ""
            },
            "colorscale": [
             [
              0,
              "#0d0887"
             ],
             [
              0.1111111111111111,
              "#46039f"
             ],
             [
              0.2222222222222222,
              "#7201a8"
             ],
             [
              0.3333333333333333,
              "#9c179e"
             ],
             [
              0.4444444444444444,
              "#bd3786"
             ],
             [
              0.5555555555555556,
              "#d8576b"
             ],
             [
              0.6666666666666666,
              "#ed7953"
             ],
             [
              0.7777777777777778,
              "#fb9f3a"
             ],
             [
              0.8888888888888888,
              "#fdca26"
             ],
             [
              1,
              "#f0f921"
             ]
            ],
            "type": "histogram2d"
           }
          ],
          "histogram2dcontour": [
           {
            "colorbar": {
             "outlinewidth": 0,
             "ticks": ""
            },
            "colorscale": [
             [
              0,
              "#0d0887"
             ],
             [
              0.1111111111111111,
              "#46039f"
             ],
             [
              0.2222222222222222,
              "#7201a8"
             ],
             [
              0.3333333333333333,
              "#9c179e"
             ],
             [
              0.4444444444444444,
              "#bd3786"
             ],
             [
              0.5555555555555556,
              "#d8576b"
             ],
             [
              0.6666666666666666,
              "#ed7953"
             ],
             [
              0.7777777777777778,
              "#fb9f3a"
             ],
             [
              0.8888888888888888,
              "#fdca26"
             ],
             [
              1,
              "#f0f921"
             ]
            ],
            "type": "histogram2dcontour"
           }
          ],
          "mesh3d": [
           {
            "colorbar": {
             "outlinewidth": 0,
             "ticks": ""
            },
            "type": "mesh3d"
           }
          ],
          "parcoords": [
           {
            "line": {
             "colorbar": {
              "outlinewidth": 0,
              "ticks": ""
             }
            },
            "type": "parcoords"
           }
          ],
          "pie": [
           {
            "automargin": true,
            "type": "pie"
           }
          ],
          "scatter": [
           {
            "marker": {
             "colorbar": {
              "outlinewidth": 0,
              "ticks": ""
             }
            },
            "type": "scatter"
           }
          ],
          "scatter3d": [
           {
            "line": {
             "colorbar": {
              "outlinewidth": 0,
              "ticks": ""
             }
            },
            "marker": {
             "colorbar": {
              "outlinewidth": 0,
              "ticks": ""
             }
            },
            "type": "scatter3d"
           }
          ],
          "scattercarpet": [
           {
            "marker": {
             "colorbar": {
              "outlinewidth": 0,
              "ticks": ""
             }
            },
            "type": "scattercarpet"
           }
          ],
          "scattergeo": [
           {
            "marker": {
             "colorbar": {
              "outlinewidth": 0,
              "ticks": ""
             }
            },
            "type": "scattergeo"
           }
          ],
          "scattergl": [
           {
            "marker": {
             "colorbar": {
              "outlinewidth": 0,
              "ticks": ""
             }
            },
            "type": "scattergl"
           }
          ],
          "scattermapbox": [
           {
            "marker": {
             "colorbar": {
              "outlinewidth": 0,
              "ticks": ""
             }
            },
            "type": "scattermapbox"
           }
          ],
          "scatterpolar": [
           {
            "marker": {
             "colorbar": {
              "outlinewidth": 0,
              "ticks": ""
             }
            },
            "type": "scatterpolar"
           }
          ],
          "scatterpolargl": [
           {
            "marker": {
             "colorbar": {
              "outlinewidth": 0,
              "ticks": ""
             }
            },
            "type": "scatterpolargl"
           }
          ],
          "scatterternary": [
           {
            "marker": {
             "colorbar": {
              "outlinewidth": 0,
              "ticks": ""
             }
            },
            "type": "scatterternary"
           }
          ],
          "surface": [
           {
            "colorbar": {
             "outlinewidth": 0,
             "ticks": ""
            },
            "colorscale": [
             [
              0,
              "#0d0887"
             ],
             [
              0.1111111111111111,
              "#46039f"
             ],
             [
              0.2222222222222222,
              "#7201a8"
             ],
             [
              0.3333333333333333,
              "#9c179e"
             ],
             [
              0.4444444444444444,
              "#bd3786"
             ],
             [
              0.5555555555555556,
              "#d8576b"
             ],
             [
              0.6666666666666666,
              "#ed7953"
             ],
             [
              0.7777777777777778,
              "#fb9f3a"
             ],
             [
              0.8888888888888888,
              "#fdca26"
             ],
             [
              1,
              "#f0f921"
             ]
            ],
            "type": "surface"
           }
          ],
          "table": [
           {
            "cells": {
             "fill": {
              "color": "#EBF0F8"
             },
             "line": {
              "color": "white"
             }
            },
            "header": {
             "fill": {
              "color": "#C8D4E3"
             },
             "line": {
              "color": "white"
             }
            },
            "type": "table"
           }
          ]
         },
         "layout": {
          "annotationdefaults": {
           "arrowcolor": "#2a3f5f",
           "arrowhead": 0,
           "arrowwidth": 1
          },
          "coloraxis": {
           "colorbar": {
            "outlinewidth": 0,
            "ticks": ""
           }
          },
          "colorscale": {
           "diverging": [
            [
             0,
             "#8e0152"
            ],
            [
             0.1,
             "#c51b7d"
            ],
            [
             0.2,
             "#de77ae"
            ],
            [
             0.3,
             "#f1b6da"
            ],
            [
             0.4,
             "#fde0ef"
            ],
            [
             0.5,
             "#f7f7f7"
            ],
            [
             0.6,
             "#e6f5d0"
            ],
            [
             0.7,
             "#b8e186"
            ],
            [
             0.8,
             "#7fbc41"
            ],
            [
             0.9,
             "#4d9221"
            ],
            [
             1,
             "#276419"
            ]
           ],
           "sequential": [
            [
             0,
             "#0d0887"
            ],
            [
             0.1111111111111111,
             "#46039f"
            ],
            [
             0.2222222222222222,
             "#7201a8"
            ],
            [
             0.3333333333333333,
             "#9c179e"
            ],
            [
             0.4444444444444444,
             "#bd3786"
            ],
            [
             0.5555555555555556,
             "#d8576b"
            ],
            [
             0.6666666666666666,
             "#ed7953"
            ],
            [
             0.7777777777777778,
             "#fb9f3a"
            ],
            [
             0.8888888888888888,
             "#fdca26"
            ],
            [
             1,
             "#f0f921"
            ]
           ],
           "sequentialminus": [
            [
             0,
             "#0d0887"
            ],
            [
             0.1111111111111111,
             "#46039f"
            ],
            [
             0.2222222222222222,
             "#7201a8"
            ],
            [
             0.3333333333333333,
             "#9c179e"
            ],
            [
             0.4444444444444444,
             "#bd3786"
            ],
            [
             0.5555555555555556,
             "#d8576b"
            ],
            [
             0.6666666666666666,
             "#ed7953"
            ],
            [
             0.7777777777777778,
             "#fb9f3a"
            ],
            [
             0.8888888888888888,
             "#fdca26"
            ],
            [
             1,
             "#f0f921"
            ]
           ]
          },
          "colorway": [
           "#636efa",
           "#EF553B",
           "#00cc96",
           "#ab63fa",
           "#FFA15A",
           "#19d3f3",
           "#FF6692",
           "#B6E880",
           "#FF97FF",
           "#FECB52"
          ],
          "font": {
           "color": "#2a3f5f"
          },
          "geo": {
           "bgcolor": "white",
           "lakecolor": "white",
           "landcolor": "#E5ECF6",
           "showlakes": true,
           "showland": true,
           "subunitcolor": "white"
          },
          "hoverlabel": {
           "align": "left"
          },
          "hovermode": "closest",
          "mapbox": {
           "style": "light"
          },
          "paper_bgcolor": "white",
          "plot_bgcolor": "#E5ECF6",
          "polar": {
           "angularaxis": {
            "gridcolor": "white",
            "linecolor": "white",
            "ticks": ""
           },
           "bgcolor": "#E5ECF6",
           "radialaxis": {
            "gridcolor": "white",
            "linecolor": "white",
            "ticks": ""
           }
          },
          "scene": {
           "xaxis": {
            "backgroundcolor": "#E5ECF6",
            "gridcolor": "white",
            "gridwidth": 2,
            "linecolor": "white",
            "showbackground": true,
            "ticks": "",
            "zerolinecolor": "white"
           },
           "yaxis": {
            "backgroundcolor": "#E5ECF6",
            "gridcolor": "white",
            "gridwidth": 2,
            "linecolor": "white",
            "showbackground": true,
            "ticks": "",
            "zerolinecolor": "white"
           },
           "zaxis": {
            "backgroundcolor": "#E5ECF6",
            "gridcolor": "white",
            "gridwidth": 2,
            "linecolor": "white",
            "showbackground": true,
            "ticks": "",
            "zerolinecolor": "white"
           }
          },
          "shapedefaults": {
           "line": {
            "color": "#2a3f5f"
           }
          },
          "ternary": {
           "aaxis": {
            "gridcolor": "white",
            "linecolor": "white",
            "ticks": ""
           },
           "baxis": {
            "gridcolor": "white",
            "linecolor": "white",
            "ticks": ""
           },
           "bgcolor": "#E5ECF6",
           "caxis": {
            "gridcolor": "white",
            "linecolor": "white",
            "ticks": ""
           }
          },
          "title": {
           "x": 0.05
          },
          "xaxis": {
           "automargin": true,
           "gridcolor": "white",
           "linecolor": "white",
           "ticks": "",
           "title": {
            "standoff": 15
           },
           "zerolinecolor": "white",
           "zerolinewidth": 2
          },
          "yaxis": {
           "automargin": true,
           "gridcolor": "white",
           "linecolor": "white",
           "ticks": "",
           "title": {
            "standoff": 15
           },
           "zerolinecolor": "white",
           "zerolinewidth": 2
          }
         }
        },
        "title": {
         "font": {
          "color": "#292929",
          "family": "Playfair Display",
          "size": 20
         },
         "text": "<b>Recovered Cases in Mainland China and Other Region<b>",
         "x": 0.5,
         "xanchor": "center",
         "y": 0.96,
         "yanchor": "top"
        },
        "xaxis": {
         "gridcolor": "#cbd2d3",
         "gridwidth": 0.1,
         "linecolor": "#272e3e",
         "showline": true,
         "tickformat": "%b %d",
         "zeroline": false
        },
        "yaxis": {
         "gridcolor": "#cbd2d3",
         "gridwidth": 0.1,
         "linecolor": "#272e3e",
         "showline": true,
         "tickmode": "array",
         "ticktext": [
          "0",
          "10000",
          "20000",
          "30000",
          "40000",
          "50000",
          "60000",
          "70000"
         ],
         "tickvals": [
          0,
          10000,
          20000,
          30000,
          40000,
          50000,
          60000,
          70000
         ],
         "zeroline": false
        }
       }
      },
      "text/html": [
       "<div>\n",
       "        \n",
       "        \n",
       "            <div id=\"fb891930-a1a4-4bb4-8aa9-2aa5ecc563ea\" class=\"plotly-graph-div\" style=\"height:525px; width:100%;\"></div>\n",
       "            <script type=\"text/javascript\">\n",
       "                require([\"plotly\"], function(Plotly) {\n",
       "                    window.PLOTLYENV=window.PLOTLYENV || {};\n",
       "                    \n",
       "                if (document.getElementById(\"fb891930-a1a4-4bb4-8aa9-2aa5ecc563ea\")) {\n",
       "                    Plotly.newPlot(\n",
       "                        'fb891930-a1a4-4bb4-8aa9-2aa5ecc563ea',\n",
       "                        [{\"hovertemplate\": \"<b>%{text}</b><br></br>%{hovertext}<extra></extra>\", \"hovertext\": [\"Mainland China recovered<br>60,096 cases<br>\", \"Mainland China recovered<br>59,884 cases<br>\", \"Mainland China recovered<br>58,587 cases<br>\", \"Mainland China recovered<br>57,053 cases<br>\", \"Mainland China recovered<br>55,392 cases<br>\", \"Mainland China recovered<br>53,714 cases<br>\", \"Mainland China recovered<br>52,034 cases<br>\", \"Mainland China recovered<br>49,853 cases<br>\", \"Mainland China recovered<br>47,192 cases<br>\", \"Mainland China recovered<br>44,463 cases<br>\", \"Mainland China recovered<br>41,633 cases<br>\", \"Mainland China recovered<br>39,000 cases<br>\", \"Mainland China recovered<br>36,116 cases<br>\", \"Mainland China recovered<br>32,537 cases<br>\", \"Mainland China recovered<br>29,746 cases<br>\", \"Mainland China recovered<br>27,417 cases<br>\", \"Mainland China recovered<br>24,735 cases<br>\", \"Mainland China recovered<br>22,929 cases<br>\", \"Mainland China recovered<br>20,660 cases<br>\", \"Mainland China recovered<br>18,265 cases<br>\", \"Mainland China recovered<br>16,178 cases<br>\", \"Mainland China recovered<br>14,377 cases<br>\", \"Mainland China recovered<br>12,615 cases<br>\", \"Mainland China recovered<br>10,854 cases<br>\", \"Mainland China recovered<br>9,516 cases<br>\", \"Mainland China recovered<br>8,168 cases<br>\", \"Mainland China recovered<br>6,728 cases<br>\", \"Mainland China recovered<br>5,918 cases<br>\", \"Mainland China recovered<br>4,768 cases<br>\", \"Mainland China recovered<br>4,014 cases<br>\", \"Mainland China recovered<br>3,328 cases<br>\", \"Mainland China recovered<br>2,673 cases<br>\", \"Mainland China recovered<br>2,062 cases<br>\", \"Mainland China recovered<br>1,537 cases<br>\", \"Mainland China recovered<br>1,189 cases<br>\", \"Mainland China recovered<br>882 cases<br>\", \"Mainland China recovered<br>624 cases<br>\", \"Mainland China recovered<br>477 cases<br>\", \"Mainland China recovered<br>331 cases<br>\", \"Mainland China recovered<br>242 cases<br>\", \"Mainland China recovered<br>179 cases<br>\", \"Mainland China recovered<br>127 cases<br>\", \"Mainland China recovered<br>104 cases<br>\", \"Mainland China recovered<br>60 cases<br>\", \"Mainland China recovered<br>51 cases<br>\", \"Mainland China recovered<br>49 cases<br>\", \"Mainland China recovered<br>36 cases<br>\", \"Mainland China recovered<br>30 cases<br>\", \"Mainland China recovered<br>0 cases<br>\", \"Mainland China recovered<br>0 cases<br>\"], \"line\": {\"color\": \"#168038\", \"width\": 3}, \"marker\": {\"color\": \"#f4f4f2\", \"line\": {\"color\": \"#168038\", \"width\": 1}, \"size\": 8}, \"mode\": \"lines+markers\", \"name\": \"Mainland China\", \"text\": [\"Mar 10 2020 AEDT\", \"Mar 09 2020 AEDT\", \"Mar 08 2020 AEDT\", \"Mar 07 2020 AEDT\", \"Mar 06 2020 AEDT\", \"Mar 05 2020 AEDT\", \"Mar 04 2020 AEDT\", \"Mar 03 2020 AEDT\", \"Mar 02 2020 AEDT\", \"Mar 01 2020 AEDT\", \"Feb 29 2020 AEDT\", \"Feb 28 2020 AEDT\", \"Feb 27 2020 AEDT\", \"Feb 26 2020 AEDT\", \"Feb 25 2020 AEDT\", \"Feb 24 2020 AEDT\", \"Feb 23 2020 AEDT\", \"Feb 22 2020 AEDT\", \"Feb 21 2020 AEDT\", \"Feb 20 2020 AEDT\", \"Feb 19 2020 AEDT\", \"Feb 18 2020 AEDT\", \"Feb 17 2020 AEDT\", \"Feb 16 2020 AEDT\", \"Feb 15 2020 AEDT\", \"Feb 14 2020 AEDT\", \"Feb 13 2020 AEDT\", \"Feb 12 2020 AEDT\", \"Feb 11 2020 AEDT\", \"Feb 10 2020 AEDT\", \"Feb 09 2020 AEDT\", \"Feb 08 2020 AEDT\", \"Feb 07 2020 AEDT\", \"Feb 06 2020 AEDT\", \"Feb 05 2020 AEDT\", \"Feb 04 2020 AEDT\", \"Feb 03 2020 AEDT\", \"Feb 02 2020 AEDT\", \"Feb 01 2020 AEDT\", \"Jan 31 2020 AEDT\", \"Jan 30 2020 AEDT\", \"Jan 29 2020 AEDT\", \"Jan 28 2020 AEDT\", \"Jan 27 2020 AEDT\", \"Jan 26 2020 AEDT\", \"Jan 25 2020 AEDT\", \"Jan 24 2020 AEDT\", \"Jan 23 2020 AEDT\", \"Jan 22 2020 AEDT\", \"Jan 21 2020 AEDT\"], \"type\": \"scatter\", \"x\": [\"2020-03-10T14:30:00\", \"2020-03-09T22:30:00\", \"2020-03-08T22:00:00\", \"2020-03-07T22:00:00\", \"2020-03-06T20:30:00\", \"2020-03-05T20:30:00\", \"2020-03-04T22:00:00\", \"2020-03-03T23:30:00\", \"2020-03-02T22:00:00\", \"2020-03-01T23:00:00\", \"2020-02-29T23:00:00\", \"2020-02-28T23:00:00\", \"2020-02-27T22:00:00\", \"2020-02-26T23:30:00\", \"2020-02-25T22:00:00\", \"2020-02-24T23:00:00\", \"2020-02-23T22:00:00\", \"2020-02-22T23:00:00\", \"2020-02-21T23:00:00\", \"2020-02-20T22:00:00\", \"2020-02-19T23:00:00\", \"2020-02-18T23:00:00\", \"2020-02-17T23:00:00\", \"2020-02-16T22:30:00\", \"2020-02-15T23:00:00\", \"2020-02-14T23:00:00\", \"2020-02-13T22:00:00\", \"2020-02-12T21:30:00\", \"2020-02-11T23:00:00\", \"2020-02-10T22:30:00\", \"2020-02-09T23:00:00\", \"2020-02-08T22:00:00\", \"2020-02-07T23:00:00\", \"2020-02-06T21:30:00\", \"2020-02-05T23:00:00\", \"2020-02-04T20:00:00\", \"2020-02-03T20:00:00\", \"2020-02-02T22:00:00\", \"2020-02-01T23:00:00\", \"2020-01-31T19:00:00\", \"2020-01-30T21:30:00\", \"2020-01-29T21:00:00\", \"2020-01-28T23:00:00\", \"2020-01-27T20:30:00\", \"2020-01-26T23:00:00\", \"2020-01-25T22:00:00\", \"2020-01-24T12:00:00\", \"2020-01-23T00:00:00\", \"2020-01-22T00:00:00\", \"2020-01-21T00:00:00\"], \"y\": [60096, 59884, 58587, 57053, 55392, 53714, 52034, 49853, 47192, 44463, 41633, 39000, 36116, 32537, 29746, 27417, 24735, 22929, 20660, 18265, 16178, 14377, 12615, 10854, 9516, 8168, 6728, 5918, 4768, 4014, 3328, 2673, 2062, 1537, 1189, 882, 624, 477, 331, 242, 179, 127, 104, 60, 51, 49, 36, 30, 0, 0]}, {\"hovertemplate\": \"<b>%{text}</b><br></br>%{hovertext}<extra></extra>\", \"hovertext\": [\"Other locations recovered<br>4,982 cases<br>\", \"Other locations recovered<br>4,168 cases<br>\", \"Other locations recovered<br>3,669 cases<br>\", \"Other locations recovered<br>3,068 cases<br>\", \"Other locations recovered<br>2,184 cases<br>\", \"Other locations recovered<br>1,880 cases<br>\", \"Other locations recovered<br>1,483 cases<br>\", \"Other locations recovered<br>1,079 cases<br>\", \"Other locations recovered<br>913 cases<br>\", \"Other locations recovered<br>626 cases<br>\", \"Other locations recovered<br>517 cases<br>\", \"Other locations recovered<br>449 cases<br>\", \"Other locations recovered<br>408 cases<br>\", \"Other locations recovered<br>303 cases<br>\", \"Other locations recovered<br>281 cases<br>\", \"Other locations recovered<br>264 cases<br>\", \"Other locations recovered<br>230 cases<br>\", \"Other locations recovered<br>225 cases<br>\", \"Other locations recovered<br>214 cases<br>\", \"Other locations recovered<br>196 cases<br>\", \"Other locations recovered<br>183 cases<br>\", \"Other locations recovered<br>165 cases<br>\", \"Other locations recovered<br>145 cases<br>\", \"Other locations recovered<br>126 cases<br>\", \"Other locations recovered<br>116 cases<br>\", \"Other locations recovered<br>98 cases<br>\", \"Other locations recovered<br>86 cases<br>\", \"Other locations recovered<br>68 cases<br>\", \"Other locations recovered<br>57 cases<br>\", \"Other locations recovered<br>49 cases<br>\", \"Other locations recovered<br>43 cases<br>\", \"Other locations recovered<br>34 cases<br>\", \"Other locations recovered<br>31 cases<br>\", \"Other locations recovered<br>22 cases<br>\", \"Other locations recovered<br>20 cases<br>\", \"Other locations recovered<br>17 cases<br>\", \"Other locations recovered<br>13 cases<br>\", \"Other locations recovered<br>11 cases<br>\", \"Other locations recovered<br>10 cases<br>\", \"Other locations recovered<br>10 cases<br>\", \"Other locations recovered<br>8 cases<br>\", \"Other locations recovered<br>6 cases<br>\", \"Other locations recovered<br>6 cases<br>\", \"Other locations recovered<br>3 cases<br>\", \"Other locations recovered<br>3 cases<br>\", \"Other locations recovered<br>0 cases<br>\", \"Other locations recovered<br>0 cases<br>\", \"Other locations recovered<br>0 cases<br>\", \"Other locations recovered<br>0 cases<br>\", \"Other locations recovered<br>0 cases<br>\"], \"line\": {\"color\": \"#25d75d\", \"width\": 3}, \"marker\": {\"color\": \"#f4f4f2\", \"line\": {\"color\": \"#25d75d\", \"width\": 1}, \"size\": 8}, \"mode\": \"lines+markers\", \"name\": \"Other Region\", \"text\": [\"Mar 10 2020 AEDT\", \"Mar 09 2020 AEDT\", \"Mar 08 2020 AEDT\", \"Mar 07 2020 AEDT\", \"Mar 06 2020 AEDT\", \"Mar 05 2020 AEDT\", \"Mar 04 2020 AEDT\", \"Mar 03 2020 AEDT\", \"Mar 02 2020 AEDT\", \"Mar 01 2020 AEDT\", \"Feb 29 2020 AEDT\", \"Feb 28 2020 AEDT\", \"Feb 27 2020 AEDT\", \"Feb 26 2020 AEDT\", \"Feb 25 2020 AEDT\", \"Feb 24 2020 AEDT\", \"Feb 23 2020 AEDT\", \"Feb 22 2020 AEDT\", \"Feb 21 2020 AEDT\", \"Feb 20 2020 AEDT\", \"Feb 19 2020 AEDT\", \"Feb 18 2020 AEDT\", \"Feb 17 2020 AEDT\", \"Feb 16 2020 AEDT\", \"Feb 15 2020 AEDT\", \"Feb 14 2020 AEDT\", \"Feb 13 2020 AEDT\", \"Feb 12 2020 AEDT\", \"Feb 11 2020 AEDT\", \"Feb 10 2020 AEDT\", \"Feb 09 2020 AEDT\", \"Feb 08 2020 AEDT\", \"Feb 07 2020 AEDT\", \"Feb 06 2020 AEDT\", \"Feb 05 2020 AEDT\", \"Feb 04 2020 AEDT\", \"Feb 03 2020 AEDT\", \"Feb 02 2020 AEDT\", \"Feb 01 2020 AEDT\", \"Jan 31 2020 AEDT\", \"Jan 30 2020 AEDT\", \"Jan 29 2020 AEDT\", \"Jan 28 2020 AEDT\", \"Jan 27 2020 AEDT\", \"Jan 26 2020 AEDT\", \"Jan 25 2020 AEDT\", \"Jan 24 2020 AEDT\", \"Jan 23 2020 AEDT\", \"Jan 22 2020 AEDT\", \"Jan 21 2020 AEDT\"], \"type\": \"scatter\", \"x\": [\"2020-03-10T14:30:00\", \"2020-03-09T22:30:00\", \"2020-03-08T22:00:00\", \"2020-03-07T22:00:00\", \"2020-03-06T20:30:00\", \"2020-03-05T20:30:00\", \"2020-03-04T22:00:00\", \"2020-03-03T23:30:00\", \"2020-03-02T22:00:00\", \"2020-03-01T23:00:00\", \"2020-02-29T23:00:00\", \"2020-02-28T23:00:00\", \"2020-02-27T22:00:00\", \"2020-02-26T23:30:00\", \"2020-02-25T22:00:00\", \"2020-02-24T23:00:00\", \"2020-02-23T22:00:00\", \"2020-02-22T23:00:00\", \"2020-02-21T23:00:00\", \"2020-02-20T22:00:00\", \"2020-02-19T23:00:00\", \"2020-02-18T23:00:00\", \"2020-02-17T23:00:00\", \"2020-02-16T22:30:00\", \"2020-02-15T23:00:00\", \"2020-02-14T23:00:00\", \"2020-02-13T22:00:00\", \"2020-02-12T21:30:00\", \"2020-02-11T23:00:00\", \"2020-02-10T22:30:00\", \"2020-02-09T23:00:00\", \"2020-02-08T22:00:00\", \"2020-02-07T23:00:00\", \"2020-02-06T21:30:00\", \"2020-02-05T23:00:00\", \"2020-02-04T20:00:00\", \"2020-02-03T20:00:00\", \"2020-02-02T22:00:00\", \"2020-02-01T23:00:00\", \"2020-01-31T19:00:00\", \"2020-01-30T21:30:00\", \"2020-01-29T21:00:00\", \"2020-01-28T23:00:00\", \"2020-01-27T20:30:00\", \"2020-01-26T23:00:00\", \"2020-01-25T22:00:00\", \"2020-01-24T12:00:00\", \"2020-01-23T00:00:00\", \"2020-01-22T00:00:00\", \"2020-01-21T00:00:00\"], \"y\": [4982, 4168, 3669, 3068, 2184, 1880, 1483, 1079, 913, 626, 517, 449, 408, 303, 281, 264, 230, 225, 214, 196, 183, 165, 145, 126, 116, 98, 86, 68, 57, 49, 43, 34, 31, 22, 20, 17, 13, 11, 10, 10, 8, 6, 6, 3, 3, 0, 0, 0, 0, 0]}],\n",
       "                        {\"font\": {\"color\": \"#292929\"}, \"hovermode\": \"x\", \"legend\": {\"orientation\": \"h\"}, \"margin\": {\"b\": 10, \"l\": 10, \"pad\": 0, \"r\": 10, \"t\": 5}, \"paper_bgcolor\": \"#cbd2d3\", \"plot_bgcolor\": \"#f4f4f2\", \"template\": {\"data\": {\"bar\": [{\"error_x\": {\"color\": \"#2a3f5f\"}, \"error_y\": {\"color\": \"#2a3f5f\"}, \"marker\": {\"line\": {\"color\": \"#E5ECF6\", \"width\": 0.5}}, \"type\": \"bar\"}], \"barpolar\": [{\"marker\": {\"line\": {\"color\": \"#E5ECF6\", \"width\": 0.5}}, \"type\": \"barpolar\"}], \"carpet\": [{\"aaxis\": {\"endlinecolor\": \"#2a3f5f\", \"gridcolor\": \"white\", \"linecolor\": \"white\", \"minorgridcolor\": \"white\", \"startlinecolor\": \"#2a3f5f\"}, \"baxis\": {\"endlinecolor\": \"#2a3f5f\", \"gridcolor\": \"white\", \"linecolor\": \"white\", \"minorgridcolor\": \"white\", \"startlinecolor\": \"#2a3f5f\"}, \"type\": \"carpet\"}], \"choropleth\": [{\"colorbar\": {\"outlinewidth\": 0, \"ticks\": \"\"}, \"type\": \"choropleth\"}], \"contour\": [{\"colorbar\": {\"outlinewidth\": 0, \"ticks\": \"\"}, \"colorscale\": [[0.0, \"#0d0887\"], [0.1111111111111111, \"#46039f\"], [0.2222222222222222, \"#7201a8\"], [0.3333333333333333, \"#9c179e\"], [0.4444444444444444, \"#bd3786\"], [0.5555555555555556, \"#d8576b\"], [0.6666666666666666, \"#ed7953\"], [0.7777777777777778, \"#fb9f3a\"], [0.8888888888888888, \"#fdca26\"], [1.0, \"#f0f921\"]], \"type\": \"contour\"}], \"contourcarpet\": [{\"colorbar\": {\"outlinewidth\": 0, \"ticks\": \"\"}, \"type\": \"contourcarpet\"}], \"heatmap\": [{\"colorbar\": {\"outlinewidth\": 0, \"ticks\": \"\"}, \"colorscale\": [[0.0, \"#0d0887\"], [0.1111111111111111, \"#46039f\"], [0.2222222222222222, \"#7201a8\"], [0.3333333333333333, \"#9c179e\"], [0.4444444444444444, \"#bd3786\"], [0.5555555555555556, \"#d8576b\"], [0.6666666666666666, \"#ed7953\"], [0.7777777777777778, \"#fb9f3a\"], [0.8888888888888888, \"#fdca26\"], [1.0, \"#f0f921\"]], \"type\": \"heatmap\"}], \"heatmapgl\": [{\"colorbar\": {\"outlinewidth\": 0, \"ticks\": \"\"}, \"colorscale\": [[0.0, \"#0d0887\"], [0.1111111111111111, \"#46039f\"], [0.2222222222222222, \"#7201a8\"], [0.3333333333333333, \"#9c179e\"], [0.4444444444444444, \"#bd3786\"], [0.5555555555555556, \"#d8576b\"], [0.6666666666666666, \"#ed7953\"], [0.7777777777777778, \"#fb9f3a\"], [0.8888888888888888, \"#fdca26\"], [1.0, \"#f0f921\"]], \"type\": \"heatmapgl\"}], \"histogram\": [{\"marker\": {\"colorbar\": {\"outlinewidth\": 0, \"ticks\": \"\"}}, \"type\": \"histogram\"}], \"histogram2d\": [{\"colorbar\": {\"outlinewidth\": 0, \"ticks\": \"\"}, \"colorscale\": [[0.0, \"#0d0887\"], [0.1111111111111111, \"#46039f\"], [0.2222222222222222, \"#7201a8\"], [0.3333333333333333, \"#9c179e\"], [0.4444444444444444, \"#bd3786\"], [0.5555555555555556, \"#d8576b\"], [0.6666666666666666, \"#ed7953\"], [0.7777777777777778, \"#fb9f3a\"], [0.8888888888888888, \"#fdca26\"], [1.0, \"#f0f921\"]], \"type\": \"histogram2d\"}], \"histogram2dcontour\": [{\"colorbar\": {\"outlinewidth\": 0, \"ticks\": \"\"}, \"colorscale\": [[0.0, \"#0d0887\"], [0.1111111111111111, \"#46039f\"], [0.2222222222222222, \"#7201a8\"], [0.3333333333333333, \"#9c179e\"], [0.4444444444444444, \"#bd3786\"], [0.5555555555555556, \"#d8576b\"], [0.6666666666666666, \"#ed7953\"], [0.7777777777777778, \"#fb9f3a\"], [0.8888888888888888, \"#fdca26\"], [1.0, \"#f0f921\"]], \"type\": \"histogram2dcontour\"}], \"mesh3d\": [{\"colorbar\": {\"outlinewidth\": 0, \"ticks\": \"\"}, \"type\": \"mesh3d\"}], \"parcoords\": [{\"line\": {\"colorbar\": {\"outlinewidth\": 0, \"ticks\": \"\"}}, \"type\": \"parcoords\"}], \"pie\": [{\"automargin\": true, \"type\": \"pie\"}], \"scatter\": [{\"marker\": {\"colorbar\": {\"outlinewidth\": 0, \"ticks\": \"\"}}, \"type\": \"scatter\"}], \"scatter3d\": [{\"line\": {\"colorbar\": {\"outlinewidth\": 0, \"ticks\": \"\"}}, \"marker\": {\"colorbar\": {\"outlinewidth\": 0, \"ticks\": \"\"}}, \"type\": \"scatter3d\"}], \"scattercarpet\": [{\"marker\": {\"colorbar\": {\"outlinewidth\": 0, \"ticks\": \"\"}}, \"type\": \"scattercarpet\"}], \"scattergeo\": [{\"marker\": {\"colorbar\": {\"outlinewidth\": 0, \"ticks\": \"\"}}, \"type\": \"scattergeo\"}], \"scattergl\": [{\"marker\": {\"colorbar\": {\"outlinewidth\": 0, \"ticks\": \"\"}}, \"type\": \"scattergl\"}], \"scattermapbox\": [{\"marker\": {\"colorbar\": {\"outlinewidth\": 0, \"ticks\": \"\"}}, \"type\": \"scattermapbox\"}], \"scatterpolar\": [{\"marker\": {\"colorbar\": {\"outlinewidth\": 0, \"ticks\": \"\"}}, \"type\": \"scatterpolar\"}], \"scatterpolargl\": [{\"marker\": {\"colorbar\": {\"outlinewidth\": 0, \"ticks\": \"\"}}, \"type\": \"scatterpolargl\"}], \"scatterternary\": [{\"marker\": {\"colorbar\": {\"outlinewidth\": 0, \"ticks\": \"\"}}, \"type\": \"scatterternary\"}], \"surface\": [{\"colorbar\": {\"outlinewidth\": 0, \"ticks\": \"\"}, \"colorscale\": [[0.0, \"#0d0887\"], [0.1111111111111111, \"#46039f\"], [0.2222222222222222, \"#7201a8\"], [0.3333333333333333, \"#9c179e\"], [0.4444444444444444, \"#bd3786\"], [0.5555555555555556, \"#d8576b\"], [0.6666666666666666, \"#ed7953\"], [0.7777777777777778, \"#fb9f3a\"], [0.8888888888888888, \"#fdca26\"], [1.0, \"#f0f921\"]], \"type\": \"surface\"}], \"table\": [{\"cells\": {\"fill\": {\"color\": \"#EBF0F8\"}, \"line\": {\"color\": \"white\"}}, \"header\": {\"fill\": {\"color\": \"#C8D4E3\"}, \"line\": {\"color\": \"white\"}}, \"type\": \"table\"}]}, \"layout\": {\"annotationdefaults\": {\"arrowcolor\": \"#2a3f5f\", \"arrowhead\": 0, \"arrowwidth\": 1}, \"coloraxis\": {\"colorbar\": {\"outlinewidth\": 0, \"ticks\": \"\"}}, \"colorscale\": {\"diverging\": [[0, \"#8e0152\"], [0.1, \"#c51b7d\"], [0.2, \"#de77ae\"], [0.3, \"#f1b6da\"], [0.4, \"#fde0ef\"], [0.5, \"#f7f7f7\"], [0.6, \"#e6f5d0\"], [0.7, \"#b8e186\"], [0.8, \"#7fbc41\"], [0.9, \"#4d9221\"], [1, \"#276419\"]], \"sequential\": [[0.0, \"#0d0887\"], [0.1111111111111111, \"#46039f\"], [0.2222222222222222, \"#7201a8\"], [0.3333333333333333, \"#9c179e\"], [0.4444444444444444, \"#bd3786\"], [0.5555555555555556, \"#d8576b\"], [0.6666666666666666, \"#ed7953\"], [0.7777777777777778, \"#fb9f3a\"], [0.8888888888888888, \"#fdca26\"], [1.0, \"#f0f921\"]], \"sequentialminus\": [[0.0, \"#0d0887\"], [0.1111111111111111, \"#46039f\"], [0.2222222222222222, \"#7201a8\"], [0.3333333333333333, \"#9c179e\"], [0.4444444444444444, \"#bd3786\"], [0.5555555555555556, \"#d8576b\"], [0.6666666666666666, \"#ed7953\"], [0.7777777777777778, \"#fb9f3a\"], [0.8888888888888888, \"#fdca26\"], [1.0, \"#f0f921\"]]}, \"colorway\": [\"#636efa\", \"#EF553B\", \"#00cc96\", \"#ab63fa\", \"#FFA15A\", \"#19d3f3\", \"#FF6692\", \"#B6E880\", \"#FF97FF\", \"#FECB52\"], \"font\": {\"color\": \"#2a3f5f\"}, \"geo\": {\"bgcolor\": \"white\", \"lakecolor\": \"white\", \"landcolor\": \"#E5ECF6\", \"showlakes\": true, \"showland\": true, \"subunitcolor\": \"white\"}, \"hoverlabel\": {\"align\": \"left\"}, \"hovermode\": \"closest\", \"mapbox\": {\"style\": \"light\"}, \"paper_bgcolor\": \"white\", \"plot_bgcolor\": \"#E5ECF6\", \"polar\": {\"angularaxis\": {\"gridcolor\": \"white\", \"linecolor\": \"white\", \"ticks\": \"\"}, \"bgcolor\": \"#E5ECF6\", \"radialaxis\": {\"gridcolor\": \"white\", \"linecolor\": \"white\", \"ticks\": \"\"}}, \"scene\": {\"xaxis\": {\"backgroundcolor\": \"#E5ECF6\", \"gridcolor\": \"white\", \"gridwidth\": 2, \"linecolor\": \"white\", \"showbackground\": true, \"ticks\": \"\", \"zerolinecolor\": \"white\"}, \"yaxis\": {\"backgroundcolor\": \"#E5ECF6\", \"gridcolor\": \"white\", \"gridwidth\": 2, \"linecolor\": \"white\", \"showbackground\": true, \"ticks\": \"\", \"zerolinecolor\": \"white\"}, \"zaxis\": {\"backgroundcolor\": \"#E5ECF6\", \"gridcolor\": \"white\", \"gridwidth\": 2, \"linecolor\": \"white\", \"showbackground\": true, \"ticks\": \"\", \"zerolinecolor\": \"white\"}}, \"shapedefaults\": {\"line\": {\"color\": \"#2a3f5f\"}}, \"ternary\": {\"aaxis\": {\"gridcolor\": \"white\", \"linecolor\": \"white\", \"ticks\": \"\"}, \"baxis\": {\"gridcolor\": \"white\", \"linecolor\": \"white\", \"ticks\": \"\"}, \"bgcolor\": \"#E5ECF6\", \"caxis\": {\"gridcolor\": \"white\", \"linecolor\": \"white\", \"ticks\": \"\"}}, \"title\": {\"x\": 0.05}, \"xaxis\": {\"automargin\": true, \"gridcolor\": \"white\", \"linecolor\": \"white\", \"ticks\": \"\", \"title\": {\"standoff\": 15}, \"zerolinecolor\": \"white\", \"zerolinewidth\": 2}, \"yaxis\": {\"automargin\": true, \"gridcolor\": \"white\", \"linecolor\": \"white\", \"ticks\": \"\", \"title\": {\"standoff\": 15}, \"zerolinecolor\": \"white\", \"zerolinewidth\": 2}}}, \"title\": {\"font\": {\"color\": \"#292929\", \"family\": \"Playfair Display\", \"size\": 20}, \"text\": \"<b>Recovered Cases in Mainland China and Other Region<b>\", \"x\": 0.5, \"xanchor\": \"center\", \"y\": 0.96, \"yanchor\": \"top\"}, \"xaxis\": {\"gridcolor\": \"#cbd2d3\", \"gridwidth\": 0.1, \"linecolor\": \"#272e3e\", \"showline\": true, \"tickformat\": \"%b %d\", \"zeroline\": false}, \"yaxis\": {\"gridcolor\": \"#cbd2d3\", \"gridwidth\": 0.1, \"linecolor\": \"#272e3e\", \"showline\": true, \"tickmode\": \"array\", \"ticktext\": [\"0\", \"10000\", \"20000\", \"30000\", \"40000\", \"50000\", \"60000\", \"70000\"], \"tickvals\": [0, 10000, 20000, 30000, 40000, 50000, 60000, 70000], \"zeroline\": false}},\n",
       "                        {\"responsive\": true}\n",
       "                    ).then(function(){\n",
       "                            \n",
       "var gd = document.getElementById('fb891930-a1a4-4bb4-8aa9-2aa5ecc563ea');\n",
       "var x = new MutationObserver(function (mutations, observer) {{\n",
       "        var display = window.getComputedStyle(gd).display;\n",
       "        if (!display || display === 'none') {{\n",
       "            console.log([gd, 'removed!']);\n",
       "            Plotly.purge(gd);\n",
       "            observer.disconnect();\n",
       "        }}\n",
       "}});\n",
       "\n",
       "// Listen for the removal of the full notebook cells\n",
       "var notebookContainer = gd.closest('#notebook-container');\n",
       "if (notebookContainer) {{\n",
       "    x.observe(notebookContainer, {childList: true});\n",
       "}}\n",
       "\n",
       "// Listen for the clearing of the current output cell\n",
       "var outputEl = gd.closest('.output');\n",
       "if (outputEl) {{\n",
       "    x.observe(outputEl, {childList: true});\n",
       "}}\n",
       "\n",
       "                        })\n",
       "                };\n",
       "                });\n",
       "            </script>\n",
       "        </div>"
      ]
     },
     "metadata": {},
     "output_type": "display_data"
    },
    {
     "data": {
      "text/plain": [
       "'outputs/recovered_cases.html'"
      ]
     },
     "execution_count": 57,
     "metadata": {},
     "output_type": "execute_result"
    }
   ],
   "source": [
    "# Line plot for recovered cases\n",
    "# Set up tick scale based on confirmed case number\n",
    "tickList = list(np.arange(0, df_recovered['Mainland China'].max()+10000, 10000))\n",
    "\n",
    "# Create empty figure canvas\n",
    "fig_recovered = go.Figure()\n",
    "# Add trace to the figure\n",
    "fig_recovered.add_trace(go.Scatter(x=df_recovered['Date'], y=df_recovered['Mainland China'],\n",
    "                                   mode='lines+markers',\n",
    "                                   name='Mainland China',\n",
    "                                   line=dict(color='#168038', width=3),\n",
    "                                   marker=dict(size=8, color='#f4f4f2',\n",
    "                                               line=dict(width=1,color='#168038')),\n",
    "                                   text=[datetime.strftime(d, '%b %d %Y AEDT') for d in df_recovered['Date']],\n",
    "                                   hovertext=['Mainland China recovered<br>{:,d} cases<br>'.format(i) for i in df_recovered['Mainland China']],\n",
    "                                   hovertemplate='<b>%{text}</b><br></br>'+\n",
    "                                                 '%{hovertext}'+\n",
    "                                                 '<extra></extra>'))\n",
    "fig_recovered.add_trace(go.Scatter(x=df_recovered['Date'], y=df_recovered['Other locations'],\n",
    "                                   mode='lines+markers',\n",
    "                                   name='Other Region',\n",
    "                                   line=dict(color='#25d75d', width=3),\n",
    "                                   marker=dict(size=8, color='#f4f4f2',\n",
    "                                               line=dict(width=1,color='#25d75d')),\n",
    "                                   text=[datetime.strftime(d, '%b %d %Y AEDT') for d in df_recovered['Date']],\n",
    "                                   hovertext=['Other locations recovered<br>{:,d} cases<br>'.format(i) for i in df_recovered['Other locations']],\n",
    "                                   hovertemplate='<b>%{text}</b><br></br>'+\n",
    "                                                 '%{hovertext}'+\n",
    "                                                 '<extra></extra>'))\n",
    "# Customise layout\n",
    "fig_recovered.update_layout(\n",
    "    title=dict(\n",
    "       text=\"<b>Recovered Cases in Mainland China and Other Region<b>\",\n",
    "       y=0.96, x=0.5, xanchor='center', yanchor='top',\n",
    "       font=dict(size=20, color=\"#292929\", family=\"Playfair Display\")\n",
    "    ),\n",
    "    margin=go.layout.Margin(\n",
    "        l=10,\n",
    "        r=10,\n",
    "        b=10,\n",
    "        t=5,\n",
    "        pad=0\n",
    "    ),\n",
    "    yaxis=dict(\n",
    "        showline=True, linecolor='#272e3e',\n",
    "        zeroline=False,\n",
    "        gridcolor='#cbd2d3',\n",
    "        gridwidth = .1,\n",
    "        tickmode='array',\n",
    "        # Set tick range based on the maximum number\n",
    "        tickvals=tickList,\n",
    "        # Set tick label accordingly\n",
    "        ticktext=['{:.0f}'.format(i) for i in tickList]\n",
    "    ),\n",
    "#    yaxis_title=\"Total Recovered Case Number\",\n",
    "    xaxis=dict(\n",
    "        showline=True, linecolor='#272e3e',\n",
    "        gridcolor='#cbd2d3',\n",
    "        gridwidth = .1,\n",
    "        zeroline=False\n",
    "    ),\n",
    "    xaxis_tickformat='%b %d',\n",
    "    hovermode = 'x',\n",
    "    legend_orientation=\"h\",\n",
    "#    legend=dict(x=.35, y=-.05),\n",
    "    plot_bgcolor='#f4f4f2',\n",
    "    paper_bgcolor='#cbd2d3',\n",
    "    font=dict(color='#292929')\n",
    ")\n",
    "\n",
    "fig_recovered.show()\n",
    "pyo.plot(fig_recovered, filename='outputs/recovered_cases.html')"
   ]
  },
  {
   "cell_type": "code",
   "execution_count": 58,
   "metadata": {},
   "outputs": [
    {
     "data": {
      "application/vnd.plotly.v1+json": {
       "config": {
        "plotlyServerURL": "https://plot.ly"
       },
       "data": [
        {
         "hovertemplate": "<b>%{text}</b><br></br>%{hovertext}<extra></extra>",
         "hovertext": [
          "Mainland China death<br>3,136 cases<br>",
          "Mainland China death<br>3,136 cases<br>",
          "Mainland China death<br>3,119 cases<br>",
          "Mainland China death<br>3,097 cases<br>",
          "Mainland China death<br>3,070 cases<br>",
          "Mainland China death<br>3,042 cases<br>",
          "Mainland China death<br>3,012 cases<br>",
          "Mainland China death<br>2,981 cases<br>",
          "Mainland China death<br>2,943 cases<br>",
          "Mainland China death<br>2,912 cases<br>",
          "Mainland China death<br>2,870 cases<br>",
          "Mainland China death<br>2,835 cases<br>",
          "Mainland China death<br>2,788 cases<br>",
          "Mainland China death<br>2,744 cases<br>",
          "Mainland China death<br>2,715 cases<br>",
          "Mainland China death<br>2,663 cases<br>",
          "Mainland China death<br>2,592 cases<br>",
          "Mainland China death<br>2,442 cases<br>",
          "Mainland China death<br>2,344 cases<br>",
          "Mainland China death<br>2,236 cases<br>",
          "Mainland China death<br>2,118 cases<br>",
          "Mainland China death<br>2,004 cases<br>",
          "Mainland China death<br>1,868 cases<br>",
          "Mainland China death<br>1,770 cases<br>",
          "Mainland China death<br>1,665 cases<br>",
          "Mainland China death<br>1,523 cases<br>",
          "Mainland China death<br>1,380 cases<br>",
          "Mainland China death<br>1,366 cases<br>",
          "Mainland China death<br>1,113 cases<br>",
          "Mainland China death<br>1,015 cases<br>",
          "Mainland China death<br>908 cases<br>",
          "Mainland China death<br>811 cases<br>",
          "Mainland China death<br>722 cases<br>",
          "Mainland China death<br>636 cases<br>",
          "Mainland China death<br>563 cases<br>",
          "Mainland China death<br>490 cases<br>",
          "Mainland China death<br>425 cases<br>",
          "Mainland China death<br>361 cases<br>",
          "Mainland China death<br>304 cases<br>",
          "Mainland China death<br>259 cases<br>",
          "Mainland China death<br>213 cases<br>",
          "Mainland China death<br>170 cases<br>",
          "Mainland China death<br>132 cases<br>",
          "Mainland China death<br>107 cases<br>",
          "Mainland China death<br>80 cases<br>",
          "Mainland China death<br>56 cases<br>",
          "Mainland China death<br>26 cases<br>",
          "Mainland China death<br>18 cases<br>",
          "Mainland China death<br>17 cases<br>",
          "Mainland China death<br>6 cases<br>"
         ],
         "line": {
          "color": "#626262",
          "width": 3
         },
         "marker": {
          "color": "#f4f4f2",
          "line": {
           "color": "#626262",
           "width": 1
          },
          "size": 8
         },
         "mode": "lines+markers",
         "name": "Mainland China",
         "text": [
          "Mar 10 2020 AEDT",
          "Mar 09 2020 AEDT",
          "Mar 08 2020 AEDT",
          "Mar 07 2020 AEDT",
          "Mar 06 2020 AEDT",
          "Mar 05 2020 AEDT",
          "Mar 04 2020 AEDT",
          "Mar 03 2020 AEDT",
          "Mar 02 2020 AEDT",
          "Mar 01 2020 AEDT",
          "Feb 29 2020 AEDT",
          "Feb 28 2020 AEDT",
          "Feb 27 2020 AEDT",
          "Feb 26 2020 AEDT",
          "Feb 25 2020 AEDT",
          "Feb 24 2020 AEDT",
          "Feb 23 2020 AEDT",
          "Feb 22 2020 AEDT",
          "Feb 21 2020 AEDT",
          "Feb 20 2020 AEDT",
          "Feb 19 2020 AEDT",
          "Feb 18 2020 AEDT",
          "Feb 17 2020 AEDT",
          "Feb 16 2020 AEDT",
          "Feb 15 2020 AEDT",
          "Feb 14 2020 AEDT",
          "Feb 13 2020 AEDT",
          "Feb 12 2020 AEDT",
          "Feb 11 2020 AEDT",
          "Feb 10 2020 AEDT",
          "Feb 09 2020 AEDT",
          "Feb 08 2020 AEDT",
          "Feb 07 2020 AEDT",
          "Feb 06 2020 AEDT",
          "Feb 05 2020 AEDT",
          "Feb 04 2020 AEDT",
          "Feb 03 2020 AEDT",
          "Feb 02 2020 AEDT",
          "Feb 01 2020 AEDT",
          "Jan 31 2020 AEDT",
          "Jan 30 2020 AEDT",
          "Jan 29 2020 AEDT",
          "Jan 28 2020 AEDT",
          "Jan 27 2020 AEDT",
          "Jan 26 2020 AEDT",
          "Jan 25 2020 AEDT",
          "Jan 24 2020 AEDT",
          "Jan 23 2020 AEDT",
          "Jan 22 2020 AEDT",
          "Jan 21 2020 AEDT"
         ],
         "type": "scatter",
         "x": [
          "2020-03-10T14:30:00",
          "2020-03-09T22:30:00",
          "2020-03-08T22:00:00",
          "2020-03-07T22:00:00",
          "2020-03-06T20:30:00",
          "2020-03-05T20:30:00",
          "2020-03-04T22:00:00",
          "2020-03-03T23:30:00",
          "2020-03-02T22:00:00",
          "2020-03-01T23:00:00",
          "2020-02-29T23:00:00",
          "2020-02-28T23:00:00",
          "2020-02-27T22:00:00",
          "2020-02-26T23:30:00",
          "2020-02-25T22:00:00",
          "2020-02-24T23:00:00",
          "2020-02-23T22:00:00",
          "2020-02-22T23:00:00",
          "2020-02-21T23:00:00",
          "2020-02-20T22:00:00",
          "2020-02-19T23:00:00",
          "2020-02-18T23:00:00",
          "2020-02-17T23:00:00",
          "2020-02-16T22:30:00",
          "2020-02-15T23:00:00",
          "2020-02-14T23:00:00",
          "2020-02-13T22:00:00",
          "2020-02-12T21:30:00",
          "2020-02-11T23:00:00",
          "2020-02-10T22:30:00",
          "2020-02-09T23:00:00",
          "2020-02-08T22:00:00",
          "2020-02-07T23:00:00",
          "2020-02-06T21:30:00",
          "2020-02-05T23:00:00",
          "2020-02-04T20:00:00",
          "2020-02-03T20:00:00",
          "2020-02-02T22:00:00",
          "2020-02-01T23:00:00",
          "2020-01-31T19:00:00",
          "2020-01-30T21:30:00",
          "2020-01-29T21:00:00",
          "2020-01-28T23:00:00",
          "2020-01-27T20:30:00",
          "2020-01-26T23:00:00",
          "2020-01-25T22:00:00",
          "2020-01-24T12:00:00",
          "2020-01-23T00:00:00",
          "2020-01-22T00:00:00",
          "2020-01-21T00:00:00"
         ],
         "y": [
          3136,
          3136,
          3119,
          3097,
          3070,
          3042,
          3012,
          2981,
          2943,
          2912,
          2870,
          2835,
          2788,
          2744,
          2715,
          2663,
          2592,
          2442,
          2344,
          2236,
          2118,
          2004,
          1868,
          1770,
          1665,
          1523,
          1380,
          1366,
          1113,
          1015,
          908,
          811,
          722,
          636,
          563,
          490,
          425,
          361,
          304,
          259,
          213,
          170,
          132,
          107,
          80,
          56,
          26,
          18,
          17,
          6
         ]
        },
        {
         "hovertemplate": "<b>%{text}</b><br></br>%{hovertext}<extra></extra>",
         "hovertext": [
          "Other locations death<br>1,129 cases<br>",
          "Other locations death<br>890 cases<br>",
          "Other locations death<br>711 cases<br>",
          "Other locations death<br>502 cases<br>",
          "Other locations death<br>419 cases<br>",
          "Other locations death<br>342 cases<br>",
          "Other locations death<br>271 cases<br>",
          "Other locations death<br>221 cases<br>",
          "Other locations death<br>173 cases<br>",
          "Other locations death<br>139 cases<br>",
          "Other locations death<br>109 cases<br>",
          "Other locations death<br>89 cases<br>",
          "Other locations death<br>70 cases<br>",
          "Other locations death<br>57 cases<br>",
          "Other locations death<br>49 cases<br>",
          "Other locations death<br>38 cases<br>",
          "Other locations death<br>27 cases<br>",
          "Other locations death<br>20 cases<br>",
          "Other locations death<br>15 cases<br>",
          "Other locations death<br>11 cases<br>",
          "Other locations death<br>10 cases<br>",
          "Other locations death<br>6 cases<br>",
          "Other locations death<br>5 cases<br>",
          "Other locations death<br>5 cases<br>",
          "Other locations death<br>4 cases<br>",
          "Other locations death<br>3 cases<br>",
          "Other locations death<br>3 cases<br>",
          "Other locations death<br>2 cases<br>",
          "Other locations death<br>2 cases<br>",
          "Other locations death<br>2 cases<br>",
          "Other locations death<br>2 cases<br>",
          "Other locations death<br>2 cases<br>",
          "Other locations death<br>2 cases<br>",
          "Other locations death<br>2 cases<br>",
          "Other locations death<br>2 cases<br>",
          "Other locations death<br>2 cases<br>",
          "Other locations death<br>1 cases<br>",
          "Other locations death<br>1 cases<br>",
          "Other locations death<br>1 cases<br>",
          "Other locations death<br>0 cases<br>",
          "Other locations death<br>0 cases<br>",
          "Other locations death<br>0 cases<br>",
          "Other locations death<br>0 cases<br>",
          "Other locations death<br>0 cases<br>",
          "Other locations death<br>0 cases<br>",
          "Other locations death<br>0 cases<br>",
          "Other locations death<br>0 cases<br>",
          "Other locations death<br>0 cases<br>",
          "Other locations death<br>0 cases<br>",
          "Other locations death<br>0 cases<br>"
         ],
         "line": {
          "color": "#a7a7a7",
          "width": 3
         },
         "marker": {
          "color": "#f4f4f2",
          "line": {
           "color": "#a7a7a7",
           "width": 1
          },
          "size": 8
         },
         "mode": "lines+markers",
         "name": "Other Region",
         "text": [
          "Mar 10 2020 AEDT",
          "Mar 09 2020 AEDT",
          "Mar 08 2020 AEDT",
          "Mar 07 2020 AEDT",
          "Mar 06 2020 AEDT",
          "Mar 05 2020 AEDT",
          "Mar 04 2020 AEDT",
          "Mar 03 2020 AEDT",
          "Mar 02 2020 AEDT",
          "Mar 01 2020 AEDT",
          "Feb 29 2020 AEDT",
          "Feb 28 2020 AEDT",
          "Feb 27 2020 AEDT",
          "Feb 26 2020 AEDT",
          "Feb 25 2020 AEDT",
          "Feb 24 2020 AEDT",
          "Feb 23 2020 AEDT",
          "Feb 22 2020 AEDT",
          "Feb 21 2020 AEDT",
          "Feb 20 2020 AEDT",
          "Feb 19 2020 AEDT",
          "Feb 18 2020 AEDT",
          "Feb 17 2020 AEDT",
          "Feb 16 2020 AEDT",
          "Feb 15 2020 AEDT",
          "Feb 14 2020 AEDT",
          "Feb 13 2020 AEDT",
          "Feb 12 2020 AEDT",
          "Feb 11 2020 AEDT",
          "Feb 10 2020 AEDT",
          "Feb 09 2020 AEDT",
          "Feb 08 2020 AEDT",
          "Feb 07 2020 AEDT",
          "Feb 06 2020 AEDT",
          "Feb 05 2020 AEDT",
          "Feb 04 2020 AEDT",
          "Feb 03 2020 AEDT",
          "Feb 02 2020 AEDT",
          "Feb 01 2020 AEDT",
          "Jan 31 2020 AEDT",
          "Jan 30 2020 AEDT",
          "Jan 29 2020 AEDT",
          "Jan 28 2020 AEDT",
          "Jan 27 2020 AEDT",
          "Jan 26 2020 AEDT",
          "Jan 25 2020 AEDT",
          "Jan 24 2020 AEDT",
          "Jan 23 2020 AEDT",
          "Jan 22 2020 AEDT",
          "Jan 21 2020 AEDT"
         ],
         "type": "scatter",
         "x": [
          "2020-03-10T14:30:00",
          "2020-03-09T22:30:00",
          "2020-03-08T22:00:00",
          "2020-03-07T22:00:00",
          "2020-03-06T20:30:00",
          "2020-03-05T20:30:00",
          "2020-03-04T22:00:00",
          "2020-03-03T23:30:00",
          "2020-03-02T22:00:00",
          "2020-03-01T23:00:00",
          "2020-02-29T23:00:00",
          "2020-02-28T23:00:00",
          "2020-02-27T22:00:00",
          "2020-02-26T23:30:00",
          "2020-02-25T22:00:00",
          "2020-02-24T23:00:00",
          "2020-02-23T22:00:00",
          "2020-02-22T23:00:00",
          "2020-02-21T23:00:00",
          "2020-02-20T22:00:00",
          "2020-02-19T23:00:00",
          "2020-02-18T23:00:00",
          "2020-02-17T23:00:00",
          "2020-02-16T22:30:00",
          "2020-02-15T23:00:00",
          "2020-02-14T23:00:00",
          "2020-02-13T22:00:00",
          "2020-02-12T21:30:00",
          "2020-02-11T23:00:00",
          "2020-02-10T22:30:00",
          "2020-02-09T23:00:00",
          "2020-02-08T22:00:00",
          "2020-02-07T23:00:00",
          "2020-02-06T21:30:00",
          "2020-02-05T23:00:00",
          "2020-02-04T20:00:00",
          "2020-02-03T20:00:00",
          "2020-02-02T22:00:00",
          "2020-02-01T23:00:00",
          "2020-01-31T19:00:00",
          "2020-01-30T21:30:00",
          "2020-01-29T21:00:00",
          "2020-01-28T23:00:00",
          "2020-01-27T20:30:00",
          "2020-01-26T23:00:00",
          "2020-01-25T22:00:00",
          "2020-01-24T12:00:00",
          "2020-01-23T00:00:00",
          "2020-01-22T00:00:00",
          "2020-01-21T00:00:00"
         ],
         "y": [
          1129,
          890,
          711,
          502,
          419,
          342,
          271,
          221,
          173,
          139,
          109,
          89,
          70,
          57,
          49,
          38,
          27,
          20,
          15,
          11,
          10,
          6,
          5,
          5,
          4,
          3,
          3,
          2,
          2,
          2,
          2,
          2,
          2,
          2,
          2,
          2,
          1,
          1,
          1,
          0,
          0,
          0,
          0,
          0,
          0,
          0,
          0,
          0,
          0,
          0
         ]
        }
       ],
       "layout": {
        "font": {
         "color": "#292929"
        },
        "hovermode": "x",
        "legend": {
         "orientation": "h"
        },
        "margin": {
         "b": 10,
         "l": 10,
         "pad": 0,
         "r": 10,
         "t": 5
        },
        "paper_bgcolor": "#cbd2d3",
        "plot_bgcolor": "#f4f4f2",
        "template": {
         "data": {
          "bar": [
           {
            "error_x": {
             "color": "#2a3f5f"
            },
            "error_y": {
             "color": "#2a3f5f"
            },
            "marker": {
             "line": {
              "color": "#E5ECF6",
              "width": 0.5
             }
            },
            "type": "bar"
           }
          ],
          "barpolar": [
           {
            "marker": {
             "line": {
              "color": "#E5ECF6",
              "width": 0.5
             }
            },
            "type": "barpolar"
           }
          ],
          "carpet": [
           {
            "aaxis": {
             "endlinecolor": "#2a3f5f",
             "gridcolor": "white",
             "linecolor": "white",
             "minorgridcolor": "white",
             "startlinecolor": "#2a3f5f"
            },
            "baxis": {
             "endlinecolor": "#2a3f5f",
             "gridcolor": "white",
             "linecolor": "white",
             "minorgridcolor": "white",
             "startlinecolor": "#2a3f5f"
            },
            "type": "carpet"
           }
          ],
          "choropleth": [
           {
            "colorbar": {
             "outlinewidth": 0,
             "ticks": ""
            },
            "type": "choropleth"
           }
          ],
          "contour": [
           {
            "colorbar": {
             "outlinewidth": 0,
             "ticks": ""
            },
            "colorscale": [
             [
              0,
              "#0d0887"
             ],
             [
              0.1111111111111111,
              "#46039f"
             ],
             [
              0.2222222222222222,
              "#7201a8"
             ],
             [
              0.3333333333333333,
              "#9c179e"
             ],
             [
              0.4444444444444444,
              "#bd3786"
             ],
             [
              0.5555555555555556,
              "#d8576b"
             ],
             [
              0.6666666666666666,
              "#ed7953"
             ],
             [
              0.7777777777777778,
              "#fb9f3a"
             ],
             [
              0.8888888888888888,
              "#fdca26"
             ],
             [
              1,
              "#f0f921"
             ]
            ],
            "type": "contour"
           }
          ],
          "contourcarpet": [
           {
            "colorbar": {
             "outlinewidth": 0,
             "ticks": ""
            },
            "type": "contourcarpet"
           }
          ],
          "heatmap": [
           {
            "colorbar": {
             "outlinewidth": 0,
             "ticks": ""
            },
            "colorscale": [
             [
              0,
              "#0d0887"
             ],
             [
              0.1111111111111111,
              "#46039f"
             ],
             [
              0.2222222222222222,
              "#7201a8"
             ],
             [
              0.3333333333333333,
              "#9c179e"
             ],
             [
              0.4444444444444444,
              "#bd3786"
             ],
             [
              0.5555555555555556,
              "#d8576b"
             ],
             [
              0.6666666666666666,
              "#ed7953"
             ],
             [
              0.7777777777777778,
              "#fb9f3a"
             ],
             [
              0.8888888888888888,
              "#fdca26"
             ],
             [
              1,
              "#f0f921"
             ]
            ],
            "type": "heatmap"
           }
          ],
          "heatmapgl": [
           {
            "colorbar": {
             "outlinewidth": 0,
             "ticks": ""
            },
            "colorscale": [
             [
              0,
              "#0d0887"
             ],
             [
              0.1111111111111111,
              "#46039f"
             ],
             [
              0.2222222222222222,
              "#7201a8"
             ],
             [
              0.3333333333333333,
              "#9c179e"
             ],
             [
              0.4444444444444444,
              "#bd3786"
             ],
             [
              0.5555555555555556,
              "#d8576b"
             ],
             [
              0.6666666666666666,
              "#ed7953"
             ],
             [
              0.7777777777777778,
              "#fb9f3a"
             ],
             [
              0.8888888888888888,
              "#fdca26"
             ],
             [
              1,
              "#f0f921"
             ]
            ],
            "type": "heatmapgl"
           }
          ],
          "histogram": [
           {
            "marker": {
             "colorbar": {
              "outlinewidth": 0,
              "ticks": ""
             }
            },
            "type": "histogram"
           }
          ],
          "histogram2d": [
           {
            "colorbar": {
             "outlinewidth": 0,
             "ticks": ""
            },
            "colorscale": [
             [
              0,
              "#0d0887"
             ],
             [
              0.1111111111111111,
              "#46039f"
             ],
             [
              0.2222222222222222,
              "#7201a8"
             ],
             [
              0.3333333333333333,
              "#9c179e"
             ],
             [
              0.4444444444444444,
              "#bd3786"
             ],
             [
              0.5555555555555556,
              "#d8576b"
             ],
             [
              0.6666666666666666,
              "#ed7953"
             ],
             [
              0.7777777777777778,
              "#fb9f3a"
             ],
             [
              0.8888888888888888,
              "#fdca26"
             ],
             [
              1,
              "#f0f921"
             ]
            ],
            "type": "histogram2d"
           }
          ],
          "histogram2dcontour": [
           {
            "colorbar": {
             "outlinewidth": 0,
             "ticks": ""
            },
            "colorscale": [
             [
              0,
              "#0d0887"
             ],
             [
              0.1111111111111111,
              "#46039f"
             ],
             [
              0.2222222222222222,
              "#7201a8"
             ],
             [
              0.3333333333333333,
              "#9c179e"
             ],
             [
              0.4444444444444444,
              "#bd3786"
             ],
             [
              0.5555555555555556,
              "#d8576b"
             ],
             [
              0.6666666666666666,
              "#ed7953"
             ],
             [
              0.7777777777777778,
              "#fb9f3a"
             ],
             [
              0.8888888888888888,
              "#fdca26"
             ],
             [
              1,
              "#f0f921"
             ]
            ],
            "type": "histogram2dcontour"
           }
          ],
          "mesh3d": [
           {
            "colorbar": {
             "outlinewidth": 0,
             "ticks": ""
            },
            "type": "mesh3d"
           }
          ],
          "parcoords": [
           {
            "line": {
             "colorbar": {
              "outlinewidth": 0,
              "ticks": ""
             }
            },
            "type": "parcoords"
           }
          ],
          "pie": [
           {
            "automargin": true,
            "type": "pie"
           }
          ],
          "scatter": [
           {
            "marker": {
             "colorbar": {
              "outlinewidth": 0,
              "ticks": ""
             }
            },
            "type": "scatter"
           }
          ],
          "scatter3d": [
           {
            "line": {
             "colorbar": {
              "outlinewidth": 0,
              "ticks": ""
             }
            },
            "marker": {
             "colorbar": {
              "outlinewidth": 0,
              "ticks": ""
             }
            },
            "type": "scatter3d"
           }
          ],
          "scattercarpet": [
           {
            "marker": {
             "colorbar": {
              "outlinewidth": 0,
              "ticks": ""
             }
            },
            "type": "scattercarpet"
           }
          ],
          "scattergeo": [
           {
            "marker": {
             "colorbar": {
              "outlinewidth": 0,
              "ticks": ""
             }
            },
            "type": "scattergeo"
           }
          ],
          "scattergl": [
           {
            "marker": {
             "colorbar": {
              "outlinewidth": 0,
              "ticks": ""
             }
            },
            "type": "scattergl"
           }
          ],
          "scattermapbox": [
           {
            "marker": {
             "colorbar": {
              "outlinewidth": 0,
              "ticks": ""
             }
            },
            "type": "scattermapbox"
           }
          ],
          "scatterpolar": [
           {
            "marker": {
             "colorbar": {
              "outlinewidth": 0,
              "ticks": ""
             }
            },
            "type": "scatterpolar"
           }
          ],
          "scatterpolargl": [
           {
            "marker": {
             "colorbar": {
              "outlinewidth": 0,
              "ticks": ""
             }
            },
            "type": "scatterpolargl"
           }
          ],
          "scatterternary": [
           {
            "marker": {
             "colorbar": {
              "outlinewidth": 0,
              "ticks": ""
             }
            },
            "type": "scatterternary"
           }
          ],
          "surface": [
           {
            "colorbar": {
             "outlinewidth": 0,
             "ticks": ""
            },
            "colorscale": [
             [
              0,
              "#0d0887"
             ],
             [
              0.1111111111111111,
              "#46039f"
             ],
             [
              0.2222222222222222,
              "#7201a8"
             ],
             [
              0.3333333333333333,
              "#9c179e"
             ],
             [
              0.4444444444444444,
              "#bd3786"
             ],
             [
              0.5555555555555556,
              "#d8576b"
             ],
             [
              0.6666666666666666,
              "#ed7953"
             ],
             [
              0.7777777777777778,
              "#fb9f3a"
             ],
             [
              0.8888888888888888,
              "#fdca26"
             ],
             [
              1,
              "#f0f921"
             ]
            ],
            "type": "surface"
           }
          ],
          "table": [
           {
            "cells": {
             "fill": {
              "color": "#EBF0F8"
             },
             "line": {
              "color": "white"
             }
            },
            "header": {
             "fill": {
              "color": "#C8D4E3"
             },
             "line": {
              "color": "white"
             }
            },
            "type": "table"
           }
          ]
         },
         "layout": {
          "annotationdefaults": {
           "arrowcolor": "#2a3f5f",
           "arrowhead": 0,
           "arrowwidth": 1
          },
          "coloraxis": {
           "colorbar": {
            "outlinewidth": 0,
            "ticks": ""
           }
          },
          "colorscale": {
           "diverging": [
            [
             0,
             "#8e0152"
            ],
            [
             0.1,
             "#c51b7d"
            ],
            [
             0.2,
             "#de77ae"
            ],
            [
             0.3,
             "#f1b6da"
            ],
            [
             0.4,
             "#fde0ef"
            ],
            [
             0.5,
             "#f7f7f7"
            ],
            [
             0.6,
             "#e6f5d0"
            ],
            [
             0.7,
             "#b8e186"
            ],
            [
             0.8,
             "#7fbc41"
            ],
            [
             0.9,
             "#4d9221"
            ],
            [
             1,
             "#276419"
            ]
           ],
           "sequential": [
            [
             0,
             "#0d0887"
            ],
            [
             0.1111111111111111,
             "#46039f"
            ],
            [
             0.2222222222222222,
             "#7201a8"
            ],
            [
             0.3333333333333333,
             "#9c179e"
            ],
            [
             0.4444444444444444,
             "#bd3786"
            ],
            [
             0.5555555555555556,
             "#d8576b"
            ],
            [
             0.6666666666666666,
             "#ed7953"
            ],
            [
             0.7777777777777778,
             "#fb9f3a"
            ],
            [
             0.8888888888888888,
             "#fdca26"
            ],
            [
             1,
             "#f0f921"
            ]
           ],
           "sequentialminus": [
            [
             0,
             "#0d0887"
            ],
            [
             0.1111111111111111,
             "#46039f"
            ],
            [
             0.2222222222222222,
             "#7201a8"
            ],
            [
             0.3333333333333333,
             "#9c179e"
            ],
            [
             0.4444444444444444,
             "#bd3786"
            ],
            [
             0.5555555555555556,
             "#d8576b"
            ],
            [
             0.6666666666666666,
             "#ed7953"
            ],
            [
             0.7777777777777778,
             "#fb9f3a"
            ],
            [
             0.8888888888888888,
             "#fdca26"
            ],
            [
             1,
             "#f0f921"
            ]
           ]
          },
          "colorway": [
           "#636efa",
           "#EF553B",
           "#00cc96",
           "#ab63fa",
           "#FFA15A",
           "#19d3f3",
           "#FF6692",
           "#B6E880",
           "#FF97FF",
           "#FECB52"
          ],
          "font": {
           "color": "#2a3f5f"
          },
          "geo": {
           "bgcolor": "white",
           "lakecolor": "white",
           "landcolor": "#E5ECF6",
           "showlakes": true,
           "showland": true,
           "subunitcolor": "white"
          },
          "hoverlabel": {
           "align": "left"
          },
          "hovermode": "closest",
          "mapbox": {
           "style": "light"
          },
          "paper_bgcolor": "white",
          "plot_bgcolor": "#E5ECF6",
          "polar": {
           "angularaxis": {
            "gridcolor": "white",
            "linecolor": "white",
            "ticks": ""
           },
           "bgcolor": "#E5ECF6",
           "radialaxis": {
            "gridcolor": "white",
            "linecolor": "white",
            "ticks": ""
           }
          },
          "scene": {
           "xaxis": {
            "backgroundcolor": "#E5ECF6",
            "gridcolor": "white",
            "gridwidth": 2,
            "linecolor": "white",
            "showbackground": true,
            "ticks": "",
            "zerolinecolor": "white"
           },
           "yaxis": {
            "backgroundcolor": "#E5ECF6",
            "gridcolor": "white",
            "gridwidth": 2,
            "linecolor": "white",
            "showbackground": true,
            "ticks": "",
            "zerolinecolor": "white"
           },
           "zaxis": {
            "backgroundcolor": "#E5ECF6",
            "gridcolor": "white",
            "gridwidth": 2,
            "linecolor": "white",
            "showbackground": true,
            "ticks": "",
            "zerolinecolor": "white"
           }
          },
          "shapedefaults": {
           "line": {
            "color": "#2a3f5f"
           }
          },
          "ternary": {
           "aaxis": {
            "gridcolor": "white",
            "linecolor": "white",
            "ticks": ""
           },
           "baxis": {
            "gridcolor": "white",
            "linecolor": "white",
            "ticks": ""
           },
           "bgcolor": "#E5ECF6",
           "caxis": {
            "gridcolor": "white",
            "linecolor": "white",
            "ticks": ""
           }
          },
          "title": {
           "x": 0.05
          },
          "xaxis": {
           "automargin": true,
           "gridcolor": "white",
           "linecolor": "white",
           "ticks": "",
           "title": {
            "standoff": 15
           },
           "zerolinecolor": "white",
           "zerolinewidth": 2
          },
          "yaxis": {
           "automargin": true,
           "gridcolor": "white",
           "linecolor": "white",
           "ticks": "",
           "title": {
            "standoff": 15
           },
           "zerolinecolor": "white",
           "zerolinewidth": 2
          }
         }
        },
        "title": {
         "font": {
          "color": "#292929",
          "family": "Playfair Display",
          "size": 20
         },
         "text": "<b>Death Cases in Mainland China and Other Region<b>",
         "x": 0.5,
         "xanchor": "center",
         "y": 0.96,
         "yanchor": "top"
        },
        "xaxis": {
         "gridcolor": "#cbd2d3",
         "gridwidth": 0.1,
         "linecolor": "#272e3e",
         "showline": true,
         "tickformat": "%b %d",
         "zeroline": false
        },
        "yaxis": {
         "gridcolor": "#cbd2d3",
         "gridwidth": 0.1,
         "linecolor": "#272e3e",
         "showline": true,
         "tickmode": "array",
         "ticktext": [
          "0",
          "100",
          "200",
          "300",
          "400",
          "500",
          "600",
          "700",
          "800",
          "900",
          "1000",
          "1100",
          "1200",
          "1300",
          "1400",
          "1500",
          "1600",
          "1700",
          "1800",
          "1900",
          "2000",
          "2100",
          "2200",
          "2300",
          "2400",
          "2500",
          "2600",
          "2700",
          "2800",
          "2900",
          "3000",
          "3100",
          "3200"
         ],
         "tickvals": [
          0,
          100,
          200,
          300,
          400,
          500,
          600,
          700,
          800,
          900,
          1000,
          1100,
          1200,
          1300,
          1400,
          1500,
          1600,
          1700,
          1800,
          1900,
          2000,
          2100,
          2200,
          2300,
          2400,
          2500,
          2600,
          2700,
          2800,
          2900,
          3000,
          3100,
          3200
         ],
         "zeroline": false
        }
       }
      },
      "text/html": [
       "<div>\n",
       "        \n",
       "        \n",
       "            <div id=\"b92fa5ec-52f2-4238-91b0-03c1a3f29393\" class=\"plotly-graph-div\" style=\"height:525px; width:100%;\"></div>\n",
       "            <script type=\"text/javascript\">\n",
       "                require([\"plotly\"], function(Plotly) {\n",
       "                    window.PLOTLYENV=window.PLOTLYENV || {};\n",
       "                    \n",
       "                if (document.getElementById(\"b92fa5ec-52f2-4238-91b0-03c1a3f29393\")) {\n",
       "                    Plotly.newPlot(\n",
       "                        'b92fa5ec-52f2-4238-91b0-03c1a3f29393',\n",
       "                        [{\"hovertemplate\": \"<b>%{text}</b><br></br>%{hovertext}<extra></extra>\", \"hovertext\": [\"Mainland China death<br>3,136 cases<br>\", \"Mainland China death<br>3,136 cases<br>\", \"Mainland China death<br>3,119 cases<br>\", \"Mainland China death<br>3,097 cases<br>\", \"Mainland China death<br>3,070 cases<br>\", \"Mainland China death<br>3,042 cases<br>\", \"Mainland China death<br>3,012 cases<br>\", \"Mainland China death<br>2,981 cases<br>\", \"Mainland China death<br>2,943 cases<br>\", \"Mainland China death<br>2,912 cases<br>\", \"Mainland China death<br>2,870 cases<br>\", \"Mainland China death<br>2,835 cases<br>\", \"Mainland China death<br>2,788 cases<br>\", \"Mainland China death<br>2,744 cases<br>\", \"Mainland China death<br>2,715 cases<br>\", \"Mainland China death<br>2,663 cases<br>\", \"Mainland China death<br>2,592 cases<br>\", \"Mainland China death<br>2,442 cases<br>\", \"Mainland China death<br>2,344 cases<br>\", \"Mainland China death<br>2,236 cases<br>\", \"Mainland China death<br>2,118 cases<br>\", \"Mainland China death<br>2,004 cases<br>\", \"Mainland China death<br>1,868 cases<br>\", \"Mainland China death<br>1,770 cases<br>\", \"Mainland China death<br>1,665 cases<br>\", \"Mainland China death<br>1,523 cases<br>\", \"Mainland China death<br>1,380 cases<br>\", \"Mainland China death<br>1,366 cases<br>\", \"Mainland China death<br>1,113 cases<br>\", \"Mainland China death<br>1,015 cases<br>\", \"Mainland China death<br>908 cases<br>\", \"Mainland China death<br>811 cases<br>\", \"Mainland China death<br>722 cases<br>\", \"Mainland China death<br>636 cases<br>\", \"Mainland China death<br>563 cases<br>\", \"Mainland China death<br>490 cases<br>\", \"Mainland China death<br>425 cases<br>\", \"Mainland China death<br>361 cases<br>\", \"Mainland China death<br>304 cases<br>\", \"Mainland China death<br>259 cases<br>\", \"Mainland China death<br>213 cases<br>\", \"Mainland China death<br>170 cases<br>\", \"Mainland China death<br>132 cases<br>\", \"Mainland China death<br>107 cases<br>\", \"Mainland China death<br>80 cases<br>\", \"Mainland China death<br>56 cases<br>\", \"Mainland China death<br>26 cases<br>\", \"Mainland China death<br>18 cases<br>\", \"Mainland China death<br>17 cases<br>\", \"Mainland China death<br>6 cases<br>\"], \"line\": {\"color\": \"#626262\", \"width\": 3}, \"marker\": {\"color\": \"#f4f4f2\", \"line\": {\"color\": \"#626262\", \"width\": 1}, \"size\": 8}, \"mode\": \"lines+markers\", \"name\": \"Mainland China\", \"text\": [\"Mar 10 2020 AEDT\", \"Mar 09 2020 AEDT\", \"Mar 08 2020 AEDT\", \"Mar 07 2020 AEDT\", \"Mar 06 2020 AEDT\", \"Mar 05 2020 AEDT\", \"Mar 04 2020 AEDT\", \"Mar 03 2020 AEDT\", \"Mar 02 2020 AEDT\", \"Mar 01 2020 AEDT\", \"Feb 29 2020 AEDT\", \"Feb 28 2020 AEDT\", \"Feb 27 2020 AEDT\", \"Feb 26 2020 AEDT\", \"Feb 25 2020 AEDT\", \"Feb 24 2020 AEDT\", \"Feb 23 2020 AEDT\", \"Feb 22 2020 AEDT\", \"Feb 21 2020 AEDT\", \"Feb 20 2020 AEDT\", \"Feb 19 2020 AEDT\", \"Feb 18 2020 AEDT\", \"Feb 17 2020 AEDT\", \"Feb 16 2020 AEDT\", \"Feb 15 2020 AEDT\", \"Feb 14 2020 AEDT\", \"Feb 13 2020 AEDT\", \"Feb 12 2020 AEDT\", \"Feb 11 2020 AEDT\", \"Feb 10 2020 AEDT\", \"Feb 09 2020 AEDT\", \"Feb 08 2020 AEDT\", \"Feb 07 2020 AEDT\", \"Feb 06 2020 AEDT\", \"Feb 05 2020 AEDT\", \"Feb 04 2020 AEDT\", \"Feb 03 2020 AEDT\", \"Feb 02 2020 AEDT\", \"Feb 01 2020 AEDT\", \"Jan 31 2020 AEDT\", \"Jan 30 2020 AEDT\", \"Jan 29 2020 AEDT\", \"Jan 28 2020 AEDT\", \"Jan 27 2020 AEDT\", \"Jan 26 2020 AEDT\", \"Jan 25 2020 AEDT\", \"Jan 24 2020 AEDT\", \"Jan 23 2020 AEDT\", \"Jan 22 2020 AEDT\", \"Jan 21 2020 AEDT\"], \"type\": \"scatter\", \"x\": [\"2020-03-10T14:30:00\", \"2020-03-09T22:30:00\", \"2020-03-08T22:00:00\", \"2020-03-07T22:00:00\", \"2020-03-06T20:30:00\", \"2020-03-05T20:30:00\", \"2020-03-04T22:00:00\", \"2020-03-03T23:30:00\", \"2020-03-02T22:00:00\", \"2020-03-01T23:00:00\", \"2020-02-29T23:00:00\", \"2020-02-28T23:00:00\", \"2020-02-27T22:00:00\", \"2020-02-26T23:30:00\", \"2020-02-25T22:00:00\", \"2020-02-24T23:00:00\", \"2020-02-23T22:00:00\", \"2020-02-22T23:00:00\", \"2020-02-21T23:00:00\", \"2020-02-20T22:00:00\", \"2020-02-19T23:00:00\", \"2020-02-18T23:00:00\", \"2020-02-17T23:00:00\", \"2020-02-16T22:30:00\", \"2020-02-15T23:00:00\", \"2020-02-14T23:00:00\", \"2020-02-13T22:00:00\", \"2020-02-12T21:30:00\", \"2020-02-11T23:00:00\", \"2020-02-10T22:30:00\", \"2020-02-09T23:00:00\", \"2020-02-08T22:00:00\", \"2020-02-07T23:00:00\", \"2020-02-06T21:30:00\", \"2020-02-05T23:00:00\", \"2020-02-04T20:00:00\", \"2020-02-03T20:00:00\", \"2020-02-02T22:00:00\", \"2020-02-01T23:00:00\", \"2020-01-31T19:00:00\", \"2020-01-30T21:30:00\", \"2020-01-29T21:00:00\", \"2020-01-28T23:00:00\", \"2020-01-27T20:30:00\", \"2020-01-26T23:00:00\", \"2020-01-25T22:00:00\", \"2020-01-24T12:00:00\", \"2020-01-23T00:00:00\", \"2020-01-22T00:00:00\", \"2020-01-21T00:00:00\"], \"y\": [3136, 3136, 3119, 3097, 3070, 3042, 3012, 2981, 2943, 2912, 2870, 2835, 2788, 2744, 2715, 2663, 2592, 2442, 2344, 2236, 2118, 2004, 1868, 1770, 1665, 1523, 1380, 1366, 1113, 1015, 908, 811, 722, 636, 563, 490, 425, 361, 304, 259, 213, 170, 132, 107, 80, 56, 26, 18, 17, 6]}, {\"hovertemplate\": \"<b>%{text}</b><br></br>%{hovertext}<extra></extra>\", \"hovertext\": [\"Other locations death<br>1,129 cases<br>\", \"Other locations death<br>890 cases<br>\", \"Other locations death<br>711 cases<br>\", \"Other locations death<br>502 cases<br>\", \"Other locations death<br>419 cases<br>\", \"Other locations death<br>342 cases<br>\", \"Other locations death<br>271 cases<br>\", \"Other locations death<br>221 cases<br>\", \"Other locations death<br>173 cases<br>\", \"Other locations death<br>139 cases<br>\", \"Other locations death<br>109 cases<br>\", \"Other locations death<br>89 cases<br>\", \"Other locations death<br>70 cases<br>\", \"Other locations death<br>57 cases<br>\", \"Other locations death<br>49 cases<br>\", \"Other locations death<br>38 cases<br>\", \"Other locations death<br>27 cases<br>\", \"Other locations death<br>20 cases<br>\", \"Other locations death<br>15 cases<br>\", \"Other locations death<br>11 cases<br>\", \"Other locations death<br>10 cases<br>\", \"Other locations death<br>6 cases<br>\", \"Other locations death<br>5 cases<br>\", \"Other locations death<br>5 cases<br>\", \"Other locations death<br>4 cases<br>\", \"Other locations death<br>3 cases<br>\", \"Other locations death<br>3 cases<br>\", \"Other locations death<br>2 cases<br>\", \"Other locations death<br>2 cases<br>\", \"Other locations death<br>2 cases<br>\", \"Other locations death<br>2 cases<br>\", \"Other locations death<br>2 cases<br>\", \"Other locations death<br>2 cases<br>\", \"Other locations death<br>2 cases<br>\", \"Other locations death<br>2 cases<br>\", \"Other locations death<br>2 cases<br>\", \"Other locations death<br>1 cases<br>\", \"Other locations death<br>1 cases<br>\", \"Other locations death<br>1 cases<br>\", \"Other locations death<br>0 cases<br>\", \"Other locations death<br>0 cases<br>\", \"Other locations death<br>0 cases<br>\", \"Other locations death<br>0 cases<br>\", \"Other locations death<br>0 cases<br>\", \"Other locations death<br>0 cases<br>\", \"Other locations death<br>0 cases<br>\", \"Other locations death<br>0 cases<br>\", \"Other locations death<br>0 cases<br>\", \"Other locations death<br>0 cases<br>\", \"Other locations death<br>0 cases<br>\"], \"line\": {\"color\": \"#a7a7a7\", \"width\": 3}, \"marker\": {\"color\": \"#f4f4f2\", \"line\": {\"color\": \"#a7a7a7\", \"width\": 1}, \"size\": 8}, \"mode\": \"lines+markers\", \"name\": \"Other Region\", \"text\": [\"Mar 10 2020 AEDT\", \"Mar 09 2020 AEDT\", \"Mar 08 2020 AEDT\", \"Mar 07 2020 AEDT\", \"Mar 06 2020 AEDT\", \"Mar 05 2020 AEDT\", \"Mar 04 2020 AEDT\", \"Mar 03 2020 AEDT\", \"Mar 02 2020 AEDT\", \"Mar 01 2020 AEDT\", \"Feb 29 2020 AEDT\", \"Feb 28 2020 AEDT\", \"Feb 27 2020 AEDT\", \"Feb 26 2020 AEDT\", \"Feb 25 2020 AEDT\", \"Feb 24 2020 AEDT\", \"Feb 23 2020 AEDT\", \"Feb 22 2020 AEDT\", \"Feb 21 2020 AEDT\", \"Feb 20 2020 AEDT\", \"Feb 19 2020 AEDT\", \"Feb 18 2020 AEDT\", \"Feb 17 2020 AEDT\", \"Feb 16 2020 AEDT\", \"Feb 15 2020 AEDT\", \"Feb 14 2020 AEDT\", \"Feb 13 2020 AEDT\", \"Feb 12 2020 AEDT\", \"Feb 11 2020 AEDT\", \"Feb 10 2020 AEDT\", \"Feb 09 2020 AEDT\", \"Feb 08 2020 AEDT\", \"Feb 07 2020 AEDT\", \"Feb 06 2020 AEDT\", \"Feb 05 2020 AEDT\", \"Feb 04 2020 AEDT\", \"Feb 03 2020 AEDT\", \"Feb 02 2020 AEDT\", \"Feb 01 2020 AEDT\", \"Jan 31 2020 AEDT\", \"Jan 30 2020 AEDT\", \"Jan 29 2020 AEDT\", \"Jan 28 2020 AEDT\", \"Jan 27 2020 AEDT\", \"Jan 26 2020 AEDT\", \"Jan 25 2020 AEDT\", \"Jan 24 2020 AEDT\", \"Jan 23 2020 AEDT\", \"Jan 22 2020 AEDT\", \"Jan 21 2020 AEDT\"], \"type\": \"scatter\", \"x\": [\"2020-03-10T14:30:00\", \"2020-03-09T22:30:00\", \"2020-03-08T22:00:00\", \"2020-03-07T22:00:00\", \"2020-03-06T20:30:00\", \"2020-03-05T20:30:00\", \"2020-03-04T22:00:00\", \"2020-03-03T23:30:00\", \"2020-03-02T22:00:00\", \"2020-03-01T23:00:00\", \"2020-02-29T23:00:00\", \"2020-02-28T23:00:00\", \"2020-02-27T22:00:00\", \"2020-02-26T23:30:00\", \"2020-02-25T22:00:00\", \"2020-02-24T23:00:00\", \"2020-02-23T22:00:00\", \"2020-02-22T23:00:00\", \"2020-02-21T23:00:00\", \"2020-02-20T22:00:00\", \"2020-02-19T23:00:00\", \"2020-02-18T23:00:00\", \"2020-02-17T23:00:00\", \"2020-02-16T22:30:00\", \"2020-02-15T23:00:00\", \"2020-02-14T23:00:00\", \"2020-02-13T22:00:00\", \"2020-02-12T21:30:00\", \"2020-02-11T23:00:00\", \"2020-02-10T22:30:00\", \"2020-02-09T23:00:00\", \"2020-02-08T22:00:00\", \"2020-02-07T23:00:00\", \"2020-02-06T21:30:00\", \"2020-02-05T23:00:00\", \"2020-02-04T20:00:00\", \"2020-02-03T20:00:00\", \"2020-02-02T22:00:00\", \"2020-02-01T23:00:00\", \"2020-01-31T19:00:00\", \"2020-01-30T21:30:00\", \"2020-01-29T21:00:00\", \"2020-01-28T23:00:00\", \"2020-01-27T20:30:00\", \"2020-01-26T23:00:00\", \"2020-01-25T22:00:00\", \"2020-01-24T12:00:00\", \"2020-01-23T00:00:00\", \"2020-01-22T00:00:00\", \"2020-01-21T00:00:00\"], \"y\": [1129, 890, 711, 502, 419, 342, 271, 221, 173, 139, 109, 89, 70, 57, 49, 38, 27, 20, 15, 11, 10, 6, 5, 5, 4, 3, 3, 2, 2, 2, 2, 2, 2, 2, 2, 2, 1, 1, 1, 0, 0, 0, 0, 0, 0, 0, 0, 0, 0, 0]}],\n",
       "                        {\"font\": {\"color\": \"#292929\"}, \"hovermode\": \"x\", \"legend\": {\"orientation\": \"h\"}, \"margin\": {\"b\": 10, \"l\": 10, \"pad\": 0, \"r\": 10, \"t\": 5}, \"paper_bgcolor\": \"#cbd2d3\", \"plot_bgcolor\": \"#f4f4f2\", \"template\": {\"data\": {\"bar\": [{\"error_x\": {\"color\": \"#2a3f5f\"}, \"error_y\": {\"color\": \"#2a3f5f\"}, \"marker\": {\"line\": {\"color\": \"#E5ECF6\", \"width\": 0.5}}, \"type\": \"bar\"}], \"barpolar\": [{\"marker\": {\"line\": {\"color\": \"#E5ECF6\", \"width\": 0.5}}, \"type\": \"barpolar\"}], \"carpet\": [{\"aaxis\": {\"endlinecolor\": \"#2a3f5f\", \"gridcolor\": \"white\", \"linecolor\": \"white\", \"minorgridcolor\": \"white\", \"startlinecolor\": \"#2a3f5f\"}, \"baxis\": {\"endlinecolor\": \"#2a3f5f\", \"gridcolor\": \"white\", \"linecolor\": \"white\", \"minorgridcolor\": \"white\", \"startlinecolor\": \"#2a3f5f\"}, \"type\": \"carpet\"}], \"choropleth\": [{\"colorbar\": {\"outlinewidth\": 0, \"ticks\": \"\"}, \"type\": \"choropleth\"}], \"contour\": [{\"colorbar\": {\"outlinewidth\": 0, \"ticks\": \"\"}, \"colorscale\": [[0.0, \"#0d0887\"], [0.1111111111111111, \"#46039f\"], [0.2222222222222222, \"#7201a8\"], [0.3333333333333333, \"#9c179e\"], [0.4444444444444444, \"#bd3786\"], [0.5555555555555556, \"#d8576b\"], [0.6666666666666666, \"#ed7953\"], [0.7777777777777778, \"#fb9f3a\"], [0.8888888888888888, \"#fdca26\"], [1.0, \"#f0f921\"]], \"type\": \"contour\"}], \"contourcarpet\": [{\"colorbar\": {\"outlinewidth\": 0, \"ticks\": \"\"}, \"type\": \"contourcarpet\"}], \"heatmap\": [{\"colorbar\": {\"outlinewidth\": 0, \"ticks\": \"\"}, \"colorscale\": [[0.0, \"#0d0887\"], [0.1111111111111111, \"#46039f\"], [0.2222222222222222, \"#7201a8\"], [0.3333333333333333, \"#9c179e\"], [0.4444444444444444, \"#bd3786\"], [0.5555555555555556, \"#d8576b\"], [0.6666666666666666, \"#ed7953\"], [0.7777777777777778, \"#fb9f3a\"], [0.8888888888888888, \"#fdca26\"], [1.0, \"#f0f921\"]], \"type\": \"heatmap\"}], \"heatmapgl\": [{\"colorbar\": {\"outlinewidth\": 0, \"ticks\": \"\"}, \"colorscale\": [[0.0, \"#0d0887\"], [0.1111111111111111, \"#46039f\"], [0.2222222222222222, \"#7201a8\"], [0.3333333333333333, \"#9c179e\"], [0.4444444444444444, \"#bd3786\"], [0.5555555555555556, \"#d8576b\"], [0.6666666666666666, \"#ed7953\"], [0.7777777777777778, \"#fb9f3a\"], [0.8888888888888888, \"#fdca26\"], [1.0, \"#f0f921\"]], \"type\": \"heatmapgl\"}], \"histogram\": [{\"marker\": {\"colorbar\": {\"outlinewidth\": 0, \"ticks\": \"\"}}, \"type\": \"histogram\"}], \"histogram2d\": [{\"colorbar\": {\"outlinewidth\": 0, \"ticks\": \"\"}, \"colorscale\": [[0.0, \"#0d0887\"], [0.1111111111111111, \"#46039f\"], [0.2222222222222222, \"#7201a8\"], [0.3333333333333333, \"#9c179e\"], [0.4444444444444444, \"#bd3786\"], [0.5555555555555556, \"#d8576b\"], [0.6666666666666666, \"#ed7953\"], [0.7777777777777778, \"#fb9f3a\"], [0.8888888888888888, \"#fdca26\"], [1.0, \"#f0f921\"]], \"type\": \"histogram2d\"}], \"histogram2dcontour\": [{\"colorbar\": {\"outlinewidth\": 0, \"ticks\": \"\"}, \"colorscale\": [[0.0, \"#0d0887\"], [0.1111111111111111, \"#46039f\"], [0.2222222222222222, \"#7201a8\"], [0.3333333333333333, \"#9c179e\"], [0.4444444444444444, \"#bd3786\"], [0.5555555555555556, \"#d8576b\"], [0.6666666666666666, \"#ed7953\"], [0.7777777777777778, \"#fb9f3a\"], [0.8888888888888888, \"#fdca26\"], [1.0, \"#f0f921\"]], \"type\": \"histogram2dcontour\"}], \"mesh3d\": [{\"colorbar\": {\"outlinewidth\": 0, \"ticks\": \"\"}, \"type\": \"mesh3d\"}], \"parcoords\": [{\"line\": {\"colorbar\": {\"outlinewidth\": 0, \"ticks\": \"\"}}, \"type\": \"parcoords\"}], \"pie\": [{\"automargin\": true, \"type\": \"pie\"}], \"scatter\": [{\"marker\": {\"colorbar\": {\"outlinewidth\": 0, \"ticks\": \"\"}}, \"type\": \"scatter\"}], \"scatter3d\": [{\"line\": {\"colorbar\": {\"outlinewidth\": 0, \"ticks\": \"\"}}, \"marker\": {\"colorbar\": {\"outlinewidth\": 0, \"ticks\": \"\"}}, \"type\": \"scatter3d\"}], \"scattercarpet\": [{\"marker\": {\"colorbar\": {\"outlinewidth\": 0, \"ticks\": \"\"}}, \"type\": \"scattercarpet\"}], \"scattergeo\": [{\"marker\": {\"colorbar\": {\"outlinewidth\": 0, \"ticks\": \"\"}}, \"type\": \"scattergeo\"}], \"scattergl\": [{\"marker\": {\"colorbar\": {\"outlinewidth\": 0, \"ticks\": \"\"}}, \"type\": \"scattergl\"}], \"scattermapbox\": [{\"marker\": {\"colorbar\": {\"outlinewidth\": 0, \"ticks\": \"\"}}, \"type\": \"scattermapbox\"}], \"scatterpolar\": [{\"marker\": {\"colorbar\": {\"outlinewidth\": 0, \"ticks\": \"\"}}, \"type\": \"scatterpolar\"}], \"scatterpolargl\": [{\"marker\": {\"colorbar\": {\"outlinewidth\": 0, \"ticks\": \"\"}}, \"type\": \"scatterpolargl\"}], \"scatterternary\": [{\"marker\": {\"colorbar\": {\"outlinewidth\": 0, \"ticks\": \"\"}}, \"type\": \"scatterternary\"}], \"surface\": [{\"colorbar\": {\"outlinewidth\": 0, \"ticks\": \"\"}, \"colorscale\": [[0.0, \"#0d0887\"], [0.1111111111111111, \"#46039f\"], [0.2222222222222222, \"#7201a8\"], [0.3333333333333333, \"#9c179e\"], [0.4444444444444444, \"#bd3786\"], [0.5555555555555556, \"#d8576b\"], [0.6666666666666666, \"#ed7953\"], [0.7777777777777778, \"#fb9f3a\"], [0.8888888888888888, \"#fdca26\"], [1.0, \"#f0f921\"]], \"type\": \"surface\"}], \"table\": [{\"cells\": {\"fill\": {\"color\": \"#EBF0F8\"}, \"line\": {\"color\": \"white\"}}, \"header\": {\"fill\": {\"color\": \"#C8D4E3\"}, \"line\": {\"color\": \"white\"}}, \"type\": \"table\"}]}, \"layout\": {\"annotationdefaults\": {\"arrowcolor\": \"#2a3f5f\", \"arrowhead\": 0, \"arrowwidth\": 1}, \"coloraxis\": {\"colorbar\": {\"outlinewidth\": 0, \"ticks\": \"\"}}, \"colorscale\": {\"diverging\": [[0, \"#8e0152\"], [0.1, \"#c51b7d\"], [0.2, \"#de77ae\"], [0.3, \"#f1b6da\"], [0.4, \"#fde0ef\"], [0.5, \"#f7f7f7\"], [0.6, \"#e6f5d0\"], [0.7, \"#b8e186\"], [0.8, \"#7fbc41\"], [0.9, \"#4d9221\"], [1, \"#276419\"]], \"sequential\": [[0.0, \"#0d0887\"], [0.1111111111111111, \"#46039f\"], [0.2222222222222222, \"#7201a8\"], [0.3333333333333333, \"#9c179e\"], [0.4444444444444444, \"#bd3786\"], [0.5555555555555556, \"#d8576b\"], [0.6666666666666666, \"#ed7953\"], [0.7777777777777778, \"#fb9f3a\"], [0.8888888888888888, \"#fdca26\"], [1.0, \"#f0f921\"]], \"sequentialminus\": [[0.0, \"#0d0887\"], [0.1111111111111111, \"#46039f\"], [0.2222222222222222, \"#7201a8\"], [0.3333333333333333, \"#9c179e\"], [0.4444444444444444, \"#bd3786\"], [0.5555555555555556, \"#d8576b\"], [0.6666666666666666, \"#ed7953\"], [0.7777777777777778, \"#fb9f3a\"], [0.8888888888888888, \"#fdca26\"], [1.0, \"#f0f921\"]]}, \"colorway\": [\"#636efa\", \"#EF553B\", \"#00cc96\", \"#ab63fa\", \"#FFA15A\", \"#19d3f3\", \"#FF6692\", \"#B6E880\", \"#FF97FF\", \"#FECB52\"], \"font\": {\"color\": \"#2a3f5f\"}, \"geo\": {\"bgcolor\": \"white\", \"lakecolor\": \"white\", \"landcolor\": \"#E5ECF6\", \"showlakes\": true, \"showland\": true, \"subunitcolor\": \"white\"}, \"hoverlabel\": {\"align\": \"left\"}, \"hovermode\": \"closest\", \"mapbox\": {\"style\": \"light\"}, \"paper_bgcolor\": \"white\", \"plot_bgcolor\": \"#E5ECF6\", \"polar\": {\"angularaxis\": {\"gridcolor\": \"white\", \"linecolor\": \"white\", \"ticks\": \"\"}, \"bgcolor\": \"#E5ECF6\", \"radialaxis\": {\"gridcolor\": \"white\", \"linecolor\": \"white\", \"ticks\": \"\"}}, \"scene\": {\"xaxis\": {\"backgroundcolor\": \"#E5ECF6\", \"gridcolor\": \"white\", \"gridwidth\": 2, \"linecolor\": \"white\", \"showbackground\": true, \"ticks\": \"\", \"zerolinecolor\": \"white\"}, \"yaxis\": {\"backgroundcolor\": \"#E5ECF6\", \"gridcolor\": \"white\", \"gridwidth\": 2, \"linecolor\": \"white\", \"showbackground\": true, \"ticks\": \"\", \"zerolinecolor\": \"white\"}, \"zaxis\": {\"backgroundcolor\": \"#E5ECF6\", \"gridcolor\": \"white\", \"gridwidth\": 2, \"linecolor\": \"white\", \"showbackground\": true, \"ticks\": \"\", \"zerolinecolor\": \"white\"}}, \"shapedefaults\": {\"line\": {\"color\": \"#2a3f5f\"}}, \"ternary\": {\"aaxis\": {\"gridcolor\": \"white\", \"linecolor\": \"white\", \"ticks\": \"\"}, \"baxis\": {\"gridcolor\": \"white\", \"linecolor\": \"white\", \"ticks\": \"\"}, \"bgcolor\": \"#E5ECF6\", \"caxis\": {\"gridcolor\": \"white\", \"linecolor\": \"white\", \"ticks\": \"\"}}, \"title\": {\"x\": 0.05}, \"xaxis\": {\"automargin\": true, \"gridcolor\": \"white\", \"linecolor\": \"white\", \"ticks\": \"\", \"title\": {\"standoff\": 15}, \"zerolinecolor\": \"white\", \"zerolinewidth\": 2}, \"yaxis\": {\"automargin\": true, \"gridcolor\": \"white\", \"linecolor\": \"white\", \"ticks\": \"\", \"title\": {\"standoff\": 15}, \"zerolinecolor\": \"white\", \"zerolinewidth\": 2}}}, \"title\": {\"font\": {\"color\": \"#292929\", \"family\": \"Playfair Display\", \"size\": 20}, \"text\": \"<b>Death Cases in Mainland China and Other Region<b>\", \"x\": 0.5, \"xanchor\": \"center\", \"y\": 0.96, \"yanchor\": \"top\"}, \"xaxis\": {\"gridcolor\": \"#cbd2d3\", \"gridwidth\": 0.1, \"linecolor\": \"#272e3e\", \"showline\": true, \"tickformat\": \"%b %d\", \"zeroline\": false}, \"yaxis\": {\"gridcolor\": \"#cbd2d3\", \"gridwidth\": 0.1, \"linecolor\": \"#272e3e\", \"showline\": true, \"tickmode\": \"array\", \"ticktext\": [\"0\", \"100\", \"200\", \"300\", \"400\", \"500\", \"600\", \"700\", \"800\", \"900\", \"1000\", \"1100\", \"1200\", \"1300\", \"1400\", \"1500\", \"1600\", \"1700\", \"1800\", \"1900\", \"2000\", \"2100\", \"2200\", \"2300\", \"2400\", \"2500\", \"2600\", \"2700\", \"2800\", \"2900\", \"3000\", \"3100\", \"3200\"], \"tickvals\": [0, 100, 200, 300, 400, 500, 600, 700, 800, 900, 1000, 1100, 1200, 1300, 1400, 1500, 1600, 1700, 1800, 1900, 2000, 2100, 2200, 2300, 2400, 2500, 2600, 2700, 2800, 2900, 3000, 3100, 3200], \"zeroline\": false}},\n",
       "                        {\"responsive\": true}\n",
       "                    ).then(function(){\n",
       "                            \n",
       "var gd = document.getElementById('b92fa5ec-52f2-4238-91b0-03c1a3f29393');\n",
       "var x = new MutationObserver(function (mutations, observer) {{\n",
       "        var display = window.getComputedStyle(gd).display;\n",
       "        if (!display || display === 'none') {{\n",
       "            console.log([gd, 'removed!']);\n",
       "            Plotly.purge(gd);\n",
       "            observer.disconnect();\n",
       "        }}\n",
       "}});\n",
       "\n",
       "// Listen for the removal of the full notebook cells\n",
       "var notebookContainer = gd.closest('#notebook-container');\n",
       "if (notebookContainer) {{\n",
       "    x.observe(notebookContainer, {childList: true});\n",
       "}}\n",
       "\n",
       "// Listen for the clearing of the current output cell\n",
       "var outputEl = gd.closest('.output');\n",
       "if (outputEl) {{\n",
       "    x.observe(outputEl, {childList: true});\n",
       "}}\n",
       "\n",
       "                        })\n",
       "                };\n",
       "                });\n",
       "            </script>\n",
       "        </div>"
      ]
     },
     "metadata": {},
     "output_type": "display_data"
    },
    {
     "data": {
      "text/plain": [
       "'outputs/deaths_cases.html'"
      ]
     },
     "execution_count": 58,
     "metadata": {},
     "output_type": "execute_result"
    }
   ],
   "source": [
    "# Line plot for deaths cases\n",
    "# Set up tick scale based on confirmed case number\n",
    "tickList = list(np.arange(0, df_deaths['Mainland China'].max()+100, 100))\n",
    "\n",
    "# Create empty figure canvas\n",
    "fig_deaths = go.Figure()\n",
    "# Add trace to the figure\n",
    "fig_deaths.add_trace(go.Scatter(x=df_deaths['Date'], y=df_deaths['Mainland China'],\n",
    "                                mode='lines+markers',\n",
    "                                name='Mainland China',\n",
    "                                line=dict(color='#626262', width=3),\n",
    "                                marker=dict(size=8, color='#f4f4f2',\n",
    "                                            line=dict(width=1,color='#626262')),\n",
    "                                text=[datetime.strftime(d, '%b %d %Y AEDT') for d in df_deaths['Date']],\n",
    "                                hovertext=['Mainland China death<br>{:,d} cases<br>'.format(i) for i in df_deaths['Mainland China']],\n",
    "                                hovertemplate='<b>%{text}</b><br></br>'+\n",
    "                                              '%{hovertext}'+\n",
    "                                              '<extra></extra>'))\n",
    "fig_deaths.add_trace(go.Scatter(x=df_deaths['Date'], y=df_deaths['Other locations'],\n",
    "                                mode='lines+markers',\n",
    "                                name='Other Region',\n",
    "                                line=dict(color='#a7a7a7', width=3),\n",
    "                                marker=dict(size=8, color='#f4f4f2',\n",
    "                                            line=dict(width=1,color='#a7a7a7')),\n",
    "                                text=[datetime.strftime(d, '%b %d %Y AEDT') for d in df_deaths['Date']],\n",
    "                                hovertext=['Other locations death<br>{:,d} cases<br>'.format(i) for i in df_deaths['Other locations']],\n",
    "                                hovertemplate='<b>%{text}</b><br></br>'+\n",
    "                                              '%{hovertext}'+\n",
    "                                              '<extra></extra>'))\n",
    "# Customise layout\n",
    "fig_deaths.update_layout(\n",
    "   title=dict(\n",
    "       text=\"<b>Death Cases in Mainland China and Other Region<b>\",\n",
    "       y=0.96, x=0.5, xanchor='center', yanchor='top',\n",
    "       font=dict(size=20, color=\"#292929\", family=\"Playfair Display\")\n",
    "   ),\n",
    "    margin=go.layout.Margin(\n",
    "        l=10,\n",
    "        r=10,\n",
    "        b=10,\n",
    "        t=5,\n",
    "        pad=0\n",
    "    ),\n",
    "    yaxis=dict(\n",
    "        showline=True, linecolor='#272e3e',\n",
    "        zeroline=False,\n",
    "        gridcolor='#cbd2d3',\n",
    "        gridwidth = .1,\n",
    "        tickmode='array',\n",
    "        # Set tick range based on the maximum number\n",
    "        tickvals=tickList,\n",
    "        # Set tick label accordingly\n",
    "        ticktext=['{:.0f}'.format(i) for i in tickList]\n",
    "    ),\n",
    "#    yaxis_title=\"Total Death Case Number\",\n",
    "    xaxis=dict(\n",
    "        showline=True, linecolor='#272e3e',\n",
    "        gridcolor='#cbd2d3',\n",
    "        gridwidth = .1,\n",
    "        zeroline=False\n",
    "    ),\n",
    "    xaxis_tickformat='%b %d',\n",
    "    hovermode = 'x',\n",
    "    legend_orientation=\"h\",\n",
    "#    legend=dict(x=.35, y=-.05),\n",
    "    plot_bgcolor='#f4f4f2',\n",
    "    paper_bgcolor='#cbd2d3',\n",
    "    font=dict(color='#292929')\n",
    ")\n",
    "\n",
    "fig_deaths.show()\n",
    "pyo.plot(fig_deaths, filename='outputs/deaths_cases.html')"
   ]
  },
  {
   "cell_type": "code",
   "execution_count": null,
   "metadata": {},
   "outputs": [],
   "source": []
  }
 ],
 "metadata": {
  "kernelspec": {
   "display_name": "Python 3",
   "language": "python",
   "name": "python3"
  },
  "language_info": {
   "codemirror_mode": {
    "name": "ipython",
    "version": 3
   },
   "file_extension": ".py",
   "mimetype": "text/x-python",
   "name": "python",
   "nbconvert_exporter": "python",
   "pygments_lexer": "ipython3",
   "version": "3.7.4"
  },
  "latex_envs": {
   "LaTeX_envs_menu_present": true,
   "autoclose": false,
   "autocomplete": true,
   "bibliofile": "biblio.bib",
   "cite_by": "apalike",
   "current_citInitial": 1,
   "eqLabelWithNumbers": true,
   "eqNumInitial": 1,
   "hotkeys": {
    "equation": "Ctrl-E",
    "itemize": "Ctrl-I"
   },
   "labels_anchors": false,
   "latex_user_defs": false,
   "report_style_numbering": false,
   "user_envs_cfg": false
  },
  "toc": {
   "base_numbering": 1,
   "nav_menu": {},
   "number_sections": true,
   "sideBar": true,
   "skip_h1_title": false,
   "title_cell": "Table of Contents",
   "title_sidebar": "Contents",
   "toc_cell": false,
   "toc_position": {},
   "toc_section_display": true,
   "toc_window_display": false
  }
 },
 "nbformat": 4,
 "nbformat_minor": 2
}
