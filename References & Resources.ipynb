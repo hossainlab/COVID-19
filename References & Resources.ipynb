{
 "cells": [
  {
   "cell_type": "markdown",
   "metadata": {},
   "source": [
    "# References & Resources for COVID-19 Study"
   ]
  },
  {
   "cell_type": "markdown",
   "metadata": {},
   "source": [
    "## Python Library for Analysis \n",
    "1. Pandas: https://pandas.pydata.org/\n",
    "2. NumPy: https://numpy.org/\n",
    "3. Matplotlib:https://matplotlib.org/index.html\n",
    "4. Seaborn:https://seaborn.pydata.org/tutorial.html#tutorial\n",
    "5. Folium:https://python-visualization.github.io/folium/index.html\n",
    "6. CalMap: https://github.com/MarvinT/calmap\n",
    "7. Plotnine:https://plotnine.readthedocs.io/en/stable/\n",
    "8. Plotly Express:https://plot.ly/python/plotly-express/\n",
    "9. ColorLover:https://github.com/plotly/colorlover\n"
   ]
  },
  {
   "cell_type": "markdown",
   "metadata": {},
   "source": [
    "## Kaggle Kernels:COVID-19\n",
    "1. https://www.kaggle.com/fatihbilgin/novel-coronavirus-outbreak-analysis\n",
    "2. https://www.kaggle.com/therealcyberlord/coronavirus-covid-19-visualization-prediction\n",
    "3. https://www.kaggle.com/imdevskp/covid-19-analysis-viz-prediction-comparisons\n",
    "4. https://www.kaggle.com/imdevskp/covid19-vs-sars-vs-mers-vs-ebola-vs-h1n1\n",
    "5. https://www.kaggle.com/vikassingh1996/coronavirus-an-exploratory-study-w-detail-report\n",
    "6. https://www.kaggle.com/imdevskp/covid-19-analysis-viz-prediction-comparisons\n",
    "\n",
    "## Kaggle Kernels:Comparative \n",
    "1. https://www.kaggle.com/imdevskp/sars-2003-outbreak-analysis\n",
    "2. https://www.kaggle.com/imdevskp/western-africa-ebola-outbreak-analysis\n",
    "3. https://www.kaggle.com/imdevskp/covid-19-analysis-viz-prediction-comparisons\n"
   ]
  },
  {
   "cell_type": "markdown",
   "metadata": {},
   "source": [
    "## Articles\n",
    "- https://ourworldindata.org/coronavirus\n",
    "- https://www.who.int/emergencies/diseases/novel-coronavirus-2019/situation-reports/"
   ]
  },
  {
   "cell_type": "markdown",
   "metadata": {},
   "source": [
    "## Dashboards\n",
    "- https://healthmap.org/covid-19/\n",
    "- https://gisanddata.maps.arcgis.com/apps/opsdashboard/index.html#/bda7594740fd40299423467b48e9ecf6\n"
   ]
  },
  {
   "cell_type": "markdown",
   "metadata": {},
   "source": [
    "## Health Organizations \n",
    "\n",
    "1. [Johns Hopkins University](https://gisanddata.maps.arcgis.com/apps/opsdashboard/index.html#/bda7594740fd40299423467b48e9ecf6)\n",
    "2. [ECDC](https://www.ecdc.europa.eu/en/geographical-distribution-2019-ncov-cases)\n",
    "3. [CDC](https://www.cdc.gov/coronavirus/2019-ncov/index.html)\n",
    "4. [NHC](http://www.nhc.gov.cn/xcs/yqtb/list_gzbd.shtml)\n",
    "5. [DXY](https://ncov.dxy.cn/ncovh5/view/pneumoniascene=2&clicktime=1579582238&enterid=1579582238&from=singlemessage&isappinstalled=0)\n",
    "6. [WHO](https://www.who.int/emergencies/diseases/novel-coronavirus-2019/situation-reports)"
   ]
  },
  {
   "cell_type": "markdown",
   "metadata": {},
   "source": [
    "## Data Sources \n",
    "1. https://www.kaggle.com/sudalairajkumar/novel-corona-virus-2019-dataset\n",
    "2. https://gisanddata.maps.arcgis.com/apps/opsdashboard/index.html#/bda7594740fd40299423467b48e9ecf6\n",
    "3. https://github.com/CSSEGISandData/COVID-19"
   ]
  },
  {
   "cell_type": "markdown",
   "metadata": {},
   "source": [
    "## Study Design & Documentation\n",
    "1. https://www.draw.io/\n",
    "2. https://www.latex-project.org/\n",
    "3. https://guides.github.com/features/mastering-markdown/"
   ]
  }
 ],
 "metadata": {
  "kernelspec": {
   "display_name": "Python 3",
   "language": "python",
   "name": "python3"
  },
  "language_info": {
   "codemirror_mode": {
    "name": "ipython",
    "version": 3
   },
   "file_extension": ".py",
   "mimetype": "text/x-python",
   "name": "python",
   "nbconvert_exporter": "python",
   "pygments_lexer": "ipython3",
   "version": "3.7.4"
  },
  "latex_envs": {
   "LaTeX_envs_menu_present": true,
   "autoclose": false,
   "autocomplete": true,
   "bibliofile": "biblio.bib",
   "cite_by": "apalike",
   "current_citInitial": 1,
   "eqLabelWithNumbers": true,
   "eqNumInitial": 1,
   "hotkeys": {
    "equation": "Ctrl-E",
    "itemize": "Ctrl-I"
   },
   "labels_anchors": false,
   "latex_user_defs": false,
   "report_style_numbering": false,
   "user_envs_cfg": false
  },
  "toc": {
   "base_numbering": 1,
   "nav_menu": {},
   "number_sections": true,
   "sideBar": true,
   "skip_h1_title": false,
   "title_cell": "Table of Contents",
   "title_sidebar": "Contents",
   "toc_cell": false,
   "toc_position": {},
   "toc_section_display": true,
   "toc_window_display": false
  }
 },
 "nbformat": 4,
 "nbformat_minor": 2
}
