{
 "cells": [
  {
   "cell_type": "markdown",
   "metadata": {},
   "source": [
    "# Pulling COVID-19 Data Using COVID19Py API\n",
    "> COVID19Py is a Python API Wrapper for tracking Coronavirus (COVID-19, SARS-CoV-2)"
   ]
  },
  {
   "cell_type": "code",
   "execution_count": 1,
   "metadata": {},
   "outputs": [],
   "source": [
    "# Libraries for data analysis \n",
    "import numpy as np \n",
    "import pandas as pd \n",
    "import matplotlib as plt \n",
    "from datetime import datetime, timedelta\n",
    "\n",
    "# Pull data by using COVID19Py \n",
    "import COVID19Py"
   ]
  },
  {
   "cell_type": "code",
   "execution_count": 4,
   "metadata": {},
   "outputs": [],
   "source": [
    "# Instanciate an object of COVID19Py\n",
    "covid = COVID19Py.COVID19('https://www.csbs.org/information-covid-19-coronavirus') "
   ]
  },
  {
   "cell_type": "code",
   "execution_count": 5,
   "metadata": {},
   "outputs": [
    {
     "ename": "HTTPError",
     "evalue": "404 Client Error: Not Found for url: https://www.csbs.org/information-covid-19-coronavirus/v2/latest",
     "output_type": "error",
     "traceback": [
      "\u001b[0;31m---------------------------------------------------------------------------\u001b[0m",
      "\u001b[0;31mHTTPError\u001b[0m                                 Traceback (most recent call last)",
      "\u001b[0;32m<ipython-input-5-d44e634779f5>\u001b[0m in \u001b[0;36m<module>\u001b[0;34m\u001b[0m\n\u001b[1;32m      1\u001b[0m \u001b[0;31m# Getting latest info\u001b[0m\u001b[0;34m\u001b[0m\u001b[0;34m\u001b[0m\u001b[0;34m\u001b[0m\u001b[0m\n\u001b[0;32m----> 2\u001b[0;31m \u001b[0mlatest\u001b[0m \u001b[0;34m=\u001b[0m \u001b[0mcovid\u001b[0m\u001b[0;34m.\u001b[0m\u001b[0mgetLatest\u001b[0m\u001b[0;34m(\u001b[0m\u001b[0;34m)\u001b[0m\u001b[0;34m\u001b[0m\u001b[0;34m\u001b[0m\u001b[0m\n\u001b[0m",
      "\u001b[0;32m~/anaconda3/lib/python3.7/site-packages/COVID19Py/covid19.py\u001b[0m in \u001b[0;36mgetLatest\u001b[0;34m(self)\u001b[0m\n\u001b[1;32m     50\u001b[0m         \u001b[0;34m:\u001b[0m\u001b[0;32mreturn\u001b[0m\u001b[0;34m:\u001b[0m \u001b[0mThe\u001b[0m \u001b[0mlatest\u001b[0m \u001b[0mamount\u001b[0m \u001b[0mof\u001b[0m \u001b[0mtotal\u001b[0m \u001b[0mconfirmed\u001b[0m \u001b[0mcases\u001b[0m\u001b[0;34m,\u001b[0m \u001b[0mdeaths\u001b[0m\u001b[0;34m,\u001b[0m \u001b[0;32mand\u001b[0m \u001b[0mrecoveries\u001b[0m\u001b[0;34m.\u001b[0m\u001b[0;34m\u001b[0m\u001b[0;34m\u001b[0m\u001b[0m\n\u001b[1;32m     51\u001b[0m         \"\"\"\n\u001b[0;32m---> 52\u001b[0;31m         \u001b[0mdata\u001b[0m \u001b[0;34m=\u001b[0m \u001b[0mself\u001b[0m\u001b[0;34m.\u001b[0m\u001b[0m_request\u001b[0m\u001b[0;34m(\u001b[0m\u001b[0;34m\"/v2/latest\"\u001b[0m\u001b[0;34m)\u001b[0m\u001b[0;34m\u001b[0m\u001b[0;34m\u001b[0m\u001b[0m\n\u001b[0m\u001b[1;32m     53\u001b[0m         \u001b[0;32mreturn\u001b[0m \u001b[0mdata\u001b[0m\u001b[0;34m[\u001b[0m\u001b[0;34m\"latest\"\u001b[0m\u001b[0;34m]\u001b[0m\u001b[0;34m\u001b[0m\u001b[0;34m\u001b[0m\u001b[0m\n\u001b[1;32m     54\u001b[0m \u001b[0;34m\u001b[0m\u001b[0m\n",
      "\u001b[0;32m~/anaconda3/lib/python3.7/site-packages/COVID19Py/covid19.py\u001b[0m in \u001b[0;36m_request\u001b[0;34m(self, endpoint, params)\u001b[0m\n\u001b[1;32m     23\u001b[0m     \u001b[0;32mdef\u001b[0m \u001b[0m_request\u001b[0m\u001b[0;34m(\u001b[0m\u001b[0mself\u001b[0m\u001b[0;34m,\u001b[0m \u001b[0mendpoint\u001b[0m\u001b[0;34m,\u001b[0m \u001b[0mparams\u001b[0m\u001b[0;34m=\u001b[0m\u001b[0;32mNone\u001b[0m\u001b[0;34m)\u001b[0m\u001b[0;34m:\u001b[0m\u001b[0;34m\u001b[0m\u001b[0;34m\u001b[0m\u001b[0m\n\u001b[1;32m     24\u001b[0m         \u001b[0mresponse\u001b[0m \u001b[0;34m=\u001b[0m \u001b[0mrequests\u001b[0m\u001b[0;34m.\u001b[0m\u001b[0mget\u001b[0m\u001b[0;34m(\u001b[0m\u001b[0mself\u001b[0m\u001b[0;34m.\u001b[0m\u001b[0murl\u001b[0m \u001b[0;34m+\u001b[0m \u001b[0mendpoint\u001b[0m\u001b[0;34m,\u001b[0m \u001b[0mparams\u001b[0m\u001b[0;34m)\u001b[0m\u001b[0;34m\u001b[0m\u001b[0;34m\u001b[0m\u001b[0m\n\u001b[0;32m---> 25\u001b[0;31m         \u001b[0mresponse\u001b[0m\u001b[0;34m.\u001b[0m\u001b[0mraise_for_status\u001b[0m\u001b[0;34m(\u001b[0m\u001b[0;34m)\u001b[0m\u001b[0;34m\u001b[0m\u001b[0;34m\u001b[0m\u001b[0m\n\u001b[0m\u001b[1;32m     26\u001b[0m         \u001b[0;32mreturn\u001b[0m \u001b[0mresponse\u001b[0m\u001b[0;34m.\u001b[0m\u001b[0mjson\u001b[0m\u001b[0;34m(\u001b[0m\u001b[0;34m)\u001b[0m\u001b[0;34m\u001b[0m\u001b[0;34m\u001b[0m\u001b[0m\n\u001b[1;32m     27\u001b[0m \u001b[0;34m\u001b[0m\u001b[0m\n",
      "\u001b[0;32m~/anaconda3/lib/python3.7/site-packages/requests/models.py\u001b[0m in \u001b[0;36mraise_for_status\u001b[0;34m(self)\u001b[0m\n\u001b[1;32m    938\u001b[0m \u001b[0;34m\u001b[0m\u001b[0m\n\u001b[1;32m    939\u001b[0m         \u001b[0;32mif\u001b[0m \u001b[0mhttp_error_msg\u001b[0m\u001b[0;34m:\u001b[0m\u001b[0;34m\u001b[0m\u001b[0;34m\u001b[0m\u001b[0m\n\u001b[0;32m--> 940\u001b[0;31m             \u001b[0;32mraise\u001b[0m \u001b[0mHTTPError\u001b[0m\u001b[0;34m(\u001b[0m\u001b[0mhttp_error_msg\u001b[0m\u001b[0;34m,\u001b[0m \u001b[0mresponse\u001b[0m\u001b[0;34m=\u001b[0m\u001b[0mself\u001b[0m\u001b[0;34m)\u001b[0m\u001b[0;34m\u001b[0m\u001b[0;34m\u001b[0m\u001b[0m\n\u001b[0m\u001b[1;32m    941\u001b[0m \u001b[0;34m\u001b[0m\u001b[0m\n\u001b[1;32m    942\u001b[0m     \u001b[0;32mdef\u001b[0m \u001b[0mclose\u001b[0m\u001b[0;34m(\u001b[0m\u001b[0mself\u001b[0m\u001b[0;34m)\u001b[0m\u001b[0;34m:\u001b[0m\u001b[0;34m\u001b[0m\u001b[0;34m\u001b[0m\u001b[0m\n",
      "\u001b[0;31mHTTPError\u001b[0m: 404 Client Error: Not Found for url: https://www.csbs.org/information-covid-19-coronavirus/v2/latest"
     ]
    }
   ],
   "source": [
    "# Getting latest info \n",
    "latest = covid.getLatest()"
   ]
  },
  {
   "cell_type": "code",
   "execution_count": 28,
   "metadata": {},
   "outputs": [
    {
     "name": "stdout",
     "output_type": "stream",
     "text": [
      "confirmed = 335955\n",
      "deaths = 14632\n",
      "recovered = 97704\n"
     ]
    }
   ],
   "source": [
    "# Printing lates data \n",
    "for key, val in latest.items():\n",
    "    print(f\"{key} = {val}\") "
   ]
  },
  {
   "cell_type": "code",
   "execution_count": 29,
   "metadata": {},
   "outputs": [],
   "source": [
    "# Get all locations --> it gives you a list of dictionaries \n",
    "locations = covid.getLocations()"
   ]
  },
  {
   "cell_type": "code",
   "execution_count": 43,
   "metadata": {},
   "outputs": [
    {
     "data": {
      "text/plain": [
       "[{'coordinates': {'latitude': '30.9756', 'longitude': '112.2707'},\n",
       "  'country': 'China',\n",
       "  'country_code': 'CN',\n",
       "  'id': 154,\n",
       "  'last_updated': '2020-03-23T10:32:11.493284Z',\n",
       "  'latest': {'confirmed': 67800, 'deaths': 3144, 'recovered': 59433},\n",
       "  'province': 'Hubei'},\n",
       " {'coordinates': {'latitude': '32', 'longitude': '53'},\n",
       "  'country': 'Iran',\n",
       "  'country_code': 'IR',\n",
       "  'id': 155,\n",
       "  'last_updated': '2020-03-23T10:32:11.500550Z',\n",
       "  'latest': {'confirmed': 21638, 'deaths': 1685, 'recovered': 7931},\n",
       "  'province': ''},\n",
       " {'coordinates': {'latitude': '43', 'longitude': '12'},\n",
       "  'country': 'Italy',\n",
       "  'country_code': 'IT',\n",
       "  'id': 16,\n",
       "  'last_updated': '2020-03-23T10:32:10.283563Z',\n",
       "  'latest': {'confirmed': 59138, 'deaths': 5476, 'recovered': 7024},\n",
       "  'province': ''},\n",
       " {'coordinates': {'latitude': '36', 'longitude': '128'},\n",
       "  'country': 'Korea, South',\n",
       "  'country_code': 'KR',\n",
       "  'id': 156,\n",
       "  'last_updated': '2020-03-23T10:32:11.508196Z',\n",
       "  'latest': {'confirmed': 8897, 'deaths': 104, 'recovered': 2909},\n",
       "  'province': ''},\n",
       " {'coordinates': {'latitude': '40', 'longitude': '-4'},\n",
       "  'country': 'Spain',\n",
       "  'country_code': 'ES',\n",
       "  'id': 18,\n",
       "  'last_updated': '2020-03-23T10:32:10.301512Z',\n",
       "  'latest': {'confirmed': 28768, 'deaths': 1772, 'recovered': 2575},\n",
       "  'province': ''}]"
      ]
     },
     "execution_count": 43,
     "metadata": {},
     "output_type": "execute_result"
    }
   ],
   "source": [
    "# Examine first few elements of list \n",
    "locations[0:5]"
   ]
  },
  {
   "cell_type": "code",
   "execution_count": 42,
   "metadata": {},
   "outputs": [
    {
     "data": {
      "text/plain": [
       "[{'coordinates': {'latitude': '30.9756', 'longitude': '112.2707'},\n",
       "  'country': 'China',\n",
       "  'country_code': 'CN',\n",
       "  'id': 154,\n",
       "  'last_updated': '2020-03-23T10:32:11.493284Z',\n",
       "  'latest': {'confirmed': 67800, 'deaths': 3144, 'recovered': 59433},\n",
       "  'province': 'Hubei'},\n",
       " {'coordinates': {'latitude': '32', 'longitude': '53'},\n",
       "  'country': 'Iran',\n",
       "  'country_code': 'IR',\n",
       "  'id': 155,\n",
       "  'last_updated': '2020-03-23T10:32:11.500550Z',\n",
       "  'latest': {'confirmed': 21638, 'deaths': 1685, 'recovered': 7931},\n",
       "  'province': ''},\n",
       " {'coordinates': {'latitude': '43', 'longitude': '12'},\n",
       "  'country': 'Italy',\n",
       "  'country_code': 'IT',\n",
       "  'id': 16,\n",
       "  'last_updated': '2020-03-23T10:32:10.283563Z',\n",
       "  'latest': {'confirmed': 59138, 'deaths': 5476, 'recovered': 7024},\n",
       "  'province': ''},\n",
       " {'coordinates': {'latitude': '36', 'longitude': '128'},\n",
       "  'country': 'Korea, South',\n",
       "  'country_code': 'KR',\n",
       "  'id': 156,\n",
       "  'last_updated': '2020-03-23T10:32:11.508196Z',\n",
       "  'latest': {'confirmed': 8897, 'deaths': 104, 'recovered': 2909},\n",
       "  'province': ''},\n",
       " {'coordinates': {'latitude': '40', 'longitude': '-4'},\n",
       "  'country': 'Spain',\n",
       "  'country_code': 'ES',\n",
       "  'id': 18,\n",
       "  'last_updated': '2020-03-23T10:32:10.301512Z',\n",
       "  'latest': {'confirmed': 28768, 'deaths': 1772, 'recovered': 2575},\n",
       "  'province': ''}]"
      ]
     },
     "execution_count": 42,
     "metadata": {},
     "output_type": "execute_result"
    }
   ],
   "source": [
    "# Rank the results by recovered \n",
    "locations = covid.getLocations(rank_by='recovered')\n",
    "locations[0:5]"
   ]
  },
  {
   "cell_type": "code",
   "execution_count": 44,
   "metadata": {},
   "outputs": [
    {
     "data": {
      "text/plain": [
       "[{'coordinates': {'latitude': '43', 'longitude': '12'},\n",
       "  'country': 'Italy',\n",
       "  'country_code': 'IT',\n",
       "  'id': 16,\n",
       "  'last_updated': '2020-03-23T10:32:10.283563Z',\n",
       "  'latest': {'confirmed': 59138, 'deaths': 5476, 'recovered': 7024},\n",
       "  'province': ''},\n",
       " {'coordinates': {'latitude': '30.9756', 'longitude': '112.2707'},\n",
       "  'country': 'China',\n",
       "  'country_code': 'CN',\n",
       "  'id': 154,\n",
       "  'last_updated': '2020-03-23T10:32:11.493284Z',\n",
       "  'latest': {'confirmed': 67800, 'deaths': 3144, 'recovered': 59433},\n",
       "  'province': 'Hubei'},\n",
       " {'coordinates': {'latitude': '40', 'longitude': '-4'},\n",
       "  'country': 'Spain',\n",
       "  'country_code': 'ES',\n",
       "  'id': 18,\n",
       "  'last_updated': '2020-03-23T10:32:10.301512Z',\n",
       "  'latest': {'confirmed': 28768, 'deaths': 1772, 'recovered': 2575},\n",
       "  'province': ''},\n",
       " {'coordinates': {'latitude': '32', 'longitude': '53'},\n",
       "  'country': 'Iran',\n",
       "  'country_code': 'IR',\n",
       "  'id': 155,\n",
       "  'last_updated': '2020-03-23T10:32:11.500550Z',\n",
       "  'latest': {'confirmed': 21638, 'deaths': 1685, 'recovered': 7931},\n",
       "  'province': ''},\n",
       " {'coordinates': {'latitude': '46.2276', 'longitude': '2.2137'},\n",
       "  'country': 'France',\n",
       "  'country_code': 'FR',\n",
       "  'id': 157,\n",
       "  'last_updated': '2020-03-23T10:32:11.516668Z',\n",
       "  'latest': {'confirmed': 16018, 'deaths': 674, 'recovered': 2200},\n",
       "  'province': 'France'}]"
      ]
     },
     "execution_count": 44,
     "metadata": {},
     "output_type": "execute_result"
    }
   ],
   "source": [
    "# Rank the results by deaths \n",
    "locations = covid.getLocations(rank_by='deaths')\n",
    "locations[0:5]"
   ]
  },
  {
   "cell_type": "code",
   "execution_count": 45,
   "metadata": {},
   "outputs": [
    {
     "data": {
      "text/plain": [
       "[{'coordinates': {'latitude': '30.9756', 'longitude': '112.2707'},\n",
       "  'country': 'China',\n",
       "  'country_code': 'CN',\n",
       "  'id': 154,\n",
       "  'last_updated': '2020-03-23T10:32:11.493284Z',\n",
       "  'latest': {'confirmed': 67800, 'deaths': 3144, 'recovered': 59433},\n",
       "  'province': 'Hubei'},\n",
       " {'coordinates': {'latitude': '43', 'longitude': '12'},\n",
       "  'country': 'Italy',\n",
       "  'country_code': 'IT',\n",
       "  'id': 16,\n",
       "  'last_updated': '2020-03-23T10:32:10.283563Z',\n",
       "  'latest': {'confirmed': 59138, 'deaths': 5476, 'recovered': 7024},\n",
       "  'province': ''},\n",
       " {'coordinates': {'latitude': '40', 'longitude': '-4'},\n",
       "  'country': 'Spain',\n",
       "  'country_code': 'ES',\n",
       "  'id': 18,\n",
       "  'last_updated': '2020-03-23T10:32:10.301512Z',\n",
       "  'latest': {'confirmed': 28768, 'deaths': 1772, 'recovered': 2575},\n",
       "  'province': ''},\n",
       " {'coordinates': {'latitude': '51', 'longitude': '9'},\n",
       "  'country': 'Germany',\n",
       "  'country_code': 'DE',\n",
       "  'id': 11,\n",
       "  'last_updated': '2020-03-23T10:32:10.240133Z',\n",
       "  'latest': {'confirmed': 24873, 'deaths': 94, 'recovered': 266},\n",
       "  'province': ''},\n",
       " {'coordinates': {'latitude': '32', 'longitude': '53'},\n",
       "  'country': 'Iran',\n",
       "  'country_code': 'IR',\n",
       "  'id': 155,\n",
       "  'last_updated': '2020-03-23T10:32:11.500550Z',\n",
       "  'latest': {'confirmed': 21638, 'deaths': 1685, 'recovered': 7931},\n",
       "  'province': ''}]"
      ]
     },
     "execution_count": 45,
     "metadata": {},
     "output_type": "execute_result"
    }
   ],
   "source": [
    "# Rank the results by confirmed \n",
    "locations = covid.getLocations(rank_by='confirmed')\n",
    "locations[0:5]"
   ]
  },
  {
   "cell_type": "code",
   "execution_count": 67,
   "metadata": {},
   "outputs": [],
   "source": [
    "# Get all data \n",
    "data = covid.getAll()"
   ]
  },
  {
   "cell_type": "code",
   "execution_count": 61,
   "metadata": {},
   "outputs": [
    {
     "data": {
      "text/plain": [
       "dict_keys(['latest', 'locations'])"
      ]
     },
     "execution_count": 61,
     "metadata": {},
     "output_type": "execute_result"
    }
   ],
   "source": [
    "data.keys()"
   ]
  },
  {
   "cell_type": "code",
   "execution_count": 64,
   "metadata": {},
   "outputs": [
    {
     "data": {
      "text/plain": [
       "{'confirmed': 335955, 'deaths': 14632, 'recovered': 97704}"
      ]
     },
     "execution_count": 64,
     "metadata": {},
     "output_type": "execute_result"
    }
   ],
   "source": [
    "data['latest']"
   ]
  },
  {
   "cell_type": "code",
   "execution_count": 66,
   "metadata": {},
   "outputs": [
    {
     "data": {
      "text/plain": [
       "{'coordinates': {'latitude': '15', 'longitude': '101'},\n",
       " 'country': 'Thailand',\n",
       " 'country_code': 'TH',\n",
       " 'id': 0,\n",
       " 'last_updated': '2020-03-23T10:32:10.146827Z',\n",
       " 'latest': {'confirmed': 599, 'deaths': 1, 'recovered': 44},\n",
       " 'province': ''}"
      ]
     },
     "execution_count": 66,
     "metadata": {},
     "output_type": "execute_result"
    }
   ],
   "source": [
    "data['locations'][0]"
   ]
  },
  {
   "cell_type": "markdown",
   "metadata": {},
   "source": [
    "## Resources \n",
    "- https://github.com/Kamaropoulos/covid19py"
   ]
  }
 ],
 "metadata": {
  "kernelspec": {
   "display_name": "Python 3",
   "language": "python",
   "name": "python3"
  },
  "language_info": {
   "codemirror_mode": {
    "name": "ipython",
    "version": 3
   },
   "file_extension": ".py",
   "mimetype": "text/x-python",
   "name": "python",
   "nbconvert_exporter": "python",
   "pygments_lexer": "ipython3",
   "version": "3.7.4"
  },
  "latex_envs": {
   "LaTeX_envs_menu_present": true,
   "autoclose": false,
   "autocomplete": true,
   "bibliofile": "biblio.bib",
   "cite_by": "apalike",
   "current_citInitial": 1,
   "eqLabelWithNumbers": true,
   "eqNumInitial": 1,
   "hotkeys": {
    "equation": "Ctrl-E",
    "itemize": "Ctrl-I"
   },
   "labels_anchors": false,
   "latex_user_defs": false,
   "report_style_numbering": false,
   "user_envs_cfg": false
  },
  "toc": {
   "base_numbering": 1,
   "nav_menu": {},
   "number_sections": true,
   "sideBar": true,
   "skip_h1_title": false,
   "title_cell": "Table of Contents",
   "title_sidebar": "Contents",
   "toc_cell": false,
   "toc_position": {},
   "toc_section_display": true,
   "toc_window_display": false
  }
 },
 "nbformat": 4,
 "nbformat_minor": 2
}
