{
 "cells": [
  {
   "cell_type": "markdown",
   "metadata": {},
   "source": [
    "# COVID-19 Study Questions "
   ]
  },
  {
   "cell_type": "markdown",
   "metadata": {},
   "source": [
    "## Key Features \n",
    "1. What is Coronavirus? \n",
    "2. Structure of Coronavirus \n",
    "3. Pathogenesis / Disease Cycle / Replication \n",
    "4. Novel Coronavirus: Discovery, Origin\n",
    "5. Risk Groups and Risk Countries \n",
    "6. Epidemiology\n",
    "7. Sign and symptoms \n",
    "8. Diagnosis \n",
    "9. Treatment / Vaccine \n",
    "10. Prevention\n",
    "11. Socio-economic Impact \n",
    "12. Comparison to Other Similar Outbreaks like `SARS`, `MERS`, `Ebola`, `H1N1`\n",
    "\n",
    "## Difference / Comparison \n",
    "- COVID-19 between Ebola\n",
    "- COVID-19 between SARS\n",
    "- COVID-19 between H1N1\n",
    "- COVID-19 between MERS\n",
    "\n",
    "## Data Analysis: Questions\n",
    "- No. of Affected Countries Around the World\n",
    "- No. of Confirmed, Suspected, Recovered, Deaths Cases \n",
    "    - Across the globe\n",
    "    - In China \n",
    "- Spread Over Time\n",
    "    - Across the globe\n",
    "    - In China \n",
    "- Number of Places to which COVID-19 Spread \n",
    "    - Diamond Princess Cruise Ship\n",
    "- Cases Over the Time\n",
    "- Number of new cases everyday\n",
    "- Recovery and Mortality Rate Over The Time\n",
    "- Confirmed cases in each Countries \n",
    "- New Cases in each Countries \n",
    "- New Cases Everyday\n",
    "- Comparison: COVID19 vs SARS vs MERS vs EBOLA vs H1N1\n",
    "- Predict Future!\n",
    "\n",
    "## Data Analysis: Workflow \n",
    "- Data Collection\n",
    "- Data Preprocessing / Data Cleaning \n",
    "- EDA: Numerical Analysis \n",
    "- EDA: Visualizations \n",
    "- Report Writing "
   ]
  }
 ],
 "metadata": {
  "kernelspec": {
   "display_name": "Python 3",
   "language": "python",
   "name": "python3"
  },
  "language_info": {
   "codemirror_mode": {
    "name": "ipython",
    "version": 3
   },
   "file_extension": ".py",
   "mimetype": "text/x-python",
   "name": "python",
   "nbconvert_exporter": "python",
   "pygments_lexer": "ipython3",
   "version": "3.7.4"
  },
  "latex_envs": {
   "LaTeX_envs_menu_present": true,
   "autoclose": false,
   "autocomplete": true,
   "bibliofile": "biblio.bib",
   "cite_by": "apalike",
   "current_citInitial": 1,
   "eqLabelWithNumbers": true,
   "eqNumInitial": 1,
   "hotkeys": {
    "equation": "Ctrl-E",
    "itemize": "Ctrl-I"
   },
   "labels_anchors": false,
   "latex_user_defs": false,
   "report_style_numbering": false,
   "user_envs_cfg": false
  },
  "toc": {
   "base_numbering": 1,
   "nav_menu": {},
   "number_sections": true,
   "sideBar": true,
   "skip_h1_title": false,
   "title_cell": "Table of Contents",
   "title_sidebar": "Contents",
   "toc_cell": false,
   "toc_position": {},
   "toc_section_display": true,
   "toc_window_display": false
  }
 },
 "nbformat": 4,
 "nbformat_minor": 2
}
