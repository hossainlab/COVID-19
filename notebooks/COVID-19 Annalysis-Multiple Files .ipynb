{
 "cells": [
  {
   "cell_type": "code",
   "execution_count": 1,
   "metadata": {},
   "outputs": [],
   "source": [
    "# For Analysis \n",
    "import numpy as np \n",
    "import pandas as pd \n",
    "import geopandas as gpd \n",
    "\n",
    "# DateTime Format \n",
    "from datetime import datetime, timedelta, timezone\n",
    "\n",
    "# Colors \n",
    "import calmap\n",
    "\n",
    "# Grammar of graphics \n",
    "from plotnine import *\n",
    "\n",
    "# 2D Plot \n",
    "import matplotlib.pyplot as plt \n",
    "import matplotlib.dates as mdates\n",
    "import seaborn as sns \n",
    "\n",
    "# Interactive Visualizations \n",
    "import plotly.graph_objects as go\n",
    "from plotly.subplots import make_subplots\n",
    "import plotly.graph_objects as go\n",
    "from plotly.subplots import make_subplots\n",
    "import plotly.express as px "
   ]
  },
  {
   "cell_type": "markdown",
   "metadata": {},
   "source": [
    "## Data Import"
   ]
  },
  {
   "cell_type": "code",
   "execution_count": 2,
   "metadata": {},
   "outputs": [],
   "source": [
    "# Import xlsx file and store each sheet in to a df list\n",
    "xl_file = pd.ExcelFile(\"./data/data.xls\",)\n",
    "dfs = {sheet_name: xl_file.parse(sheet_name) for sheet_name in xl_file.sheet_names}"
   ]
  },
  {
   "cell_type": "code",
   "execution_count": 3,
   "metadata": {},
   "outputs": [],
   "source": [
    "# Data from each sheet can be accessed via key\n",
    "keylist = list(dfs.keys())"
   ]
  },
  {
   "cell_type": "code",
   "execution_count": 4,
   "metadata": {},
   "outputs": [
    {
     "data": {
      "text/plain": [
       "['2020-03-13-03-30',\n",
       " '2020-03-13-00-00',\n",
       " '2020-03-12-22-00',\n",
       " '2020-03-12-21-30',\n",
       " '2020-03-12-21-00',\n",
       " '2020-03-12-20-00',\n",
       " '2020-03-12-18-30',\n",
       " '2020-03-12-17-00',\n",
       " '2020-03-12-15-30']"
      ]
     },
     "execution_count": 4,
     "metadata": {},
     "output_type": "execute_result"
    }
   ],
   "source": [
    "# Examine the sheet name \n",
    "keylist[1:10]"
   ]
  },
  {
   "cell_type": "markdown",
   "metadata": {},
   "source": [
    "## Data Exploring"
   ]
  },
  {
   "cell_type": "code",
   "execution_count": 5,
   "metadata": {},
   "outputs": [
    {
     "data": {
      "text/html": [
       "<div>\n",
       "<style scoped>\n",
       "    .dataframe tbody tr th:only-of-type {\n",
       "        vertical-align: middle;\n",
       "    }\n",
       "\n",
       "    .dataframe tbody tr th {\n",
       "        vertical-align: top;\n",
       "    }\n",
       "\n",
       "    .dataframe thead th {\n",
       "        text-align: right;\n",
       "    }\n",
       "</style>\n",
       "<table border=\"1\" class=\"dataframe\">\n",
       "  <thead>\n",
       "    <tr style=\"text-align: right;\">\n",
       "      <th></th>\n",
       "      <th>Province/State</th>\n",
       "      <th>Country/Region</th>\n",
       "      <th>Last Update</th>\n",
       "      <th>Confirmed</th>\n",
       "      <th>Deaths</th>\n",
       "      <th>Recovered</th>\n",
       "    </tr>\n",
       "  </thead>\n",
       "  <tbody>\n",
       "    <tr>\n",
       "      <td>0</td>\n",
       "      <td>Hubei</td>\n",
       "      <td>Mainland China</td>\n",
       "      <td>3/13/2020 06:00</td>\n",
       "      <td>67786</td>\n",
       "      <td>3062</td>\n",
       "      <td>51553</td>\n",
       "    </tr>\n",
       "    <tr>\n",
       "      <td>1</td>\n",
       "      <td>Guangdong</td>\n",
       "      <td>Mainland China</td>\n",
       "      <td>3/13/2020 06:00</td>\n",
       "      <td>1356</td>\n",
       "      <td>8</td>\n",
       "      <td>1296</td>\n",
       "    </tr>\n",
       "    <tr>\n",
       "      <td>2</td>\n",
       "      <td>Zhejiang</td>\n",
       "      <td>Mainland China</td>\n",
       "      <td>3/13/2020 06:00</td>\n",
       "      <td>1215</td>\n",
       "      <td>1</td>\n",
       "      <td>1209</td>\n",
       "    </tr>\n",
       "    <tr>\n",
       "      <td>3</td>\n",
       "      <td>Shandong</td>\n",
       "      <td>Mainland China</td>\n",
       "      <td>3/13/2020 06:00</td>\n",
       "      <td>760</td>\n",
       "      <td>7</td>\n",
       "      <td>739</td>\n",
       "    </tr>\n",
       "    <tr>\n",
       "      <td>4</td>\n",
       "      <td>Henan</td>\n",
       "      <td>Mainland China</td>\n",
       "      <td>3/13/2020 06:00</td>\n",
       "      <td>1273</td>\n",
       "      <td>22</td>\n",
       "      <td>1249</td>\n",
       "    </tr>\n",
       "    <tr>\n",
       "      <td>5</td>\n",
       "      <td>Anhui</td>\n",
       "      <td>Mainland China</td>\n",
       "      <td>3/13/2020 06:00</td>\n",
       "      <td>990</td>\n",
       "      <td>6</td>\n",
       "      <td>984</td>\n",
       "    </tr>\n",
       "    <tr>\n",
       "      <td>6</td>\n",
       "      <td>Jiangxi</td>\n",
       "      <td>Mainland China</td>\n",
       "      <td>3/13/2020 06:00</td>\n",
       "      <td>935</td>\n",
       "      <td>1</td>\n",
       "      <td>934</td>\n",
       "    </tr>\n",
       "    <tr>\n",
       "      <td>7</td>\n",
       "      <td>Hunan</td>\n",
       "      <td>Mainland China</td>\n",
       "      <td>3/13/2020 06:00</td>\n",
       "      <td>1018</td>\n",
       "      <td>4</td>\n",
       "      <td>1005</td>\n",
       "    </tr>\n",
       "    <tr>\n",
       "      <td>8</td>\n",
       "      <td>Heilongjiang</td>\n",
       "      <td>Mainland China</td>\n",
       "      <td>3/13/2020 06:00</td>\n",
       "      <td>482</td>\n",
       "      <td>13</td>\n",
       "      <td>446</td>\n",
       "    </tr>\n",
       "    <tr>\n",
       "      <td>9</td>\n",
       "      <td>Sichuan</td>\n",
       "      <td>Mainland China</td>\n",
       "      <td>3/13/2020 06:00</td>\n",
       "      <td>539</td>\n",
       "      <td>3</td>\n",
       "      <td>503</td>\n",
       "    </tr>\n",
       "    <tr>\n",
       "      <td>10</td>\n",
       "      <td>Chongqing</td>\n",
       "      <td>Mainland China</td>\n",
       "      <td>3/13/2020 06:00</td>\n",
       "      <td>576</td>\n",
       "      <td>6</td>\n",
       "      <td>564</td>\n",
       "    </tr>\n",
       "    <tr>\n",
       "      <td>11</td>\n",
       "      <td>Jiangsu</td>\n",
       "      <td>Mainland China</td>\n",
       "      <td>3/13/2020 06:00</td>\n",
       "      <td>631</td>\n",
       "      <td>0</td>\n",
       "      <td>630</td>\n",
       "    </tr>\n",
       "    <tr>\n",
       "      <td>12</td>\n",
       "      <td>Beijing</td>\n",
       "      <td>Mainland China</td>\n",
       "      <td>3/13/2020 06:00</td>\n",
       "      <td>436</td>\n",
       "      <td>8</td>\n",
       "      <td>342</td>\n",
       "    </tr>\n",
       "    <tr>\n",
       "      <td>13</td>\n",
       "      <td>Guangxi</td>\n",
       "      <td>Mainland China</td>\n",
       "      <td>3/13/2020 06:00</td>\n",
       "      <td>252</td>\n",
       "      <td>2</td>\n",
       "      <td>243</td>\n",
       "    </tr>\n",
       "    <tr>\n",
       "      <td>14</td>\n",
       "      <td>Fujian</td>\n",
       "      <td>Mainland China</td>\n",
       "      <td>3/13/2020 06:00</td>\n",
       "      <td>296</td>\n",
       "      <td>1</td>\n",
       "      <td>295</td>\n",
       "    </tr>\n",
       "    <tr>\n",
       "      <td>15</td>\n",
       "      <td>Shanghai</td>\n",
       "      <td>Mainland China</td>\n",
       "      <td>3/13/2020 06:00</td>\n",
       "      <td>346</td>\n",
       "      <td>3</td>\n",
       "      <td>324</td>\n",
       "    </tr>\n",
       "    <tr>\n",
       "      <td>16</td>\n",
       "      <td>Hebei</td>\n",
       "      <td>Mainland China</td>\n",
       "      <td>3/13/2020 06:00</td>\n",
       "      <td>318</td>\n",
       "      <td>6</td>\n",
       "      <td>310</td>\n",
       "    </tr>\n",
       "    <tr>\n",
       "      <td>17</td>\n",
       "      <td>Shaanxi</td>\n",
       "      <td>Mainland China</td>\n",
       "      <td>3/13/2020 06:00</td>\n",
       "      <td>245</td>\n",
       "      <td>2</td>\n",
       "      <td>232</td>\n",
       "    </tr>\n",
       "    <tr>\n",
       "      <td>18</td>\n",
       "      <td>Yunnan</td>\n",
       "      <td>Mainland China</td>\n",
       "      <td>3/13/2020 06:00</td>\n",
       "      <td>174</td>\n",
       "      <td>2</td>\n",
       "      <td>170</td>\n",
       "    </tr>\n",
       "    <tr>\n",
       "      <td>19</td>\n",
       "      <td>Tianjin</td>\n",
       "      <td>Mainland China</td>\n",
       "      <td>3/13/2020 06:00</td>\n",
       "      <td>136</td>\n",
       "      <td>3</td>\n",
       "      <td>132</td>\n",
       "    </tr>\n",
       "  </tbody>\n",
       "</table>\n",
       "</div>"
      ],
      "text/plain": [
       "   Province/State  Country/Region      Last Update  Confirmed  Deaths  \\\n",
       "0           Hubei  Mainland China  3/13/2020 06:00      67786    3062   \n",
       "1       Guangdong  Mainland China  3/13/2020 06:00       1356       8   \n",
       "2        Zhejiang  Mainland China  3/13/2020 06:00       1215       1   \n",
       "3        Shandong  Mainland China  3/13/2020 06:00        760       7   \n",
       "4           Henan  Mainland China  3/13/2020 06:00       1273      22   \n",
       "5           Anhui  Mainland China  3/13/2020 06:00        990       6   \n",
       "6         Jiangxi  Mainland China  3/13/2020 06:00        935       1   \n",
       "7           Hunan  Mainland China  3/13/2020 06:00       1018       4   \n",
       "8    Heilongjiang  Mainland China  3/13/2020 06:00        482      13   \n",
       "9         Sichuan  Mainland China  3/13/2020 06:00        539       3   \n",
       "10      Chongqing  Mainland China  3/13/2020 06:00        576       6   \n",
       "11        Jiangsu  Mainland China  3/13/2020 06:00        631       0   \n",
       "12        Beijing  Mainland China  3/13/2020 06:00        436       8   \n",
       "13        Guangxi  Mainland China  3/13/2020 06:00        252       2   \n",
       "14         Fujian  Mainland China  3/13/2020 06:00        296       1   \n",
       "15       Shanghai  Mainland China  3/13/2020 06:00        346       3   \n",
       "16          Hebei  Mainland China  3/13/2020 06:00        318       6   \n",
       "17        Shaanxi  Mainland China  3/13/2020 06:00        245       2   \n",
       "18         Yunnan  Mainland China  3/13/2020 06:00        174       2   \n",
       "19        Tianjin  Mainland China  3/13/2020 06:00        136       3   \n",
       "\n",
       "    Recovered  \n",
       "0       51553  \n",
       "1        1296  \n",
       "2        1209  \n",
       "3         739  \n",
       "4        1249  \n",
       "5         984  \n",
       "6         934  \n",
       "7        1005  \n",
       "8         446  \n",
       "9         503  \n",
       "10        564  \n",
       "11        630  \n",
       "12        342  \n",
       "13        243  \n",
       "14        295  \n",
       "15        324  \n",
       "16        310  \n",
       "17        232  \n",
       "18        170  \n",
       "19        132  "
      ]
     },
     "execution_count": 5,
     "metadata": {},
     "output_type": "execute_result"
    }
   ],
   "source": [
    "# Examine first few rows \n",
    "dfs[keylist[0]].head(20)"
   ]
  },
  {
   "cell_type": "code",
   "execution_count": 6,
   "metadata": {},
   "outputs": [
    {
     "data": {
      "text/plain": [
       "(221, 6)"
      ]
     },
     "execution_count": 6,
     "metadata": {},
     "output_type": "execute_result"
    }
   ],
   "source": [
    "# Check datamatrix \n",
    "dfs[keylist[0]].shape"
   ]
  },
  {
   "cell_type": "code",
   "execution_count": 61,
   "metadata": {},
   "outputs": [
    {
     "name": "stdout",
     "output_type": "stream",
     "text": [
      "<class 'pandas.core.frame.DataFrame'>\n",
      "RangeIndex: 217 entries, 0 to 216\n",
      "Data columns (total 6 columns):\n",
      "Province/State    99 non-null object\n",
      "Country/Region    217 non-null object\n",
      "Last Update       217 non-null object\n",
      "Confirmed         217 non-null int64\n",
      "Deaths            217 non-null int64\n",
      "Recovered         217 non-null int64\n",
      "dtypes: int64(3), object(3)\n",
      "memory usage: 10.3+ KB\n"
     ]
    }
   ],
   "source": [
    "# Basic info about dataset \n",
    "dfs[keylist[0]].info()"
   ]
  },
  {
   "cell_type": "code",
   "execution_count": 7,
   "metadata": {},
   "outputs": [
    {
     "data": {
      "text/html": [
       "<div>\n",
       "<style scoped>\n",
       "    .dataframe tbody tr th:only-of-type {\n",
       "        vertical-align: middle;\n",
       "    }\n",
       "\n",
       "    .dataframe tbody tr th {\n",
       "        vertical-align: top;\n",
       "    }\n",
       "\n",
       "    .dataframe thead th {\n",
       "        text-align: right;\n",
       "    }\n",
       "</style>\n",
       "<table border=\"1\" class=\"dataframe\">\n",
       "  <thead>\n",
       "    <tr style=\"text-align: right;\">\n",
       "      <th></th>\n",
       "      <th>Confirmed</th>\n",
       "      <th>Deaths</th>\n",
       "      <th>Recovered</th>\n",
       "    </tr>\n",
       "  </thead>\n",
       "  <tbody>\n",
       "    <tr>\n",
       "      <td>count</td>\n",
       "      <td>221.000000</td>\n",
       "      <td>221.000000</td>\n",
       "      <td>221.000000</td>\n",
       "    </tr>\n",
       "    <tr>\n",
       "      <td>mean</td>\n",
       "      <td>614.687783</td>\n",
       "      <td>22.570136</td>\n",
       "      <td>318.411765</td>\n",
       "    </tr>\n",
       "    <tr>\n",
       "      <td>std</td>\n",
       "      <td>4743.872687</td>\n",
       "      <td>218.452514</td>\n",
       "      <td>3475.887702</td>\n",
       "    </tr>\n",
       "    <tr>\n",
       "      <td>min</td>\n",
       "      <td>1.000000</td>\n",
       "      <td>0.000000</td>\n",
       "      <td>0.000000</td>\n",
       "    </tr>\n",
       "    <tr>\n",
       "      <td>25%</td>\n",
       "      <td>5.000000</td>\n",
       "      <td>0.000000</td>\n",
       "      <td>0.000000</td>\n",
       "    </tr>\n",
       "    <tr>\n",
       "      <td>50%</td>\n",
       "      <td>21.000000</td>\n",
       "      <td>0.000000</td>\n",
       "      <td>0.000000</td>\n",
       "    </tr>\n",
       "    <tr>\n",
       "      <td>75%</td>\n",
       "      <td>96.000000</td>\n",
       "      <td>1.000000</td>\n",
       "      <td>6.000000</td>\n",
       "    </tr>\n",
       "    <tr>\n",
       "      <td>max</td>\n",
       "      <td>67786.000000</td>\n",
       "      <td>3062.000000</td>\n",
       "      <td>51553.000000</td>\n",
       "    </tr>\n",
       "  </tbody>\n",
       "</table>\n",
       "</div>"
      ],
      "text/plain": [
       "          Confirmed       Deaths     Recovered\n",
       "count    221.000000   221.000000    221.000000\n",
       "mean     614.687783    22.570136    318.411765\n",
       "std     4743.872687   218.452514   3475.887702\n",
       "min        1.000000     0.000000      0.000000\n",
       "25%        5.000000     0.000000      0.000000\n",
       "50%       21.000000     0.000000      0.000000\n",
       "75%       96.000000     1.000000      6.000000\n",
       "max    67786.000000  3062.000000  51553.000000"
      ]
     },
     "execution_count": 7,
     "metadata": {},
     "output_type": "execute_result"
    }
   ],
   "source": [
    "# Numerical summary of dataset\n",
    "dfs[keylist[0]].describe()"
   ]
  },
  {
   "cell_type": "markdown",
   "metadata": {},
   "source": [
    "## Data Cleaning"
   ]
  },
  {
   "cell_type": "code",
   "execution_count": 8,
   "metadata": {},
   "outputs": [],
   "source": [
    "# Data Cleaning \n",
    "for key, df in dfs.items():\n",
    "    dfs[key].loc[:, 'Confirmed'].fillna(value=0, inplace=True)\n",
    "    dfs[key].loc[:, 'Deaths'].fillna(value=0, inplace=True)\n",
    "    dfs[key].loc[:, 'Recovered'].fillna(value=0, inplace=True)\n",
    "   \n",
    "    # Convert cases into integer\n",
    "    dfs[key] = dfs[key].astype({'Confirmed':'int64', 'Deaths':'int64', 'Recovered':'int64'})\n",
    "    \n",
    "    # Replace \n",
    "    dfs[key] = dfs[key].replace({'Country/Region': 'Mainland China'}, 'China')\n",
    "    dfs[key] = dfs[key].replace({'Country/Region': 'Queensland'}, 'Brisbane')\n",
    "    dfs[key] = dfs[key].replace({'Country/Region': 'New South Wales'}, 'Sydney')\n",
    "    dfs[key] = dfs[key].replace({'Country/Region': 'Victoria'}, 'Melbourne')\n",
    "    dfs[key]=dfs[key].replace({'Province/State':'South Australia'}, 'Adelaide')\n",
    "\n",
    "    # DateTime Format \n",
    "    dfs[key]['Last Update'] = '0' + dfs[key]['Last Update']\n",
    "    dfs[key]['Date_last_updated'] = [datetime.strptime(d, '%m/%d/%Y %H:%M') for d in dfs[key]['Last Update']]"
   ]
  },
  {
   "cell_type": "code",
   "execution_count": 9,
   "metadata": {},
   "outputs": [
    {
     "data": {
      "text/html": [
       "<div>\n",
       "<style scoped>\n",
       "    .dataframe tbody tr th:only-of-type {\n",
       "        vertical-align: middle;\n",
       "    }\n",
       "\n",
       "    .dataframe tbody tr th {\n",
       "        vertical-align: top;\n",
       "    }\n",
       "\n",
       "    .dataframe thead th {\n",
       "        text-align: right;\n",
       "    }\n",
       "</style>\n",
       "<table border=\"1\" class=\"dataframe\">\n",
       "  <thead>\n",
       "    <tr style=\"text-align: right;\">\n",
       "      <th></th>\n",
       "      <th>Province/State</th>\n",
       "      <th>Country/Region</th>\n",
       "      <th>Last Update</th>\n",
       "      <th>Confirmed</th>\n",
       "      <th>Deaths</th>\n",
       "      <th>Recovered</th>\n",
       "      <th>Date_last_updated</th>\n",
       "    </tr>\n",
       "  </thead>\n",
       "  <tbody>\n",
       "    <tr>\n",
       "      <td>0</td>\n",
       "      <td>Hubei</td>\n",
       "      <td>China</td>\n",
       "      <td>03/13/2020 06:00</td>\n",
       "      <td>67786</td>\n",
       "      <td>3062</td>\n",
       "      <td>51553</td>\n",
       "      <td>2020-03-13 06:00:00</td>\n",
       "    </tr>\n",
       "    <tr>\n",
       "      <td>1</td>\n",
       "      <td>Guangdong</td>\n",
       "      <td>China</td>\n",
       "      <td>03/13/2020 06:00</td>\n",
       "      <td>1356</td>\n",
       "      <td>8</td>\n",
       "      <td>1296</td>\n",
       "      <td>2020-03-13 06:00:00</td>\n",
       "    </tr>\n",
       "    <tr>\n",
       "      <td>2</td>\n",
       "      <td>Zhejiang</td>\n",
       "      <td>China</td>\n",
       "      <td>03/13/2020 06:00</td>\n",
       "      <td>1215</td>\n",
       "      <td>1</td>\n",
       "      <td>1209</td>\n",
       "      <td>2020-03-13 06:00:00</td>\n",
       "    </tr>\n",
       "    <tr>\n",
       "      <td>3</td>\n",
       "      <td>Shandong</td>\n",
       "      <td>China</td>\n",
       "      <td>03/13/2020 06:00</td>\n",
       "      <td>760</td>\n",
       "      <td>7</td>\n",
       "      <td>739</td>\n",
       "      <td>2020-03-13 06:00:00</td>\n",
       "    </tr>\n",
       "    <tr>\n",
       "      <td>4</td>\n",
       "      <td>Henan</td>\n",
       "      <td>China</td>\n",
       "      <td>03/13/2020 06:00</td>\n",
       "      <td>1273</td>\n",
       "      <td>22</td>\n",
       "      <td>1249</td>\n",
       "      <td>2020-03-13 06:00:00</td>\n",
       "    </tr>\n",
       "  </tbody>\n",
       "</table>\n",
       "</div>"
      ],
      "text/plain": [
       "  Province/State Country/Region       Last Update  Confirmed  Deaths  \\\n",
       "0          Hubei          China  03/13/2020 06:00      67786    3062   \n",
       "1      Guangdong          China  03/13/2020 06:00       1356       8   \n",
       "2       Zhejiang          China  03/13/2020 06:00       1215       1   \n",
       "3       Shandong          China  03/13/2020 06:00        760       7   \n",
       "4          Henan          China  03/13/2020 06:00       1273      22   \n",
       "\n",
       "   Recovered   Date_last_updated  \n",
       "0      51553 2020-03-13 06:00:00  \n",
       "1       1296 2020-03-13 06:00:00  \n",
       "2       1209 2020-03-13 06:00:00  \n",
       "3        739 2020-03-13 06:00:00  \n",
       "4       1249 2020-03-13 06:00:00  "
      ]
     },
     "execution_count": 9,
     "metadata": {},
     "output_type": "execute_result"
    }
   ],
   "source": [
    "# Take a look at cleaned data \n",
    "dfs[keylist[0]].head()"
   ]
  },
  {
   "cell_type": "markdown",
   "metadata": {},
   "source": [
    "## Creating DataFrame for Cases"
   ]
  },
  {
   "cell_type": "code",
   "execution_count": 10,
   "metadata": {},
   "outputs": [],
   "source": [
    "# Total No. of cases \n",
    "confirmed_cases = dfs[keylist[0]]['Confirmed'].sum()\n",
    "deaths_cases = dfs[keylist[0]]['Deaths'].sum()\n",
    "recovered_cases = dfs[keylist[0]]['Recovered'].sum()\n",
    "active_cases = dfs[keylist[0]]['Confirmed'].sum() - dfs[keylist[0]]['Recovered'].sum() - dfs[keylist[0]]['Deaths'].sum()"
   ]
  },
  {
   "cell_type": "code",
   "execution_count": 11,
   "metadata": {},
   "outputs": [
    {
     "name": "stdout",
     "output_type": "stream",
     "text": [
      "Confirmed Cases =  135846\n",
      "Death Cases =  4988\n",
      "Recovered Cases =  70369\n",
      "Active Cases =  60489\n"
     ]
    }
   ],
   "source": [
    "# Print the Total no. of cases in first dataset\n",
    "print(\"Confirmed Cases = \", confirmed_cases)\n",
    "print(\"Death Cases = \", deaths_cases)\n",
    "print(\"Recovered Cases = \", recovered_cases)\n",
    "print(\"Active Cases = \", active_cases)"
   ]
  },
  {
   "cell_type": "code",
   "execution_count": 12,
   "metadata": {},
   "outputs": [
    {
     "name": "stdout",
     "output_type": "stream",
     "text": [
      "Closed Cases =  75357\n"
     ]
    }
   ],
   "source": [
    "closed_cases = recovered_cases + deaths_cases\n",
    "print(\"Closed Cases = \",closed_cases)"
   ]
  },
  {
   "cell_type": "code",
   "execution_count": 13,
   "metadata": {},
   "outputs": [
    {
     "name": "stdout",
     "output_type": "stream",
     "text": [
      "Recovered/Discharged = 93.0%\n"
     ]
    }
   ],
   "source": [
    "# % of Recovered \n",
    "recovered_percent = round((recovered_cases / closed_cases),2) * 100 \n",
    "print(f\"Recovered/Discharged = {recovered_percent}%\") "
   ]
  },
  {
   "cell_type": "code",
   "execution_count": 16,
   "metadata": {},
   "outputs": [
    {
     "name": "stdout",
     "output_type": "stream",
     "text": [
      "Deaths = 6.619159467600887\n"
     ]
    }
   ],
   "source": [
    "# % of Deaths\n",
    "deaths_percent = (deaths_cases / closed_cases) * 100 \n",
    "print(f\"Deaths = {deaths_percent}\") "
   ]
  },
  {
   "cell_type": "markdown",
   "metadata": {},
   "source": [
    "## Case Fatality Rate \n",
    "$Case Fatality Rate(CFR) = \\frac {Deaths(of 100 Cases)}{Confirmed Cases} \\times 100$"
   ]
  },
  {
   "cell_type": "code",
   "execution_count": 17,
   "metadata": {},
   "outputs": [
    {
     "name": "stdout",
     "output_type": "stream",
     "text": [
      "CFR = 3.6718048378310733\n"
     ]
    }
   ],
   "source": [
    "CFR = deaths_cases/ confirmed_cases\n",
    "CFR_Percent = CFR * 100\n",
    "print(f\"CFR = {CFR_Percent}\")"
   ]
  },
  {
   "cell_type": "markdown",
   "metadata": {},
   "source": [
    "## Confirmed Cases"
   ]
  },
  {
   "cell_type": "code",
   "execution_count": 18,
   "metadata": {},
   "outputs": [],
   "source": [
    "# Construct new dataframe called df_confirmed for line plot \n",
    "DateList = []\n",
    "ChinaList =[]\n",
    "OtherList = []\n",
    "\n",
    "for key, df in dfs.items():\n",
    "    # Group by Country/Region and Sum\n",
    "    dfTemp = df.groupby(['Country/Region'])['Confirmed'].agg(np.sum)\n",
    "    # Make a df with dfTemp index and values and store in dfTemp\n",
    "    dfTemp = pd.DataFrame({'Code':dfTemp.index, 'Confirmed':dfTemp.values})\n",
    "    # Sorting values by Confirmed \n",
    "    dfTemp = dfTemp.sort_values(by='Confirmed', ascending=False).reset_index(drop=True)\n",
    "    # Append dfTemp to DateList in df[0]\n",
    "    DateList.append(df['Date_last_updated'][0])\n",
    "    # Append dfTemp to ChinaList df[0]\n",
    "    ChinaList.append(dfTemp['Confirmed'][0])\n",
    "    # Append dfTemp to Otherlist df[1:]\n",
    "    OtherList.append(dfTemp['Confirmed'][1:].sum())\n",
    "\n",
    "# Make Confirmed dataframe with DateList, ChinaList, OtherList \n",
    "# Column name Date, Mainland China, Other Locations \n",
    "df_confirmed = pd.DataFrame({'Date':DateList,\n",
    "                             'Mainland China':ChinaList,\n",
    "                             'Other locations':OtherList})  \n",
    "\n",
    "\n",
    "# Sorting and index reset \n",
    "df_confirmed['date_day']=[d.date() for d in df_confirmed['Date']]\n",
    "df_confirmed=df_confirmed.groupby(by=df_confirmed['date_day'], sort=False).transform(max).drop_duplicates(['Date'])\n",
    "df_confirmed['Total']=df_confirmed['Mainland China']+df_confirmed['Other locations']\n",
    "df_confirmed=df_confirmed.reset_index(drop=True)"
   ]
  },
  {
   "cell_type": "code",
   "execution_count": 19,
   "metadata": {},
   "outputs": [
    {
     "data": {
      "text/html": [
       "<div>\n",
       "<style scoped>\n",
       "    .dataframe tbody tr th:only-of-type {\n",
       "        vertical-align: middle;\n",
       "    }\n",
       "\n",
       "    .dataframe tbody tr th {\n",
       "        vertical-align: top;\n",
       "    }\n",
       "\n",
       "    .dataframe thead th {\n",
       "        text-align: right;\n",
       "    }\n",
       "</style>\n",
       "<table border=\"1\" class=\"dataframe\">\n",
       "  <thead>\n",
       "    <tr style=\"text-align: right;\">\n",
       "      <th></th>\n",
       "      <th>Date</th>\n",
       "      <th>Mainland China</th>\n",
       "      <th>Other locations</th>\n",
       "      <th>Total</th>\n",
       "    </tr>\n",
       "  </thead>\n",
       "  <tbody>\n",
       "    <tr>\n",
       "      <td>0</td>\n",
       "      <td>2020-03-13 06:00:00</td>\n",
       "      <td>80801</td>\n",
       "      <td>55045</td>\n",
       "      <td>135846</td>\n",
       "    </tr>\n",
       "    <tr>\n",
       "      <td>1</td>\n",
       "      <td>2020-03-12 22:00:00</td>\n",
       "      <td>80801</td>\n",
       "      <td>53930</td>\n",
       "      <td>134731</td>\n",
       "    </tr>\n",
       "    <tr>\n",
       "      <td>2</td>\n",
       "      <td>2020-03-11 22:30:00</td>\n",
       "      <td>80791</td>\n",
       "      <td>45562</td>\n",
       "      <td>126353</td>\n",
       "    </tr>\n",
       "    <tr>\n",
       "      <td>3</td>\n",
       "      <td>2020-03-10 23:00:00</td>\n",
       "      <td>80778</td>\n",
       "      <td>38469</td>\n",
       "      <td>119247</td>\n",
       "    </tr>\n",
       "    <tr>\n",
       "      <td>4</td>\n",
       "      <td>2020-03-09 22:30:00</td>\n",
       "      <td>80754</td>\n",
       "      <td>33717</td>\n",
       "      <td>114471</td>\n",
       "    </tr>\n",
       "  </tbody>\n",
       "</table>\n",
       "</div>"
      ],
      "text/plain": [
       "                 Date  Mainland China  Other locations   Total\n",
       "0 2020-03-13 06:00:00           80801            55045  135846\n",
       "1 2020-03-12 22:00:00           80801            53930  134731\n",
       "2 2020-03-11 22:30:00           80791            45562  126353\n",
       "3 2020-03-10 23:00:00           80778            38469  119247\n",
       "4 2020-03-09 22:30:00           80754            33717  114471"
      ]
     },
     "execution_count": 19,
     "metadata": {},
     "output_type": "execute_result"
    }
   ],
   "source": [
    "# Examine confirmed dataset\n",
    "df_confirmed.head()"
   ]
  },
  {
   "cell_type": "markdown",
   "metadata": {},
   "source": [
    "## Recovered Cases"
   ]
  },
  {
   "cell_type": "code",
   "execution_count": 20,
   "metadata": {},
   "outputs": [],
   "source": [
    "# Construct new dataframe called df_recovered for line plot \n",
    "DateList = []\n",
    "ChinaList =[]\n",
    "OtherList = []\n",
    "\n",
    "for key, df in dfs.items():\n",
    "    # Group by Country/Region and Sum\n",
    "    dfTemp = df.groupby(['Country/Region'])['Recovered'].agg(np.sum)\n",
    "    # Make a df with dfTemp index and values and store in dfTemp\n",
    "    dfTemp = pd.DataFrame({'Code':dfTemp.index, 'Recovered':dfTemp.values})\n",
    "    # Sorting values by Confirmed \n",
    "    dfTemp = dfTemp.sort_values(by='Recovered', ascending=False).reset_index(drop=True)\n",
    "    # Append dfTemp to DateList in df[0]\n",
    "    DateList.append(df['Date_last_updated'][0])\n",
    "    # Append dfTemp to ChinaList df[0]\n",
    "    ChinaList.append(dfTemp['Recovered'][0])\n",
    "    # Append dfTemp to Otherlist df[1:]\n",
    "    OtherList.append(dfTemp['Recovered'][1:].sum())\n",
    "\n",
    "# Make Confirmed dataframe with DateList, ChinaList, OtherList \n",
    "# Column name Date, Mainland China, Other Locations \n",
    "df_recovered = pd.DataFrame({'Date':DateList,\n",
    "                             'Mainland China':ChinaList,\n",
    "                             'Other locations':OtherList})  \n",
    "\n",
    "\n",
    "# Sorting and index reset \n",
    "df_recovered['date_day']=[d.date() for d in df_recovered['Date']]\n",
    "df_recovered=df_recovered.groupby(by=df_recovered['date_day'], sort=False).transform(max).drop_duplicates(['Date'])\n",
    "df_recovered['Total']=df_recovered['Mainland China']+df_recovered['Other locations']\n",
    "df_recovered=df_recovered.reset_index(drop=True)"
   ]
  },
  {
   "cell_type": "code",
   "execution_count": 21,
   "metadata": {},
   "outputs": [
    {
     "data": {
      "text/html": [
       "<div>\n",
       "<style scoped>\n",
       "    .dataframe tbody tr th:only-of-type {\n",
       "        vertical-align: middle;\n",
       "    }\n",
       "\n",
       "    .dataframe tbody tr th {\n",
       "        vertical-align: top;\n",
       "    }\n",
       "\n",
       "    .dataframe thead th {\n",
       "        text-align: right;\n",
       "    }\n",
       "</style>\n",
       "<table border=\"1\" class=\"dataframe\">\n",
       "  <thead>\n",
       "    <tr style=\"text-align: right;\">\n",
       "      <th></th>\n",
       "      <th>Date</th>\n",
       "      <th>Mainland China</th>\n",
       "      <th>Other locations</th>\n",
       "      <th>Total</th>\n",
       "    </tr>\n",
       "  </thead>\n",
       "  <tbody>\n",
       "    <tr>\n",
       "      <td>0</td>\n",
       "      <td>2020-03-13 06:00:00</td>\n",
       "      <td>64119</td>\n",
       "      <td>6250</td>\n",
       "      <td>70369</td>\n",
       "    </tr>\n",
       "    <tr>\n",
       "      <td>1</td>\n",
       "      <td>2020-03-12 22:00:00</td>\n",
       "      <td>64111</td>\n",
       "      <td>6243</td>\n",
       "      <td>70354</td>\n",
       "    </tr>\n",
       "    <tr>\n",
       "      <td>2</td>\n",
       "      <td>2020-03-11 22:30:00</td>\n",
       "      <td>62780</td>\n",
       "      <td>5492</td>\n",
       "      <td>68272</td>\n",
       "    </tr>\n",
       "    <tr>\n",
       "      <td>3</td>\n",
       "      <td>2020-03-10 23:00:00</td>\n",
       "      <td>61459</td>\n",
       "      <td>5134</td>\n",
       "      <td>66593</td>\n",
       "    </tr>\n",
       "    <tr>\n",
       "      <td>4</td>\n",
       "      <td>2020-03-09 22:30:00</td>\n",
       "      <td>59884</td>\n",
       "      <td>4168</td>\n",
       "      <td>64052</td>\n",
       "    </tr>\n",
       "  </tbody>\n",
       "</table>\n",
       "</div>"
      ],
      "text/plain": [
       "                 Date  Mainland China  Other locations  Total\n",
       "0 2020-03-13 06:00:00           64119             6250  70369\n",
       "1 2020-03-12 22:00:00           64111             6243  70354\n",
       "2 2020-03-11 22:30:00           62780             5492  68272\n",
       "3 2020-03-10 23:00:00           61459             5134  66593\n",
       "4 2020-03-09 22:30:00           59884             4168  64052"
      ]
     },
     "execution_count": 21,
     "metadata": {},
     "output_type": "execute_result"
    }
   ],
   "source": [
    "df_recovered.head()"
   ]
  },
  {
   "cell_type": "markdown",
   "metadata": {},
   "source": [
    "## Deaths Cases"
   ]
  },
  {
   "cell_type": "code",
   "execution_count": 22,
   "metadata": {},
   "outputs": [],
   "source": [
    "# Construct new dataframe called df_deaths for line plot \n",
    "DateList = []\n",
    "ChinaList =[]\n",
    "OtherList = []\n",
    "\n",
    "for key, df in dfs.items():\n",
    "    # Group by Country/Region and Sum\n",
    "    dfTemp = df.groupby(['Country/Region'])['Deaths'].agg(np.sum)\n",
    "    # Make a df with dfTemp index and values and store in dfTemp\n",
    "    dfTemp = pd.DataFrame({'Code':dfTemp.index, 'Deaths':dfTemp.values})\n",
    "    # Sorting values by Confirmed \n",
    "    dfTemp = dfTemp.sort_values(by='Deaths', ascending=False).reset_index(drop=True)\n",
    "    # Append dfTemp to DateList in df[0]\n",
    "    DateList.append(df['Date_last_updated'][0])\n",
    "    # Append dfTemp to ChinaList df[0]\n",
    "    ChinaList.append(dfTemp['Deaths'][0])\n",
    "    # Append dfTemp to Otherlist df[1:]\n",
    "    OtherList.append(dfTemp['Deaths'][1:].sum())\n",
    "\n",
    "# Make Confirmed dataframe with DateList, ChinaList, OtherList \n",
    "# Column name Date, Mainland China, Other Locations \n",
    "df_deaths = pd.DataFrame({'Date':DateList,\n",
    "                             'Mainland China':ChinaList,\n",
    "                             'Other locations':OtherList})  \n",
    "\n",
    "\n",
    "# Sorting and index reset \n",
    "df_deaths['date_day']=[d.date() for d in df_deaths['Date']]\n",
    "df_deaths=df_deaths.groupby(by=df_deaths['date_day'], sort=False).transform(max).drop_duplicates(['Date'])\n",
    "df_deaths['Total']=df_deaths['Mainland China']+df_deaths['Other locations']\n",
    "df_deaths=df_deaths.reset_index(drop=True)"
   ]
  },
  {
   "cell_type": "code",
   "execution_count": 23,
   "metadata": {},
   "outputs": [
    {
     "data": {
      "text/html": [
       "<div>\n",
       "<style scoped>\n",
       "    .dataframe tbody tr th:only-of-type {\n",
       "        vertical-align: middle;\n",
       "    }\n",
       "\n",
       "    .dataframe tbody tr th {\n",
       "        vertical-align: top;\n",
       "    }\n",
       "\n",
       "    .dataframe thead th {\n",
       "        text-align: right;\n",
       "    }\n",
       "</style>\n",
       "<table border=\"1\" class=\"dataframe\">\n",
       "  <thead>\n",
       "    <tr style=\"text-align: right;\">\n",
       "      <th></th>\n",
       "      <th>Date</th>\n",
       "      <th>Mainland China</th>\n",
       "      <th>Other locations</th>\n",
       "      <th>Total</th>\n",
       "    </tr>\n",
       "  </thead>\n",
       "  <tbody>\n",
       "    <tr>\n",
       "      <td>0</td>\n",
       "      <td>2020-03-13 06:00:00</td>\n",
       "      <td>3176</td>\n",
       "      <td>1812</td>\n",
       "      <td>4988</td>\n",
       "    </tr>\n",
       "    <tr>\n",
       "      <td>1</td>\n",
       "      <td>2020-03-12 22:00:00</td>\n",
       "      <td>3176</td>\n",
       "      <td>1802</td>\n",
       "      <td>4978</td>\n",
       "    </tr>\n",
       "    <tr>\n",
       "      <td>2</td>\n",
       "      <td>2020-03-11 22:30:00</td>\n",
       "      <td>3169</td>\n",
       "      <td>1463</td>\n",
       "      <td>4632</td>\n",
       "    </tr>\n",
       "    <tr>\n",
       "      <td>3</td>\n",
       "      <td>2020-03-10 23:00:00</td>\n",
       "      <td>3158</td>\n",
       "      <td>1140</td>\n",
       "      <td>4298</td>\n",
       "    </tr>\n",
       "    <tr>\n",
       "      <td>4</td>\n",
       "      <td>2020-03-09 22:30:00</td>\n",
       "      <td>3136</td>\n",
       "      <td>890</td>\n",
       "      <td>4026</td>\n",
       "    </tr>\n",
       "  </tbody>\n",
       "</table>\n",
       "</div>"
      ],
      "text/plain": [
       "                 Date  Mainland China  Other locations  Total\n",
       "0 2020-03-13 06:00:00            3176             1812   4988\n",
       "1 2020-03-12 22:00:00            3176             1802   4978\n",
       "2 2020-03-11 22:30:00            3169             1463   4632\n",
       "3 2020-03-10 23:00:00            3158             1140   4298\n",
       "4 2020-03-09 22:30:00            3136              890   4026"
      ]
     },
     "execution_count": 23,
     "metadata": {},
     "output_type": "execute_result"
    }
   ],
   "source": [
    "df_deaths.head()"
   ]
  },
  {
   "cell_type": "markdown",
   "metadata": {},
   "source": [
    "## Linear & Logarithmic Line Plot for Total Cases, Deaths, Recovered(Worlwide)"
   ]
  },
  {
   "cell_type": "code",
   "execution_count": 24,
   "metadata": {},
   "outputs": [
    {
     "data": {
      "image/png": "[encoded data removed]",
      "text/plain": [
       "<Figure size 720x432 with 1 Axes>"
      ]
     },
     "metadata": {
      "needs_background": "light"
     },
     "output_type": "display_data"
    }
   ],
   "source": [
    "# Linear Scale for Total Confrmed Cases \n",
    "fig = plt.figure(figsize=(10,6))\n",
    "plt.style.use('ggplot')\n",
    "ax = fig.add_subplot(111)\n",
    "ax.plot(df_confirmed['Date'], df_deaths['Total'], marker='o', color='#fe9a3a', linewidth=3, label='Deaths Cases')\n",
    "# ax.plot(df_confirmed['Date'], df_confirmed['Other locations'], marker='o', color='#c2Ed4e', linewidth=3, label='Other Region')\n",
    "\n",
    "ax.xaxis.set_major_formatter(mdates.DateFormatter('%b-%d'))\n",
    "ax.set_yscale('linear')  \n",
    "ax.set_xlabel('Days', fontsize=12)\n",
    "ax.set_ylabel('Total Corinavirus Deaths ', fontsize=12)  \n",
    "\n",
    "plt.xticks(fontsize=12) \n",
    "plt.yticks(fontsize=12)\n",
    "\n",
    "plt.tight_layout() \n",
    "plt.legend(loc=\"upper left\")\n",
    "plt.show()"
   ]
  },
  {
   "cell_type": "code",
   "execution_count": 121,
   "metadata": {},
   "outputs": [
    {
     "data": {
      "image/png": "[encoded data removed]",
      "text/plain": [
       "<Figure size 720x432 with 1 Axes>"
      ]
     },
     "metadata": {},
     "output_type": "display_data"
    }
   ],
   "source": [
    "# Linear Scale for Total Confrmed Cases \n",
    "fig = plt.figure(figsize=(10,6))\n",
    "plt.style.use('ggplot')\n",
    "ax = fig.add_subplot(111)\n",
    "ax.plot(df_confirmed['Date'], df_confirmed['Mainland China'], marker='o', color='#fe9a3a', linewidth=3, label='Mainland China')\n",
    "ax.plot(df_confirmed['Date'], df_confirmed['Other locations'], marker='o', color='#c2Ed4e', linewidth=3, label='Other Region')\n",
    "\n",
    "ax.xaxis.set_major_formatter(mdates.DateFormatter('%b-%d'))\n",
    "ax.set_yscale('linear')  \n",
    "ax.set_xlabel('Days', fontsize=12)\n",
    "ax.set_ylabel('# of Confirmed Cases in China and Other Region (Linear Scale)', fontsize=12)  \n",
    "\n",
    "plt.xticks(fontsize=12) \n",
    "plt.yticks(fontsize=12)\n",
    "\n",
    "plt.tight_layout() \n",
    "plt.legend(loc=\"upper left\")\n",
    "plt.show()"
   ]
  },
  {
   "cell_type": "code",
   "execution_count": 143,
   "metadata": {},
   "outputs": [
    {
     "data": {
      "text/plain": [
       "['seaborn-dark-palette',\n",
       " 'seaborn-ticks',\n",
       " 'fast',\n",
       " 'seaborn-bright',\n",
       " 'seaborn-talk',\n",
       " 'tableau-colorblind10',\n",
       " 'ggplot',\n",
       " 'dark_background',\n",
       " 'seaborn-deep',\n",
       " 'seaborn-white',\n",
       " 'grayscale',\n",
       " 'seaborn-dark',\n",
       " 'bmh',\n",
       " 'seaborn-notebook',\n",
       " 'classic',\n",
       " 'seaborn-pastel',\n",
       " 'fivethirtyeight',\n",
       " '_classic_test',\n",
       " 'seaborn-whitegrid',\n",
       " 'seaborn-darkgrid',\n",
       " 'seaborn-paper',\n",
       " 'Solarize_Light2',\n",
       " 'seaborn-colorblind',\n",
       " 'seaborn-muted',\n",
       " 'seaborn',\n",
       " 'seaborn-poster']"
      ]
     },
     "execution_count": 143,
     "metadata": {},
     "output_type": "execute_result"
    }
   ],
   "source": [
    "plt.style.available"
   ]
  },
  {
   "cell_type": "code",
   "execution_count": 27,
   "metadata": {},
   "outputs": [
    {
     "data": {
      "image/png": "[encoded data removed]",
      "text/plain": [
       "<Figure size 720x432 with 1 Axes>"
      ]
     },
     "metadata": {},
     "output_type": "display_data"
    }
   ],
   "source": [
    "# Linear Scale for Total Confrmed Cases \n",
    "fig = plt.figure(figsize=(10,6))\n",
    "plt.style.use('fivethirtyeight')\n",
    "ax = fig.add_subplot(111)\n",
    "ax.plot(df_confirmed['Date'], df_confirmed['Total'], marker='o', color='red', linewidth=3, label='Confirmed')\n",
    "ax.plot(df_confirmed['Date'], df_recovered['Total'], marker='o', color='green', linewidth=3, label='Recovered')\n",
    "ax.plot(df_confirmed['Date'], df_deaths['Total'], marker='o', color='#fe9a3a', linewidth=3, label='Deaths') \n",
    "ax.xaxis.set_major_formatter(mdates.DateFormatter('%b-%d'))\n",
    "ax.set_title('Total COVID-19 Cases')\n",
    "ax.set_yscale('linear')   \n",
    "ax.set_xlabel('Days', fontsize=12)\n",
    "ax.set_ylabel('# of COVID Cases', fontsize=12)  \n",
    "\n",
    "plt.xticks(fontsize=12) \n",
    "plt.yticks(fontsize=12)\n",
    "\n",
    "plt.tight_layout() \n",
    "plt.legend()\n",
    "plt.savefig('corona_update.jpg')\n",
    "plt.show()"
   ]
  },
  {
   "cell_type": "code",
   "execution_count": 26,
   "metadata": {},
   "outputs": [
    {
     "data": {
      "image/png": "[encoded data removed]",
      "text/plain": [
       "<Figure size 720x432 with 1 Axes>"
      ]
     },
     "metadata": {},
     "output_type": "display_data"
    }
   ],
   "source": [
    "# Linear Scale for Total Confrmed Cases \n",
    "fig = plt.figure(figsize=(10,6))\n",
    "plt.style.use('fivethirtyeight')\n",
    "ax = fig.add_subplot(111)\n",
    "ax.plot(df_confirmed['Date'], df_confirmed['Total'], marker='o', color='red', linewidth=3, label='Confirmed')\n",
    "ax.plot(df_confirmed['Date'], df_recovered['Total'], marker='o', color='green', linewidth=3, label='Recovered')\n",
    "ax.plot(df_confirmed['Date'], df_deaths['Total'], marker='o', color='#fe9a3a', linewidth=3, label='Deaths') \n",
    "ax.xaxis.set_major_formatter(mdates.DateFormatter('%b-%d'))\n",
    "ax.set_title('Total Coronavirus Cases')\n",
    "ax.set_yscale('log')  \n",
    "ax.set_xlabel('Days', fontsize=12)\n",
    "ax.set_ylabel('# of Coronavirus Cases', fontsize=12)  \n",
    "\n",
    "plt.xticks(fontsize=12) \n",
    "plt.yticks(fontsize=12)\n",
    "\n",
    "plt.tight_layout() \n",
    "plt.legend()\n",
    "# plt.savefig('corona_update.jpg')\n",
    "plt.show()"
   ]
  },
  {
   "cell_type": "code",
   "execution_count": null,
   "metadata": {},
   "outputs": [],
   "source": []
  },
  {
   "cell_type": "code",
   "execution_count": null,
   "metadata": {},
   "outputs": [],
   "source": [
    "# Linear Scale for Total Confrmed Cases \n",
    "fig = plt.figure(figsize=(10,6))\n",
    "plt.style.use('ggplot')\n",
    "ax = fig.add_subplot(111)\n",
    "ax.plot(df_confirmed['Date'], df_confirmed['Total'], marker='o', color='blue', linewidth=3) \n",
    "# date = [datetime.strftime(d, '%b %d %Y AEDT') for d in df_confirmed['Date']]\n",
    "ax.xaxis.set_major_formatter(mdates.DateFormatter('%b-%d'))\n",
    "ax.set_yscale('linear')\n",
    "# ax.set_title('Total Cases')\n",
    "ax.set_xlabel('Date')\n",
    "ax.set_ylabel('Total COVID-19 Cases (Linear Scale)')\n",
    "plt.tight_layout()\n",
    "plt.show()"
   ]
  },
  {
   "cell_type": "code",
   "execution_count": null,
   "metadata": {},
   "outputs": [],
   "source": [
    "# Log Scale for Total Confirmed Cases \n",
    "fig = plt.figure(figsize=(10,6))\n",
    "plt.style.use('ggplot')\n",
    "ax = fig.add_subplot(111)\n",
    "ax.plot(df_confirmed['Date'], df_confirmed['Total'], marker='o', color='blue', linewidth=3) \n",
    "# date = [datetime.strftime(d, '%b %d %Y') for d in df_confirmed['Date']]\n",
    "ax.xaxis.set_major_formatter(mdates.DateFormatter('%b-%d'))  \n",
    "ax.set_yscale('log') \n",
    "# ax.set_title('Total Cases')\n",
    "ax.set_xlabel('Date')\n",
    "ax.set_ylabel('Total COVID-19 Cases (Log Scale)')\n",
    "plt.tight_layout()\n",
    "plt.show()"
   ]
  },
  {
   "cell_type": "code",
   "execution_count": null,
   "metadata": {},
   "outputs": [],
   "source": [
    "# Linear Scale for Total Deaths Cases \n",
    "fig = plt.figure(figsize=(10,6))\n",
    "plt.style.use('ggplot')\n",
    "ax = fig.add_subplot(111)\n",
    "ax.plot(df_deaths['Date'], df_deaths['Total'], marker='o', color='#921113', linewidth=3) \n",
    "date = [datetime.strftime(d, '%b %d %Y AEDT') for d in df_confirmed['Date']]\n",
    "ax.xaxis.set_major_formatter(mdates.ConciseDateFormatter(date))  \n",
    "ax.set_yscale('linear')\n",
    "# ax.set_title('Total Deaths')\n",
    "ax.set_xlabel('Date')\n",
    "ax.set_ylabel('Total COVID-19 Deaths (Linear Scale)')\n",
    "plt.tight_layout()\n",
    "plt.show()"
   ]
  },
  {
   "cell_type": "code",
   "execution_count": null,
   "metadata": {},
   "outputs": [],
   "source": [
    "# Log Scale for Total Deaths Cases \n",
    "fig = plt.figure(figsize=(10,6))\n",
    "plt.style.use('fivethirtyeight')\n",
    "ax = fig.add_subplot(111)\n",
    "ax.plot(df_deaths['Date'], df_deaths['Total'], marker='o', color='#921113', linewidth=3) \n",
    "date = [datetime.strftime(d, '%b %d %Y AEDT') for d in df_confirmed['Date']]\n",
    "ax.xaxis.set_major_formatter(mdates.ConciseDateFormatter(date))  \n",
    "ax.set_yscale('log')\n",
    "# ax.set_title('Total Deaths')\n",
    "ax.set_xlabel('Cases')\n",
    "ax.set_ylabel('Total COVID-19 Deaths (Log Scale)')\n",
    "plt.tight_layout()\n",
    "plt.show()"
   ]
  },
  {
   "cell_type": "code",
   "execution_count": null,
   "metadata": {},
   "outputs": [],
   "source": [
    "# Linear Scale for Total Recovered Cases \n",
    "fig = plt.figure(figsize=(10,6))\n",
    "plt.style.use('ggplot')\n",
    "ax = fig.add_subplot(111)\n",
    "ax.plot(df_deaths['Date'], df_recovered['Total'], marker='o', color='crimson', linewidth=3) \n",
    "date = [datetime.strftime(d, '%b %d %Y AEDT') for d in df_confirmed['Date']]\n",
    "ax.xaxis.set_major_formatter(mdates.ConciseDateFormatter(date))  \n",
    "ax.set_yscale('linear')\n",
    "# ax.set_title('Total Recovered')\n",
    "ax.set_xlabel('Date')\n",
    "ax.set_ylabel('Total COVID-19 Recovered (Linear Scale)')\n",
    "plt.tight_layout()\n",
    "plt.show()"
   ]
  },
  {
   "cell_type": "code",
   "execution_count": null,
   "metadata": {},
   "outputs": [],
   "source": [
    "# Log Scale \n",
    "fig = plt.figure(figsize=(10,6))\n",
    "plt.style.use('ggplot')\n",
    "ax = fig.add_subplot(111)\n",
    "ax.plot(df_deaths['Date'], df_recovered['Total'], marker='o', color='crimson', linewidth=3) \n",
    "date = [datetime.strftime(d, '%b %d %Y AEDT') for d in df_confirmed['Date']]\n",
    "ax.xaxis.set_major_formatter(mdates.ConciseDateFormatter(date))  \n",
    "ax.set_yscale('log') \n",
    "# ax.set_title('Total Recovered')\n",
    "ax.set_xlabel('Date')\n",
    "ax.set_ylabel('Total COVID-19 Recovered (Log Scale)')\n",
    "plt.tight_layout()\n",
    "plt.show()"
   ]
  },
  {
   "cell_type": "markdown",
   "metadata": {},
   "source": [
    "## Linear & Logarithmic Line Plot for Total Cases, Deaths, Recovered(China)"
   ]
  },
  {
   "cell_type": "code",
   "execution_count": null,
   "metadata": {},
   "outputs": [],
   "source": [
    "# Linear Scale for Total Confirmed Cases in China \n",
    "fig = plt.figure(figsize=(10,6))\n",
    "plt.style.use('ggplot')\n",
    "ax = fig.add_subplot(111)\n",
    "ax.plot(df_confirmed['Date'], df_confirmed['Mainland China'], marker='o', color='blue', linewidth=3) \n",
    "# date = [datetime.strftime(d, '%b %d %Y AEDT') for d in df_confirmed['Date']]\n",
    "ax.xaxis.set_major_formatter(mdates.DateFormatter('%b-%d'))  \n",
    "ax.set_yscale('linear')\n",
    "# ax.set_title('Confirmed Cases in China')\n",
    "ax.set_xlabel('Date') \n",
    "ax.set_ylabel('Total COVID-19 Cases in China (Linear Scale)')\n",
    "plt.tight_layout()\n",
    "plt.show()"
   ]
  },
  {
   "cell_type": "code",
   "execution_count": null,
   "metadata": {},
   "outputs": [],
   "source": [
    "# Log Scale for Total Confirmed Cases in China \n",
    "fig = plt.figure(figsize=(10,6))\n",
    "plt.style.use('ggplot')\n",
    "ax = fig.add_subplot(111)\n",
    "ax.plot(df_confirmed['Date'], df_confirmed['Mainland China'], marker='o', color='purple', linewidth=3) \n",
    "# date = [datetime.strftime(d, '%b %d %Y AEDT') for d in df_confirmed['Date']]\n",
    "ax.xaxis.set_major_formatter(mdates.DateFormatter('%b-%d'))  \n",
    "ax.set_yscale('log')\n",
    "# ax.set_title('Confirmed Cases in China')\n",
    "ax.set_xlabel('Date') \n",
    "ax.set_ylabel('Total COVID-19 Cases in China (Linear Scale)')\n",
    "plt.tight_layout()\n",
    "plt.show()"
   ]
  },
  {
   "cell_type": "code",
   "execution_count": null,
   "metadata": {},
   "outputs": [],
   "source": [
    "# Linear Scale for Total Recovered Cases in China \n",
    "fig = plt.figure(figsize=(10,6))\n",
    "plt.style.use('ggplot')\n",
    "ax = fig.add_subplot(111)\n",
    "ax.plot(df_confirmed['Date'], df_recovered['Mainland China'], marker='o', color='crimson', linewidth=3) \n",
    "# date = [datetime.strftime(d, '%b %d %Y AEDT') for d in df_confirmed['Date']]\n",
    "ax.xaxis.set_major_formatter(mdates.DateFormatter('%b-%d'))  \n",
    "ax.set_yscale('linear')\n",
    "# ax.set_title('Confirmed Cases in China')\n",
    "ax.set_xlabel('Date')\n",
    "ax.set_ylabel('Total COVID-19 Cases in China (Linear Scale)')\n",
    "plt.tight_layout()\n",
    "plt.show()"
   ]
  },
  {
   "cell_type": "code",
   "execution_count": null,
   "metadata": {},
   "outputs": [],
   "source": [
    "# Log Scale for Total Recovered Cases in China \n",
    "fig = plt.figure(figsize=(10,6))\n",
    "plt.style.use('ggplot')\n",
    "ax = fig.add_subplot(111)\n",
    "ax.plot(df_confirmed['Date'], df_confirmed['Mainland China'], marker='o', color='crimson', linewidth=3) \n",
    "# date = [datetime.strftime(d, '%b %d %Y AEDT') for d in df_confirmed['Date']]\n",
    "ax.xaxis.set_major_formatter(mdates.DateFormatter('%b-%d'))  \n",
    "ax.set_yscale('log')\n",
    "# ax.set_title('Confirmed Cases in China')\n",
    "ax.set_xlabel('Date')\n",
    "ax.set_ylabel('Total COVID-19 Cases in China (Log Scale)')\n",
    "plt.tight_layout()\n",
    "plt.show()"
   ]
  },
  {
   "cell_type": "code",
   "execution_count": null,
   "metadata": {},
   "outputs": [],
   "source": [
    "# Linear Scale for Total Deaths Cases in China \n",
    "fig = plt.figure(figsize=(10,6))\n",
    "plt.style.use('ggplot')\n",
    "ax = fig.add_subplot(111)\n",
    "ax.plot(df_confirmed['Date'], df_deaths['Mainland China'], marker='o', color='crimson', linewidth=3) \n",
    "# date = [datetime.strftime(d, '%b %d %Y AEDT') for d in df_confirmed['Date']]\n",
    "ax.xaxis.set_major_formatter(mdates.DateFormatter('%b-%d'))  \n",
    "ax.set_yscale('linear')\n",
    "# ax.set_title('Confirmed Cases in China')\n",
    "ax.set_xlabel('Date')\n",
    "ax.set_ylabel('Total COVID-19 Cases in China (Log Scale)')\n",
    "plt.tight_layout()\n",
    "plt.show()"
   ]
  },
  {
   "cell_type": "code",
   "execution_count": null,
   "metadata": {},
   "outputs": [],
   "source": [
    "# Log Scale for Total Deaths Cases in China \n",
    "fig = plt.figure(figsize=(10,6))\n",
    "plt.style.use('ggplot')\n",
    "ax = fig.add_subplot(111)\n",
    "ax.plot(df_confirmed['Date'], df_deaths['Mainland China'], marker='o', color='crimson', linewidth=3) \n",
    "# date = [datetime.strftime(d, '%b %d %Y AEDT') for d in df_confirmed['Date']]\n",
    "ax.xaxis.set_major_formatter(mdates.DateFormatter('%b-%d'))  \n",
    "ax.set_yscale('log')\n",
    "# ax.set_title('Confirmed Cases in China')\n",
    "ax.set_xlabel('Date')\n",
    "ax.set_ylabel('Total COVID-19 Cases in China (Log Scale)')\n",
    "plt.tight_layout()\n",
    "plt.show()"
   ]
  },
  {
   "cell_type": "markdown",
   "metadata": {},
   "source": [
    "## Comparison"
   ]
  },
  {
   "cell_type": "code",
   "execution_count": null,
   "metadata": {},
   "outputs": [],
   "source": [
    "# Linear Scale for Comaprison Confirmed Cases \n",
    "fig = plt.figure(figsize=(10,6))\n",
    "plt.style.use('ggplot')\n",
    "ax = fig.add_subplot(111)\n",
    "ax.plot(df_confirmed['Date'], df_confirmed['Mainland China'], marker='o', color='crimson', linewidth=3, label=\"Mainland China\") \n",
    "ax.plot(df_confirmed['Date'], df_confirmed['Other locations'], marker='o', color='blue', linewidth=3, label=\"Other Region\") \n",
    "\n",
    "# date = [datetime.strftime(d, '%b %d %Y AEDT') for d in df_confirmed['Date']]\n",
    "ax.xaxis.set_major_formatter(mdates.DateFormatter('%b-%d'))  \n",
    "ax.set_yscale('linear')\n",
    "# ax.set_title('Confirmed Cases in China')\n",
    "ax.set_xlabel('Date')\n",
    "ax.set_ylabel('Total COVID-19 Confirmed Cases(Linear Scale)')\n",
    "plt.tight_layout()\n",
    "plt.show()"
   ]
  },
  {
   "cell_type": "code",
   "execution_count": null,
   "metadata": {},
   "outputs": [],
   "source": [
    "# Log Scale for Comparison Confirmed Cases \n",
    "fig = plt.figure(figsize=(10,6))\n",
    "plt.style.use('ggplot')\n",
    "ax = fig.add_subplot(111)\n",
    "ax.plot(df_confirmed['Date'], df_confirmed['Mainland China'], marker='o', color='crimson', linewidth=3, label=\"Mainland China\") \n",
    "ax.plot(df_confirmed['Date'], df_confirmed['Other locations'], marker='o', color='blue', linewidth=3, label=\"Other Region\") \n",
    "\n",
    "# date = [datetime.strftime(d, '%b %d %Y AEDT') for d in df_confirmed['Date']]\n",
    "ax.xaxis.set_major_formatter(mdates.DateFormatter('%b-%d'))  \n",
    "ax.set_yscale('log')\n",
    "# ax.set_title('Confirmed Cases in China')\n",
    "ax.set_xlabel('Date')\n",
    "ax.set_ylabel('Total COVID-19 Confirmed Cases(Log Scale)')\n",
    "plt.tight_layout()\n",
    "plt.show()"
   ]
  },
  {
   "cell_type": "code",
   "execution_count": null,
   "metadata": {},
   "outputs": [],
   "source": [
    "# Linear Scale for Comparison Recovered Cases \n",
    "fig = plt.figure(figsize=(10,6))\n",
    "plt.style.use('ggplot')\n",
    "ax = fig.add_subplot(111)\n",
    "ax.plot(df_confirmed['Date'], df_recovered['Mainland China'], marker='o', color='crimson', linewidth=3, label=\"Mainland China\") \n",
    "ax.plot(df_confirmed['Date'], df_recovered['Other locations'], marker='o', color='blue', linewidth=3, label=\"Other Region\") \n",
    "\n",
    "# date = [datetime.strftime(d, '%b %d %Y AEDT') for d in df_confirmed['Date']]\n",
    "ax.xaxis.set_major_formatter(mdates.DateFormatter('%b-%d'))  \n",
    "ax.set_yscale('linear')\n",
    "# ax.set_title('Confirmed Cases in China')\n",
    "ax.set_xlabel('Date')\n",
    "ax.set_ylabel('Total COVID-19 Recovered Cases(Linear Scale)')\n",
    "plt.tight_layout()\n",
    "plt.show()"
   ]
  },
  {
   "cell_type": "code",
   "execution_count": null,
   "metadata": {},
   "outputs": [],
   "source": [
    "# Log Scale for Comparison Recovered Cases \n",
    "fig = plt.figure(figsize=(10,6))\n",
    "plt.style.use('ggplot')\n",
    "ax = fig.add_subplot(111)\n",
    "ax.plot(df_confirmed['Date'], df_recovered['Mainland China'], marker='o', color='crimson', linewidth=3, label=\"Mainland China\") \n",
    "ax.plot(df_confirmed['Date'], df_recovered['Other locations'], marker='o', color='blue', linewidth=3, label=\"Other Region\") \n",
    "\n",
    "# date = [datetime.strftime(d, '%b %d %Y AEDT') for d in df_confirmed['Date']]\n",
    "ax.xaxis.set_major_formatter(mdates.DateFormatter('%b-%d'))  \n",
    "ax.set_yscale('log')\n",
    "# ax.set_title('Confirmed Cases in China')\n",
    "ax.set_xlabel('Date')\n",
    "ax.set_ylabel('Total COVID-19 Recovered Cases(Log Scale)')\n",
    "plt.tight_layout()\n",
    "plt.show()"
   ]
  },
  {
   "cell_type": "code",
   "execution_count": null,
   "metadata": {},
   "outputs": [],
   "source": [
    "# Linear Scale for Comparison Deaths Cases \n",
    "fig = plt.figure(figsize=(10,6))\n",
    "plt.style.use('ggplot')\n",
    "ax = fig.add_subplot(111)\n",
    "ax.plot(df_confirmed['Date'], df_deaths['Mainland China'], marker='o', color='crimson', linewidth=3, label=\"Mainland China\") \n",
    "ax.plot(df_confirmed['Date'], df_recovered['Other locations'], marker='o', color='blue', linewidth=3, label=\"Other Region\") \n",
    "\n",
    "# date = [datetime.strftime(d, '%b %d %Y AEDT') for d in df_confirmed['Date']]\n",
    "ax.xaxis.set_major_formatter(mdates.DateFormatter('%b-%d'))  \n",
    "ax.set_yscale('linear')\n",
    "# ax.set_title('Confirmed Cases in China')\n",
    "ax.set_xlabel('Date')\n",
    "ax.set_ylabel('Total COVID-19 Deaths Cases(Linear Scale)')\n",
    "plt.tight_layout()\n",
    "plt.show()"
   ]
  },
  {
   "cell_type": "code",
   "execution_count": null,
   "metadata": {},
   "outputs": [],
   "source": [
    "# Linear Scale for Comparison Deaths Cases \n",
    "fig = plt.figure(figsize=(10,6))\n",
    "plt.style.use('ggplot')\n",
    "ax = fig.add_subplot(111)\n",
    "ax.plot(df_confirmed['Date'], df_deaths['Mainland China'], marker='o', color='crimson', linewidth=3, label=\"Mainland China\") \n",
    "ax.plot(df_confirmed['Date'], df_recovered['Other locations'], marker='o', color='blue', linewidth=3, label=\"Other Region\") \n",
    "\n",
    "# date = [datetime.strftime(d, '%b %d %Y AEDT') for d in df_confirmed['Date']]\n",
    "ax.xaxis.set_major_formatter(mdates.DateFormatter('%b-%d'))  \n",
    "ax.set_yscale('log')\n",
    "# ax.set_title('Confirmed Cases in China')\n",
    "ax.set_xlabel('Date')\n",
    "ax.set_ylabel('Total COVID-19 Deaths Cases(Log Scale)')\n",
    "plt.tight_layout()\n",
    "plt.show()"
   ]
  },
  {
   "cell_type": "markdown",
   "metadata": {},
   "source": [
    "## Subplots "
   ]
  },
  {
   "cell_type": "code",
   "execution_count": null,
   "metadata": {},
   "outputs": [],
   "source": [
    "fig = plt.figure(figsize=(10,6))\n",
    "plt.style.use('fivethirtyeight')\n",
    "ax = fig.add_subplot(111)\n",
    "ax.plot(df_deaths['Date'], df_recovered['Total'], marker='o', color='crimson', linewidth=3) \n",
    "date = [datetime.strftime(d, '%b %d %Y AEDT') for d in df_confirmed['Date']]\n",
    "ax.xaxis.set_major_formatter(mdates.ConciseDateFormatter(date))  \n",
    "ax.set_yscale('log') \n",
    "ax.set_title('Total Recovered')\n",
    "ax.set_xlabel('Date')\n",
    "ax.set_ylabel('Total COVID-19 Recovered (Linear Scale)')\n",
    "plt.tight_layout()\n",
    "plt.show()"
   ]
  },
  {
   "cell_type": "code",
   "execution_count": null,
   "metadata": {},
   "outputs": [],
   "source": [
    "fig , ax = plt.subplot(121)\n",
    "ax.plot(df_confirmed['Date'], df_confirmed['Total'], marker='o', color='blue', linewidth=3) \n",
    "date = [datetime.strftime(d, '%b %d') for d in df_confirmed['Date']]\n",
    "ax.xaxis.set_major_formatter(mdates.ConciseDateFormatter(date))  \n",
    "ax.set_yscale('linear') \n",
    "ax.set_title('Total Recovered')\n",
    "ax.set_xlabel('Date')\n",
    "ax.set_ylabel('Total COVID-19 Recovered (Linear Scale)')\n",
    "\n",
    "\n",
    "ax.plot(df_confirmed['Date'], df_confirmed['Total'], marker='o', color='blue', linewidth=3) \n",
    "date = [datetime.strftime(d, '%b %d') for d in df_confirmed['Date']]\n",
    "ax.xaxis.set_major_formatter(mdates.ConciseDateFormatter(date))  \n",
    "ax.set_yscale('log') \n",
    "ax.set_title('Total Recovered')\n",
    "ax.set_xlabel('Date')\n",
    "ax.set_ylabel('Total COVID-19 Recovered (Log Scale)')\n",
    "plt.tight_layout()\n",
    "plt.show()"
   ]
  },
  {
   "cell_type": "code",
   "execution_count": 131,
   "metadata": {},
   "outputs": [
    {
     "data": {
      "image/png": "[encoded data removed]",
      "text/plain": [
       "<Figure size 432x288 with 1 Axes>"
      ]
     },
     "metadata": {},
     "output_type": "display_data"
    },
    {
     "data": {
      "image/png": "[encoded data removed]",
      "text/plain": [
       "<Figure size 432x288 with 1 Axes>"
      ]
     },
     "metadata": {},
     "output_type": "display_data"
    },
    {
     "data": {
      "text/plain": [
       "<Figure size 720x432 with 0 Axes>"
      ]
     },
     "metadata": {},
     "output_type": "display_data"
    },
    {
     "data": {
      "text/plain": [
       "<Figure size 720x432 with 0 Axes>"
      ]
     },
     "metadata": {},
     "output_type": "display_data"
    }
   ],
   "source": [
    "fig1, ax1 = plt.subplots()\n",
    "fig2, ax2 = plt.subplots()\n",
    "fig1 = plt.figure(figsize=(10,6))\n",
    "fig2 = plt.figure(figsize=(10,6))\n",
    "\n",
    "ax1.plot(df_confirmed['Date'], df_confirmed['Total'], marker='o', color='blue', linewidth=3) \n",
    "ax1.xaxis.set_major_formatter(mdates.DateFormatter('%b-%d'))   \n",
    "ax1.set_yscale('linear') \n",
    "ax1.set_title('Total Recovered')\n",
    "ax1.set_xlabel('Date')\n",
    "ax1.set_ylabel('Total COVID-19 Recovered (Linear Scale)')\n",
    "\n",
    "ax2.plot(df_confirmed['Date'], df_confirmed['Total'], marker='o', color='blue', linewidth=3) \n",
    "ax1.xaxis.set_major_formatter(mdates.DateFormatter('%b-%d'))   \n",
    "ax2.set_yscale('log') \n",
    "ax2.set_title('Total Recovered')\n",
    "ax2.set_xlabel('Date')\n",
    "ax2.set_ylabel('Total COVID-19 Recovered (Log Scale)')\n",
    "\n",
    "\n",
    "plt.tight_layout()\n",
    "\n",
    "plt.show()"
   ]
  },
  {
   "cell_type": "code",
   "execution_count": 12,
   "metadata": {},
   "outputs": [
    {
     "data": {
      "text/html": [
       "<style type=\"text/css\">\n",
       "table.dataframe td, table.dataframe th {\n",
       "    border: 1px  black solid !important;\n",
       "  color: black !important;\n",
       "}\n",
       "</style>\n"
      ],
      "text/plain": [
       "<IPython.core.display.HTML object>"
      ]
     },
     "metadata": {},
     "output_type": "display_data"
    }
   ],
   "source": [
    "%%HTML\n",
    "<style type=\"text/css\">\n",
    "table.dataframe td, table.dataframe th {\n",
    "    border: 1px  black solid !important;\n",
    "  color: black !important;\n",
    "}\n",
    "</style>"
   ]
  },
  {
   "cell_type": "markdown",
   "metadata": {},
   "source": [
    "- Data Source-https://github.com/Perishleaf/data-visualisation-scripts/blob/master/dash-2019-coronavirus/data.xls"
   ]
  }
 ],
 "metadata": {
  "kernelspec": {
   "display_name": "Python 3",
   "language": "python",
   "name": "python3"
  },
  "language_info": {
   "codemirror_mode": {
    "name": "ipython",
    "version": 3
   },
   "file_extension": ".py",
   "mimetype": "text/x-python",
   "name": "python",
   "nbconvert_exporter": "python",
   "pygments_lexer": "ipython3",
   "version": "3.7.4"
  },
  "latex_envs": {
   "LaTeX_envs_menu_present": true,
   "autoclose": false,
   "autocomplete": true,
   "bibliofile": "biblio.bib",
   "cite_by": "apalike",
   "current_citInitial": 1,
   "eqLabelWithNumbers": true,
   "eqNumInitial": 1,
   "hotkeys": {
    "equation": "Ctrl-E",
    "itemize": "Ctrl-I"
   },
   "labels_anchors": false,
   "latex_user_defs": false,
   "report_style_numbering": false,
   "user_envs_cfg": false
  },
  "toc": {
   "base_numbering": 1,
   "nav_menu": {},
   "number_sections": true,
   "sideBar": true,
   "skip_h1_title": false,
   "title_cell": "Table of Contents",
   "title_sidebar": "Contents",
   "toc_cell": false,
   "toc_position": {},
   "toc_section_display": true,
   "toc_window_display": false
  }
 },
 "nbformat": 4,
 "nbformat_minor": 2
}
