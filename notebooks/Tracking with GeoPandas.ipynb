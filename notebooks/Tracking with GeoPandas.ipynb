{
 "cells": [
  {
   "cell_type": "code",
   "execution_count": 1,
   "metadata": {},
   "outputs": [],
   "source": [
    "# Data Analysis\n",
    "import numpy as np \n",
    "import pandas as pd \n",
    "import geopandas as gpd \n",
    "\n",
    "# Data Visualizations \n",
    "import matplotlib.pyplot as plt\n",
    "import matplotlib.dates as mdates \n",
    "import seaborn as sns \n",
    "import plotly.express as px "
   ]
  },
  {
   "cell_type": "code",
   "execution_count": 3,
   "metadata": {},
   "outputs": [],
   "source": [
    "# Read data from live data sources \n",
    "import requests\n",
    "url = 'https://www.worldometers.info/coronavirus/'\n",
    "r = requests.get(url, headers=None)\n",
    "dfs = pd.read_html(r.text)"
   ]
  },
  {
   "cell_type": "code",
   "execution_count": 4,
   "metadata": {},
   "outputs": [
    {
     "name": "stdout",
     "output_type": "stream",
     "text": [
      "    Country,Other  TotalCases NewCases  TotalDeaths  NewDeaths  \\\n",
      "0           China       81093      +39       3270.0        9.0   \n",
      "1           Italy       59138      NaN       5476.0        NaN   \n",
      "2             USA       35070   +1,524        458.0       39.0   \n",
      "3           Spain       33089   +4,321       2182.0      410.0   \n",
      "4         Germany       26198   +1,325        111.0       17.0   \n",
      "..            ...         ...      ...          ...        ...   \n",
      "189       Somalia           1      NaN          NaN        NaN   \n",
      "190         Syria           1      NaN          NaN        NaN   \n",
      "191   Timor-Leste           1      NaN          NaN        NaN   \n",
      "192        Uganda           1      NaN          NaN        NaN   \n",
      "193        Total:      349090    11660      15297.0      659.0   \n",
      "\n",
      "     TotalRecovered  ActiveCases  Serious,Critical  Tot Cases/1M pop  \n",
      "0           72703.0         5120            1749.0             56.00  \n",
      "1            7024.0        46638            3000.0            978.00  \n",
      "2             178.0        34434             795.0            106.00  \n",
      "3            3355.0        27552            2355.0            708.00  \n",
      "4             266.0        25821              23.0            313.00  \n",
      "..              ...          ...               ...               ...  \n",
      "189             NaN            1               NaN              0.06  \n",
      "190             NaN            1               NaN              0.06  \n",
      "191             NaN            1               NaN              0.80  \n",
      "192             NaN            1               NaN              0.02  \n",
      "193        100330.0       233463           11203.0             44.80  \n",
      "\n",
      "[194 rows x 9 columns]\n",
      "    Country,Other  TotalCases NewCases  TotalDeaths  NewDeaths  \\\n",
      "0           China       81054      +46       3261.0        6.0   \n",
      "1           Italy       59138   +5,560       5476.0      651.0   \n",
      "2             USA       33546   +9,339        419.0      117.0   \n",
      "3           Spain       28768   +3,272       1772.0      391.0   \n",
      "4         Germany       24873   +2,509         94.0       10.0   \n",
      "..            ...         ...      ...          ...        ...   \n",
      "189       Somalia           1      NaN          NaN        NaN   \n",
      "190         Syria           1       +1          NaN        NaN   \n",
      "191   Timor-Leste           1      NaN          NaN        NaN   \n",
      "192        Uganda           1      NaN          NaN        NaN   \n",
      "193        Total:      337430    32440      14638.0     1631.0   \n",
      "\n",
      "     TotalRecovered  ActiveCases  Serious,Critical  Tot Cases/1M pop  \n",
      "0           72440.0         5353            1845.0             56.00  \n",
      "1            7024.0        46638            3000.0            978.00  \n",
      "2             178.0        32949             795.0            101.00  \n",
      "3            2575.0        24421            1785.0            615.00  \n",
      "4             266.0        24513              23.0            297.00  \n",
      "..              ...          ...               ...               ...  \n",
      "189             NaN            1               NaN              0.06  \n",
      "190             NaN            1               NaN              0.06  \n",
      "191             NaN            1               NaN              0.80  \n",
      "192             NaN            1               NaN              0.02  \n",
      "193         98364.0       224428           10649.0             43.30  \n",
      "\n",
      "[194 rows x 9 columns]\n"
     ]
    }
   ],
   "source": [
    "for df in dfs: \n",
    "    print(df)    "
   ]
  },
  {
   "cell_type": "code",
   "execution_count": 5,
   "metadata": {},
   "outputs": [
    {
     "data": {
      "text/html": [
       "<div>\n",
       "<style scoped>\n",
       "    .dataframe tbody tr th:only-of-type {\n",
       "        vertical-align: middle;\n",
       "    }\n",
       "\n",
       "    .dataframe tbody tr th {\n",
       "        vertical-align: top;\n",
       "    }\n",
       "\n",
       "    .dataframe thead th {\n",
       "        text-align: right;\n",
       "    }\n",
       "</style>\n",
       "<table border=\"1\" class=\"dataframe\">\n",
       "  <thead>\n",
       "    <tr style=\"text-align: right;\">\n",
       "      <th></th>\n",
       "      <th>Country,Other</th>\n",
       "      <th>TotalCases</th>\n",
       "      <th>NewCases</th>\n",
       "      <th>TotalDeaths</th>\n",
       "      <th>NewDeaths</th>\n",
       "      <th>TotalRecovered</th>\n",
       "      <th>ActiveCases</th>\n",
       "      <th>Serious,Critical</th>\n",
       "      <th>Tot Cases/1M pop</th>\n",
       "    </tr>\n",
       "  </thead>\n",
       "  <tbody>\n",
       "    <tr>\n",
       "      <td>0</td>\n",
       "      <td>China</td>\n",
       "      <td>81054</td>\n",
       "      <td>+46</td>\n",
       "      <td>3261.0</td>\n",
       "      <td>6.0</td>\n",
       "      <td>72440.0</td>\n",
       "      <td>5353</td>\n",
       "      <td>1845.0</td>\n",
       "      <td>56.0</td>\n",
       "    </tr>\n",
       "    <tr>\n",
       "      <td>1</td>\n",
       "      <td>Italy</td>\n",
       "      <td>59138</td>\n",
       "      <td>+5,560</td>\n",
       "      <td>5476.0</td>\n",
       "      <td>651.0</td>\n",
       "      <td>7024.0</td>\n",
       "      <td>46638</td>\n",
       "      <td>3000.0</td>\n",
       "      <td>978.0</td>\n",
       "    </tr>\n",
       "    <tr>\n",
       "      <td>2</td>\n",
       "      <td>USA</td>\n",
       "      <td>33546</td>\n",
       "      <td>+9,339</td>\n",
       "      <td>419.0</td>\n",
       "      <td>117.0</td>\n",
       "      <td>178.0</td>\n",
       "      <td>32949</td>\n",
       "      <td>795.0</td>\n",
       "      <td>101.0</td>\n",
       "    </tr>\n",
       "    <tr>\n",
       "      <td>3</td>\n",
       "      <td>Spain</td>\n",
       "      <td>28768</td>\n",
       "      <td>+3,272</td>\n",
       "      <td>1772.0</td>\n",
       "      <td>391.0</td>\n",
       "      <td>2575.0</td>\n",
       "      <td>24421</td>\n",
       "      <td>1785.0</td>\n",
       "      <td>615.0</td>\n",
       "    </tr>\n",
       "    <tr>\n",
       "      <td>4</td>\n",
       "      <td>Germany</td>\n",
       "      <td>24873</td>\n",
       "      <td>+2,509</td>\n",
       "      <td>94.0</td>\n",
       "      <td>10.0</td>\n",
       "      <td>266.0</td>\n",
       "      <td>24513</td>\n",
       "      <td>23.0</td>\n",
       "      <td>297.0</td>\n",
       "    </tr>\n",
       "  </tbody>\n",
       "</table>\n",
       "</div>"
      ],
      "text/plain": [
       "  Country,Other  TotalCases NewCases  TotalDeaths  NewDeaths  TotalRecovered  \\\n",
       "0         China       81054      +46       3261.0        6.0         72440.0   \n",
       "1         Italy       59138   +5,560       5476.0      651.0          7024.0   \n",
       "2           USA       33546   +9,339        419.0      117.0           178.0   \n",
       "3         Spain       28768   +3,272       1772.0      391.0          2575.0   \n",
       "4       Germany       24873   +2,509         94.0       10.0           266.0   \n",
       "\n",
       "   ActiveCases  Serious,Critical  Tot Cases/1M pop  \n",
       "0         5353            1845.0              56.0  \n",
       "1        46638            3000.0             978.0  \n",
       "2        32949             795.0             101.0  \n",
       "3        24421            1785.0             615.0  \n",
       "4        24513              23.0             297.0  "
      ]
     },
     "execution_count": 5,
     "metadata": {},
     "output_type": "execute_result"
    }
   ],
   "source": [
    "# Examine few rows \n",
    "df.head()"
   ]
  },
  {
   "cell_type": "code",
   "execution_count": 7,
   "metadata": {},
   "outputs": [
    {
     "data": {
      "text/plain": [
       "pandas.core.frame.DataFrame"
      ]
     },
     "execution_count": 7,
     "metadata": {},
     "output_type": "execute_result"
    }
   ],
   "source": [
    "# Check data type \n",
    "type(df) "
   ]
  },
  {
   "cell_type": "code",
   "execution_count": 8,
   "metadata": {},
   "outputs": [
    {
     "data": {
      "text/plain": [
       "TotalCases    337430\n",
       "dtype: int64"
      ]
     },
     "execution_count": 8,
     "metadata": {},
     "output_type": "execute_result"
    }
   ],
   "source": [
    "# Total Cases \n",
    "df[['TotalCases']].dropna().astype(int).max()"
   ]
  },
  {
   "cell_type": "code",
   "execution_count": 9,
   "metadata": {},
   "outputs": [
    {
     "data": {
      "text/plain": [
       "TotalDeaths    14638\n",
       "dtype: int64"
      ]
     },
     "execution_count": 9,
     "metadata": {},
     "output_type": "execute_result"
    }
   ],
   "source": [
    "# Total deaths \n",
    "df[['TotalDeaths']].dropna().astype(int).max()"
   ]
  },
  {
   "cell_type": "code",
   "execution_count": 10,
   "metadata": {},
   "outputs": [
    {
     "data": {
      "text/plain": [
       "NewDeaths    1631\n",
       "dtype: int64"
      ]
     },
     "execution_count": 10,
     "metadata": {},
     "output_type": "execute_result"
    }
   ],
   "source": [
    "# New deaths \n",
    "df[['NewDeaths']].dropna().astype(int).max()"
   ]
  },
  {
   "cell_type": "code",
   "execution_count": 11,
   "metadata": {},
   "outputs": [
    {
     "data": {
      "text/plain": [
       "TotalRecovered    98364\n",
       "dtype: int64"
      ]
     },
     "execution_count": 11,
     "metadata": {},
     "output_type": "execute_result"
    }
   ],
   "source": [
    "# Total recovered \n",
    "df[['TotalRecovered']].dropna().astype(int).max()"
   ]
  },
  {
   "cell_type": "code",
   "execution_count": 12,
   "metadata": {},
   "outputs": [
    {
     "data": {
      "text/plain": [
       "ActiveCases    224428\n",
       "dtype: int64"
      ]
     },
     "execution_count": 12,
     "metadata": {},
     "output_type": "execute_result"
    }
   ],
   "source": [
    "# Active cases \n",
    "df[['ActiveCases']].dropna().astype(int).max()"
   ]
  },
  {
   "cell_type": "code",
   "execution_count": 13,
   "metadata": {},
   "outputs": [
    {
     "data": {
      "text/plain": [
       "Serious,Critical    10649\n",
       "dtype: int64"
      ]
     },
     "execution_count": 13,
     "metadata": {},
     "output_type": "execute_result"
    }
   ],
   "source": [
    "# Serious conditions\n",
    "df[['Serious,Critical']].dropna().astype(int).max()"
   ]
  },
  {
   "cell_type": "code",
   "execution_count": 14,
   "metadata": {},
   "outputs": [
    {
     "name": "stdout",
     "output_type": "stream",
     "text": [
      "61724\n"
     ]
    }
   ],
   "source": [
    "# MildCondition = ActiveCases - Serious,Critical Conditions \n",
    "MildCondition = 67714 - 5990\n",
    "print(MildCondition)"
   ]
  },
  {
   "cell_type": "code",
   "execution_count": null,
   "metadata": {},
   "outputs": [],
   "source": [
    "# Filling missing values \n",
    "data_cases.loc[:, 'TotalCases'].fillna(value=0, inplace=True)\n",
    "data_cases.loc[:, 'NewCases'].fillna(value=0, inplace=True)\n",
    "data_cases.loc[:, 'TotalDeaths'].fillna(value=0, inplace=True) \n",
    "data_cases.loc[:, 'NewDeaths'].fillna(value=0, inplace=True)\n",
    "data_cases.loc[:, 'TotalRecovered'].fillna(value=0, inplace=True)\n",
    "data_cases.loc[:, 'ActiveCases'].fillna(value=0, inplace=True)\n",
    "data_cases.loc[:, 'Serious,Critical'].fillna(value=0, inplace=True)"
   ]
  },
  {
   "cell_type": "code",
   "execution_count": null,
   "metadata": {},
   "outputs": [],
   "source": [
    "# Export dataset for cleaning and exploring \n",
    "df.to_csv('covid-19.csv', index=False, encoding='utf-8')"
   ]
  },
  {
   "cell_type": "code",
   "execution_count": 6,
   "metadata": {},
   "outputs": [
    {
     "data": {
      "text/html": [
       "<style type=\"text/css\">\n",
       "table.dataframe td, table.dataframe th {\n",
       "    border: 1px  black solid !important;\n",
       "  color: black !important;\n",
       "}\n",
       "</style>\n"
      ],
      "text/plain": [
       "<IPython.core.display.HTML object>"
      ]
     },
     "metadata": {},
     "output_type": "display_data"
    }
   ],
   "source": [
    "%%HTML\n",
    "<style type=\"text/css\">\n",
    "table.dataframe td, table.dataframe th {\n",
    "    border: 1px  black solid !important;\n",
    "  color: black !important;\n",
    "}\n",
    "</style>"
   ]
  }
 ],
 "metadata": {
  "kernelspec": {
   "display_name": "Python 3",
   "language": "python",
   "name": "python3"
  },
  "language_info": {
   "codemirror_mode": {
    "name": "ipython",
    "version": 3
   },
   "file_extension": ".py",
   "mimetype": "text/x-python",
   "name": "python",
   "nbconvert_exporter": "python",
   "pygments_lexer": "ipython3",
   "version": "3.7.4"
  },
  "latex_envs": {
   "LaTeX_envs_menu_present": true,
   "autoclose": false,
   "autocomplete": true,
   "bibliofile": "biblio.bib",
   "cite_by": "apalike",
   "current_citInitial": 1,
   "eqLabelWithNumbers": true,
   "eqNumInitial": 1,
   "hotkeys": {
    "equation": "Ctrl-E",
    "itemize": "Ctrl-I"
   },
   "labels_anchors": false,
   "latex_user_defs": false,
   "report_style_numbering": false,
   "user_envs_cfg": false
  },
  "toc": {
   "base_numbering": 1,
   "nav_menu": {},
   "number_sections": true,
   "sideBar": true,
   "skip_h1_title": false,
   "title_cell": "Table of Contents",
   "title_sidebar": "Contents",
   "toc_cell": false,
   "toc_position": {},
   "toc_section_display": true,
   "toc_window_display": false
  }
 },
 "nbformat": 4,
 "nbformat_minor": 2
}
